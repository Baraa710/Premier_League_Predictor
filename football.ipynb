{
  "cells": [
    {
      "cell_type": "markdown",
      "metadata": {
        "id": "view-in-github",
        "colab_type": "text"
      },
      "source": [
        "<a href=\"https://colab.research.google.com/github/Baraa710/Premier_League_Predictor/blob/main/football.ipynb\" target=\"_parent\"><img src=\"https://colab.research.google.com/assets/colab-badge.svg\" alt=\"Open In Colab\"/></a>"
      ]
    },
    {
      "cell_type": "code",
      "execution_count": null,
      "metadata": {
        "colab": {
          "base_uri": "https://localhost:8080/"
        },
        "id": "cTY8TW6Z-_hj",
        "outputId": "8242f5f4-9430-4df7-8749-eadff2cac45a"
      },
      "outputs": [
        {
          "name": "stdout",
          "output_type": "stream",
          "text": [
            "Mounted at /content/drive\n"
          ]
        }
      ],
      "source": [
        "from google.colab import drive\n",
        "drive.mount('/content/drive')"
      ]
    },
    {
      "cell_type": "code",
      "execution_count": null,
      "metadata": {
        "id": "XnBnVZ1pwo1D"
      },
      "outputs": [],
      "source": [
        "import pandas as pd\n",
        "import matplotlib.pyplot as plt\n",
        "import torch\n",
        "import torch.nn as nn\n",
        "import torch.nn.functional as F\n",
        "import torch.optim as optim\n",
        "import matplotlib.pyplot as plt\n",
        "from torch.utils.data import TensorDataset, DataLoader\n",
        "from sklearn.preprocessing import MinMaxScaler\n",
        "\n",
        "\n"
      ]
    },
    {
      "cell_type": "code",
      "execution_count": null,
      "metadata": {
        "id": "M6-2ECeAXbuO"
      },
      "outputs": [],
      "source": [
        "# Read the Excel file\n",
        "df = pd.read_excel(\"/content/drive/MyDrive/APS360_Project/Match_Data/FinalMatchData.xlsx\")"
      ]
    },
    {
      "cell_type": "code",
      "execution_count": null,
      "metadata": {
        "id": "jFI48tDmG0Po"
      },
      "outputs": [],
      "source": [
        "df = df.drop(columns=['Unnamed: 0'])"
      ]
    },
    {
      "cell_type": "code",
      "execution_count": null,
      "metadata": {
        "colab": {
          "base_uri": "https://localhost:8080/",
          "height": 461
        },
        "id": "8Xa7odkaHbZv",
        "outputId": "24c12997-f7b0-43cb-f592-8ecef42a05e1"
      },
      "outputs": [
        {
          "data": {
            "application/vnd.google.colaboratory.intrinsic+json": {
              "type": "dataframe",
              "variable_name": "df"
            },
            "text/html": [
              "\n",
              "  <div id=\"df-044ceb4c-a03c-4075-b412-0c9151443c2b\" class=\"colab-df-container\">\n",
              "    <div>\n",
              "<style scoped>\n",
              "    .dataframe tbody tr th:only-of-type {\n",
              "        vertical-align: middle;\n",
              "    }\n",
              "\n",
              "    .dataframe tbody tr th {\n",
              "        vertical-align: top;\n",
              "    }\n",
              "\n",
              "    .dataframe thead th {\n",
              "        text-align: right;\n",
              "    }\n",
              "</style>\n",
              "<table border=\"1\" class=\"dataframe\">\n",
              "  <thead>\n",
              "    <tr style=\"text-align: right;\">\n",
              "      <th></th>\n",
              "      <th>Wk</th>\n",
              "      <th>winner</th>\n",
              "      <th>home wins</th>\n",
              "      <th>away wins</th>\n",
              "      <th>home games</th>\n",
              "      <th>away games</th>\n",
              "      <th>predicted_winner</th>\n",
              "      <th>Age_home_player_2</th>\n",
              "      <th>MP_home_player_2</th>\n",
              "      <th>Min_home_player_2</th>\n",
              "      <th>...</th>\n",
              "      <th>PK_away</th>\n",
              "      <th>PKatt_away</th>\n",
              "      <th>CrdY_away</th>\n",
              "      <th>CrdR_away</th>\n",
              "      <th>GA_away</th>\n",
              "      <th>SoTA_away</th>\n",
              "      <th>Saves_away</th>\n",
              "      <th>CS_away</th>\n",
              "      <th>SoT_away</th>\n",
              "      <th>PremierLeague_away</th>\n",
              "    </tr>\n",
              "  </thead>\n",
              "  <tbody>\n",
              "    <tr>\n",
              "      <th>0</th>\n",
              "      <td>1</td>\n",
              "      <td>0</td>\n",
              "      <td>0</td>\n",
              "      <td>0</td>\n",
              "      <td>0</td>\n",
              "      <td>0</td>\n",
              "      <td>2</td>\n",
              "      <td>24.0</td>\n",
              "      <td>32.0</td>\n",
              "      <td>2685.0</td>\n",
              "      <td>...</td>\n",
              "      <td>NaN</td>\n",
              "      <td>NaN</td>\n",
              "      <td>NaN</td>\n",
              "      <td>NaN</td>\n",
              "      <td>NaN</td>\n",
              "      <td>NaN</td>\n",
              "      <td>NaN</td>\n",
              "      <td>NaN</td>\n",
              "      <td>NaN</td>\n",
              "      <td>NaN</td>\n",
              "    </tr>\n",
              "    <tr>\n",
              "      <th>1</th>\n",
              "      <td>1</td>\n",
              "      <td>0</td>\n",
              "      <td>0</td>\n",
              "      <td>0</td>\n",
              "      <td>0</td>\n",
              "      <td>0</td>\n",
              "      <td>2</td>\n",
              "      <td>31.0</td>\n",
              "      <td>14.0</td>\n",
              "      <td>897.0</td>\n",
              "      <td>...</td>\n",
              "      <td>NaN</td>\n",
              "      <td>NaN</td>\n",
              "      <td>NaN</td>\n",
              "      <td>NaN</td>\n",
              "      <td>NaN</td>\n",
              "      <td>NaN</td>\n",
              "      <td>NaN</td>\n",
              "      <td>NaN</td>\n",
              "      <td>NaN</td>\n",
              "      <td>NaN</td>\n",
              "    </tr>\n",
              "    <tr>\n",
              "      <th>2</th>\n",
              "      <td>1</td>\n",
              "      <td>0</td>\n",
              "      <td>0</td>\n",
              "      <td>0</td>\n",
              "      <td>0</td>\n",
              "      <td>0</td>\n",
              "      <td>2</td>\n",
              "      <td>28.0</td>\n",
              "      <td>38.0</td>\n",
              "      <td>3420.0</td>\n",
              "      <td>...</td>\n",
              "      <td>NaN</td>\n",
              "      <td>NaN</td>\n",
              "      <td>NaN</td>\n",
              "      <td>NaN</td>\n",
              "      <td>NaN</td>\n",
              "      <td>NaN</td>\n",
              "      <td>NaN</td>\n",
              "      <td>NaN</td>\n",
              "      <td>NaN</td>\n",
              "      <td>NaN</td>\n",
              "    </tr>\n",
              "    <tr>\n",
              "      <th>3</th>\n",
              "      <td>1</td>\n",
              "      <td>2</td>\n",
              "      <td>0</td>\n",
              "      <td>0</td>\n",
              "      <td>0</td>\n",
              "      <td>0</td>\n",
              "      <td>2</td>\n",
              "      <td>19.0</td>\n",
              "      <td>21.0</td>\n",
              "      <td>1541.0</td>\n",
              "      <td>...</td>\n",
              "      <td>NaN</td>\n",
              "      <td>NaN</td>\n",
              "      <td>NaN</td>\n",
              "      <td>NaN</td>\n",
              "      <td>NaN</td>\n",
              "      <td>NaN</td>\n",
              "      <td>NaN</td>\n",
              "      <td>NaN</td>\n",
              "      <td>NaN</td>\n",
              "      <td>NaN</td>\n",
              "    </tr>\n",
              "    <tr>\n",
              "      <th>4</th>\n",
              "      <td>1</td>\n",
              "      <td>0</td>\n",
              "      <td>0</td>\n",
              "      <td>0</td>\n",
              "      <td>0</td>\n",
              "      <td>0</td>\n",
              "      <td>2</td>\n",
              "      <td>21.0</td>\n",
              "      <td>31.0</td>\n",
              "      <td>2651.0</td>\n",
              "      <td>...</td>\n",
              "      <td>NaN</td>\n",
              "      <td>NaN</td>\n",
              "      <td>NaN</td>\n",
              "      <td>NaN</td>\n",
              "      <td>NaN</td>\n",
              "      <td>NaN</td>\n",
              "      <td>NaN</td>\n",
              "      <td>NaN</td>\n",
              "      <td>NaN</td>\n",
              "      <td>NaN</td>\n",
              "    </tr>\n",
              "    <tr>\n",
              "      <th>...</th>\n",
              "      <td>...</td>\n",
              "      <td>...</td>\n",
              "      <td>...</td>\n",
              "      <td>...</td>\n",
              "      <td>...</td>\n",
              "      <td>...</td>\n",
              "      <td>...</td>\n",
              "      <td>...</td>\n",
              "      <td>...</td>\n",
              "      <td>...</td>\n",
              "      <td>...</td>\n",
              "      <td>...</td>\n",
              "      <td>...</td>\n",
              "      <td>...</td>\n",
              "      <td>...</td>\n",
              "      <td>...</td>\n",
              "      <td>...</td>\n",
              "      <td>...</td>\n",
              "      <td>...</td>\n",
              "      <td>...</td>\n",
              "      <td>...</td>\n",
              "    </tr>\n",
              "    <tr>\n",
              "      <th>6454</th>\n",
              "      <td>38</td>\n",
              "      <td>0</td>\n",
              "      <td>7</td>\n",
              "      <td>11</td>\n",
              "      <td>37</td>\n",
              "      <td>37</td>\n",
              "      <td>1</td>\n",
              "      <td>29.0</td>\n",
              "      <td>38.0</td>\n",
              "      <td>3420.0</td>\n",
              "      <td>...</td>\n",
              "      <td>4.0</td>\n",
              "      <td>5.0</td>\n",
              "      <td>99.0</td>\n",
              "      <td>5.0</td>\n",
              "      <td>39.0</td>\n",
              "      <td>153.0</td>\n",
              "      <td>117.0</td>\n",
              "      <td>21.0</td>\n",
              "      <td>204.0</td>\n",
              "      <td>0.0</td>\n",
              "    </tr>\n",
              "    <tr>\n",
              "      <th>6455</th>\n",
              "      <td>38</td>\n",
              "      <td>0</td>\n",
              "      <td>8</td>\n",
              "      <td>11</td>\n",
              "      <td>37</td>\n",
              "      <td>37</td>\n",
              "      <td>1</td>\n",
              "      <td>24.0</td>\n",
              "      <td>31.0</td>\n",
              "      <td>2786.0</td>\n",
              "      <td>...</td>\n",
              "      <td>4.0</td>\n",
              "      <td>6.0</td>\n",
              "      <td>52.0</td>\n",
              "      <td>3.0</td>\n",
              "      <td>51.0</td>\n",
              "      <td>165.0</td>\n",
              "      <td>113.0</td>\n",
              "      <td>8.0</td>\n",
              "      <td>142.0</td>\n",
              "      <td>1.0</td>\n",
              "    </tr>\n",
              "    <tr>\n",
              "      <th>6456</th>\n",
              "      <td>38</td>\n",
              "      <td>0</td>\n",
              "      <td>17</td>\n",
              "      <td>18</td>\n",
              "      <td>37</td>\n",
              "      <td>37</td>\n",
              "      <td>1</td>\n",
              "      <td>24.0</td>\n",
              "      <td>26.0</td>\n",
              "      <td>1820.0</td>\n",
              "      <td>...</td>\n",
              "      <td>4.0</td>\n",
              "      <td>7.0</td>\n",
              "      <td>72.0</td>\n",
              "      <td>2.0</td>\n",
              "      <td>44.0</td>\n",
              "      <td>146.0</td>\n",
              "      <td>102.0</td>\n",
              "      <td>11.0</td>\n",
              "      <td>141.0</td>\n",
              "      <td>1.0</td>\n",
              "    </tr>\n",
              "    <tr>\n",
              "      <th>6457</th>\n",
              "      <td>38</td>\n",
              "      <td>1</td>\n",
              "      <td>7</td>\n",
              "      <td>17</td>\n",
              "      <td>37</td>\n",
              "      <td>37</td>\n",
              "      <td>1</td>\n",
              "      <td>30.0</td>\n",
              "      <td>29.0</td>\n",
              "      <td>2054.0</td>\n",
              "      <td>...</td>\n",
              "      <td>5.0</td>\n",
              "      <td>5.0</td>\n",
              "      <td>69.0</td>\n",
              "      <td>1.0</td>\n",
              "      <td>40.0</td>\n",
              "      <td>137.0</td>\n",
              "      <td>98.0</td>\n",
              "      <td>16.0</td>\n",
              "      <td>185.0</td>\n",
              "      <td>1.0</td>\n",
              "    </tr>\n",
              "    <tr>\n",
              "      <th>6458</th>\n",
              "      <td>38</td>\n",
              "      <td>0</td>\n",
              "      <td>14</td>\n",
              "      <td>28</td>\n",
              "      <td>37</td>\n",
              "      <td>37</td>\n",
              "      <td>1</td>\n",
              "      <td>20.0</td>\n",
              "      <td>26.0</td>\n",
              "      <td>1916.0</td>\n",
              "      <td>...</td>\n",
              "      <td>7.0</td>\n",
              "      <td>9.0</td>\n",
              "      <td>42.0</td>\n",
              "      <td>1.0</td>\n",
              "      <td>26.0</td>\n",
              "      <td>85.0</td>\n",
              "      <td>59.0</td>\n",
              "      <td>21.0</td>\n",
              "      <td>237.0</td>\n",
              "      <td>1.0</td>\n",
              "    </tr>\n",
              "  </tbody>\n",
              "</table>\n",
              "<p>6459 rows × 247 columns</p>\n",
              "</div>\n",
              "    <div class=\"colab-df-buttons\">\n",
              "\n",
              "  <div class=\"colab-df-container\">\n",
              "    <button class=\"colab-df-convert\" onclick=\"convertToInteractive('df-044ceb4c-a03c-4075-b412-0c9151443c2b')\"\n",
              "            title=\"Convert this dataframe to an interactive table.\"\n",
              "            style=\"display:none;\">\n",
              "\n",
              "  <svg xmlns=\"http://www.w3.org/2000/svg\" height=\"24px\" viewBox=\"0 -960 960 960\">\n",
              "    <path d=\"M120-120v-720h720v720H120Zm60-500h600v-160H180v160Zm220 220h160v-160H400v160Zm0 220h160v-160H400v160ZM180-400h160v-160H180v160Zm440 0h160v-160H620v160ZM180-180h160v-160H180v160Zm440 0h160v-160H620v160Z\"/>\n",
              "  </svg>\n",
              "    </button>\n",
              "\n",
              "  <style>\n",
              "    .colab-df-container {\n",
              "      display:flex;\n",
              "      gap: 12px;\n",
              "    }\n",
              "\n",
              "    .colab-df-convert {\n",
              "      background-color: #E8F0FE;\n",
              "      border: none;\n",
              "      border-radius: 50%;\n",
              "      cursor: pointer;\n",
              "      display: none;\n",
              "      fill: #1967D2;\n",
              "      height: 32px;\n",
              "      padding: 0 0 0 0;\n",
              "      width: 32px;\n",
              "    }\n",
              "\n",
              "    .colab-df-convert:hover {\n",
              "      background-color: #E2EBFA;\n",
              "      box-shadow: 0px 1px 2px rgba(60, 64, 67, 0.3), 0px 1px 3px 1px rgba(60, 64, 67, 0.15);\n",
              "      fill: #174EA6;\n",
              "    }\n",
              "\n",
              "    .colab-df-buttons div {\n",
              "      margin-bottom: 4px;\n",
              "    }\n",
              "\n",
              "    [theme=dark] .colab-df-convert {\n",
              "      background-color: #3B4455;\n",
              "      fill: #D2E3FC;\n",
              "    }\n",
              "\n",
              "    [theme=dark] .colab-df-convert:hover {\n",
              "      background-color: #434B5C;\n",
              "      box-shadow: 0px 1px 3px 1px rgba(0, 0, 0, 0.15);\n",
              "      filter: drop-shadow(0px 1px 2px rgba(0, 0, 0, 0.3));\n",
              "      fill: #FFFFFF;\n",
              "    }\n",
              "  </style>\n",
              "\n",
              "    <script>\n",
              "      const buttonEl =\n",
              "        document.querySelector('#df-044ceb4c-a03c-4075-b412-0c9151443c2b button.colab-df-convert');\n",
              "      buttonEl.style.display =\n",
              "        google.colab.kernel.accessAllowed ? 'block' : 'none';\n",
              "\n",
              "      async function convertToInteractive(key) {\n",
              "        const element = document.querySelector('#df-044ceb4c-a03c-4075-b412-0c9151443c2b');\n",
              "        const dataTable =\n",
              "          await google.colab.kernel.invokeFunction('convertToInteractive',\n",
              "                                                    [key], {});\n",
              "        if (!dataTable) return;\n",
              "\n",
              "        const docLinkHtml = 'Like what you see? Visit the ' +\n",
              "          '<a target=\"_blank\" href=https://colab.research.google.com/notebooks/data_table.ipynb>data table notebook</a>'\n",
              "          + ' to learn more about interactive tables.';\n",
              "        element.innerHTML = '';\n",
              "        dataTable['output_type'] = 'display_data';\n",
              "        await google.colab.output.renderOutput(dataTable, element);\n",
              "        const docLink = document.createElement('div');\n",
              "        docLink.innerHTML = docLinkHtml;\n",
              "        element.appendChild(docLink);\n",
              "      }\n",
              "    </script>\n",
              "  </div>\n",
              "\n",
              "\n",
              "<div id=\"df-6d1e566a-5342-4462-b680-5d6ca5cbc69f\">\n",
              "  <button class=\"colab-df-quickchart\" onclick=\"quickchart('df-6d1e566a-5342-4462-b680-5d6ca5cbc69f')\"\n",
              "            title=\"Suggest charts\"\n",
              "            style=\"display:none;\">\n",
              "\n",
              "<svg xmlns=\"http://www.w3.org/2000/svg\" height=\"24px\"viewBox=\"0 0 24 24\"\n",
              "     width=\"24px\">\n",
              "    <g>\n",
              "        <path d=\"M19 3H5c-1.1 0-2 .9-2 2v14c0 1.1.9 2 2 2h14c1.1 0 2-.9 2-2V5c0-1.1-.9-2-2-2zM9 17H7v-7h2v7zm4 0h-2V7h2v10zm4 0h-2v-4h2v4z\"/>\n",
              "    </g>\n",
              "</svg>\n",
              "  </button>\n",
              "\n",
              "<style>\n",
              "  .colab-df-quickchart {\n",
              "      --bg-color: #E8F0FE;\n",
              "      --fill-color: #1967D2;\n",
              "      --hover-bg-color: #E2EBFA;\n",
              "      --hover-fill-color: #174EA6;\n",
              "      --disabled-fill-color: #AAA;\n",
              "      --disabled-bg-color: #DDD;\n",
              "  }\n",
              "\n",
              "  [theme=dark] .colab-df-quickchart {\n",
              "      --bg-color: #3B4455;\n",
              "      --fill-color: #D2E3FC;\n",
              "      --hover-bg-color: #434B5C;\n",
              "      --hover-fill-color: #FFFFFF;\n",
              "      --disabled-bg-color: #3B4455;\n",
              "      --disabled-fill-color: #666;\n",
              "  }\n",
              "\n",
              "  .colab-df-quickchart {\n",
              "    background-color: var(--bg-color);\n",
              "    border: none;\n",
              "    border-radius: 50%;\n",
              "    cursor: pointer;\n",
              "    display: none;\n",
              "    fill: var(--fill-color);\n",
              "    height: 32px;\n",
              "    padding: 0;\n",
              "    width: 32px;\n",
              "  }\n",
              "\n",
              "  .colab-df-quickchart:hover {\n",
              "    background-color: var(--hover-bg-color);\n",
              "    box-shadow: 0 1px 2px rgba(60, 64, 67, 0.3), 0 1px 3px 1px rgba(60, 64, 67, 0.15);\n",
              "    fill: var(--button-hover-fill-color);\n",
              "  }\n",
              "\n",
              "  .colab-df-quickchart-complete:disabled,\n",
              "  .colab-df-quickchart-complete:disabled:hover {\n",
              "    background-color: var(--disabled-bg-color);\n",
              "    fill: var(--disabled-fill-color);\n",
              "    box-shadow: none;\n",
              "  }\n",
              "\n",
              "  .colab-df-spinner {\n",
              "    border: 2px solid var(--fill-color);\n",
              "    border-color: transparent;\n",
              "    border-bottom-color: var(--fill-color);\n",
              "    animation:\n",
              "      spin 1s steps(1) infinite;\n",
              "  }\n",
              "\n",
              "  @keyframes spin {\n",
              "    0% {\n",
              "      border-color: transparent;\n",
              "      border-bottom-color: var(--fill-color);\n",
              "      border-left-color: var(--fill-color);\n",
              "    }\n",
              "    20% {\n",
              "      border-color: transparent;\n",
              "      border-left-color: var(--fill-color);\n",
              "      border-top-color: var(--fill-color);\n",
              "    }\n",
              "    30% {\n",
              "      border-color: transparent;\n",
              "      border-left-color: var(--fill-color);\n",
              "      border-top-color: var(--fill-color);\n",
              "      border-right-color: var(--fill-color);\n",
              "    }\n",
              "    40% {\n",
              "      border-color: transparent;\n",
              "      border-right-color: var(--fill-color);\n",
              "      border-top-color: var(--fill-color);\n",
              "    }\n",
              "    60% {\n",
              "      border-color: transparent;\n",
              "      border-right-color: var(--fill-color);\n",
              "    }\n",
              "    80% {\n",
              "      border-color: transparent;\n",
              "      border-right-color: var(--fill-color);\n",
              "      border-bottom-color: var(--fill-color);\n",
              "    }\n",
              "    90% {\n",
              "      border-color: transparent;\n",
              "      border-bottom-color: var(--fill-color);\n",
              "    }\n",
              "  }\n",
              "</style>\n",
              "\n",
              "  <script>\n",
              "    async function quickchart(key) {\n",
              "      const quickchartButtonEl =\n",
              "        document.querySelector('#' + key + ' button');\n",
              "      quickchartButtonEl.disabled = true;  // To prevent multiple clicks.\n",
              "      quickchartButtonEl.classList.add('colab-df-spinner');\n",
              "      try {\n",
              "        const charts = await google.colab.kernel.invokeFunction(\n",
              "            'suggestCharts', [key], {});\n",
              "      } catch (error) {\n",
              "        console.error('Error during call to suggestCharts:', error);\n",
              "      }\n",
              "      quickchartButtonEl.classList.remove('colab-df-spinner');\n",
              "      quickchartButtonEl.classList.add('colab-df-quickchart-complete');\n",
              "    }\n",
              "    (() => {\n",
              "      let quickchartButtonEl =\n",
              "        document.querySelector('#df-6d1e566a-5342-4462-b680-5d6ca5cbc69f button');\n",
              "      quickchartButtonEl.style.display =\n",
              "        google.colab.kernel.accessAllowed ? 'block' : 'none';\n",
              "    })();\n",
              "  </script>\n",
              "</div>\n",
              "\n",
              "  <div id=\"id_62f20020-0883-412f-8ae6-3161acbb5a97\">\n",
              "    <style>\n",
              "      .colab-df-generate {\n",
              "        background-color: #E8F0FE;\n",
              "        border: none;\n",
              "        border-radius: 50%;\n",
              "        cursor: pointer;\n",
              "        display: none;\n",
              "        fill: #1967D2;\n",
              "        height: 32px;\n",
              "        padding: 0 0 0 0;\n",
              "        width: 32px;\n",
              "      }\n",
              "\n",
              "      .colab-df-generate:hover {\n",
              "        background-color: #E2EBFA;\n",
              "        box-shadow: 0px 1px 2px rgba(60, 64, 67, 0.3), 0px 1px 3px 1px rgba(60, 64, 67, 0.15);\n",
              "        fill: #174EA6;\n",
              "      }\n",
              "\n",
              "      [theme=dark] .colab-df-generate {\n",
              "        background-color: #3B4455;\n",
              "        fill: #D2E3FC;\n",
              "      }\n",
              "\n",
              "      [theme=dark] .colab-df-generate:hover {\n",
              "        background-color: #434B5C;\n",
              "        box-shadow: 0px 1px 3px 1px rgba(0, 0, 0, 0.15);\n",
              "        filter: drop-shadow(0px 1px 2px rgba(0, 0, 0, 0.3));\n",
              "        fill: #FFFFFF;\n",
              "      }\n",
              "    </style>\n",
              "    <button class=\"colab-df-generate\" onclick=\"generateWithVariable('df')\"\n",
              "            title=\"Generate code using this dataframe.\"\n",
              "            style=\"display:none;\">\n",
              "\n",
              "  <svg xmlns=\"http://www.w3.org/2000/svg\" height=\"24px\"viewBox=\"0 0 24 24\"\n",
              "       width=\"24px\">\n",
              "    <path d=\"M7,19H8.4L18.45,9,17,7.55,7,17.6ZM5,21V16.75L18.45,3.32a2,2,0,0,1,2.83,0l1.4,1.43a1.91,1.91,0,0,1,.58,1.4,1.91,1.91,0,0,1-.58,1.4L9.25,21ZM18.45,9,17,7.55Zm-12,3A5.31,5.31,0,0,0,4.9,8.1,5.31,5.31,0,0,0,1,6.5,5.31,5.31,0,0,0,4.9,4.9,5.31,5.31,0,0,0,6.5,1,5.31,5.31,0,0,0,8.1,4.9,5.31,5.31,0,0,0,12,6.5,5.46,5.46,0,0,0,6.5,12Z\"/>\n",
              "  </svg>\n",
              "    </button>\n",
              "    <script>\n",
              "      (() => {\n",
              "      const buttonEl =\n",
              "        document.querySelector('#id_62f20020-0883-412f-8ae6-3161acbb5a97 button.colab-df-generate');\n",
              "      buttonEl.style.display =\n",
              "        google.colab.kernel.accessAllowed ? 'block' : 'none';\n",
              "\n",
              "      buttonEl.onclick = () => {\n",
              "        google.colab.notebook.generateWithVariable('df');\n",
              "      }\n",
              "      })();\n",
              "    </script>\n",
              "  </div>\n",
              "\n",
              "    </div>\n",
              "  </div>\n"
            ],
            "text/plain": [
              "      Wk  winner  home wins  away wins  home games  away games  \\\n",
              "0      1       0          0          0           0           0   \n",
              "1      1       0          0          0           0           0   \n",
              "2      1       0          0          0           0           0   \n",
              "3      1       2          0          0           0           0   \n",
              "4      1       0          0          0           0           0   \n",
              "...   ..     ...        ...        ...         ...         ...   \n",
              "6454  38       0          7         11          37          37   \n",
              "6455  38       0          8         11          37          37   \n",
              "6456  38       0         17         18          37          37   \n",
              "6457  38       1          7         17          37          37   \n",
              "6458  38       0         14         28          37          37   \n",
              "\n",
              "      predicted_winner  Age_home_player_2  MP_home_player_2  \\\n",
              "0                    2               24.0              32.0   \n",
              "1                    2               31.0              14.0   \n",
              "2                    2               28.0              38.0   \n",
              "3                    2               19.0              21.0   \n",
              "4                    2               21.0              31.0   \n",
              "...                ...                ...               ...   \n",
              "6454                 1               29.0              38.0   \n",
              "6455                 1               24.0              31.0   \n",
              "6456                 1               24.0              26.0   \n",
              "6457                 1               30.0              29.0   \n",
              "6458                 1               20.0              26.0   \n",
              "\n",
              "      Min_home_player_2  ...  PK_away  PKatt_away  CrdY_away  CrdR_away  \\\n",
              "0                2685.0  ...      NaN         NaN        NaN        NaN   \n",
              "1                 897.0  ...      NaN         NaN        NaN        NaN   \n",
              "2                3420.0  ...      NaN         NaN        NaN        NaN   \n",
              "3                1541.0  ...      NaN         NaN        NaN        NaN   \n",
              "4                2651.0  ...      NaN         NaN        NaN        NaN   \n",
              "...                 ...  ...      ...         ...        ...        ...   \n",
              "6454             3420.0  ...      4.0         5.0       99.0        5.0   \n",
              "6455             2786.0  ...      4.0         6.0       52.0        3.0   \n",
              "6456             1820.0  ...      4.0         7.0       72.0        2.0   \n",
              "6457             2054.0  ...      5.0         5.0       69.0        1.0   \n",
              "6458             1916.0  ...      7.0         9.0       42.0        1.0   \n",
              "\n",
              "      GA_away  SoTA_away  Saves_away  CS_away  SoT_away  PremierLeague_away  \n",
              "0         NaN        NaN         NaN      NaN       NaN                 NaN  \n",
              "1         NaN        NaN         NaN      NaN       NaN                 NaN  \n",
              "2         NaN        NaN         NaN      NaN       NaN                 NaN  \n",
              "3         NaN        NaN         NaN      NaN       NaN                 NaN  \n",
              "4         NaN        NaN         NaN      NaN       NaN                 NaN  \n",
              "...       ...        ...         ...      ...       ...                 ...  \n",
              "6454     39.0      153.0       117.0     21.0     204.0                 0.0  \n",
              "6455     51.0      165.0       113.0      8.0     142.0                 1.0  \n",
              "6456     44.0      146.0       102.0     11.0     141.0                 1.0  \n",
              "6457     40.0      137.0        98.0     16.0     185.0                 1.0  \n",
              "6458     26.0       85.0        59.0     21.0     237.0                 1.0  \n",
              "\n",
              "[6459 rows x 247 columns]"
            ]
          },
          "execution_count": 11,
          "metadata": {},
          "output_type": "execute_result"
        }
      ],
      "source": [
        "df"
      ]
    },
    {
      "cell_type": "code",
      "execution_count": null,
      "metadata": {
        "colab": {
          "base_uri": "https://localhost:8080/"
        },
        "id": "JDJjGqieRXS4",
        "outputId": "71061d46-815b-4b8b-f198-ae84b6c8bfa2"
      },
      "outputs": [
        {
          "name": "stdout",
          "output_type": "stream",
          "text": [
            "(6459, 247)\n"
          ]
        }
      ],
      "source": [
        "print(df.shape)"
      ]
    },
    {
      "cell_type": "code",
      "execution_count": null,
      "metadata": {
        "colab": {
          "base_uri": "https://localhost:8080/"
        },
        "id": "1_-I2cgq_mg_",
        "outputId": "040fb037-dea0-431b-fdfa-cf3158019182"
      },
      "outputs": [
        {
          "name": "stdout",
          "output_type": "stream",
          "text": [
            "      Wk  winner  home wins  away wins  home games  away games  \\\n",
            "0      1       0          0          0           0           0   \n",
            "1      1       0          0          0           0           0   \n",
            "2      1       0          0          0           0           0   \n",
            "3      1       2          0          0           0           0   \n",
            "4      1       0          0          0           0           0   \n",
            "...   ..     ...        ...        ...         ...         ...   \n",
            "6454  38       0          7         11          37          37   \n",
            "6455  38       0          8         11          37          37   \n",
            "6456  38       0         17         18          37          37   \n",
            "6457  38       1          7         17          37          37   \n",
            "6458  38       0         14         28          37          37   \n",
            "\n",
            "      predicted_winner  Age_home_player_2  MP_home_player_2  \\\n",
            "0                    2               24.0              32.0   \n",
            "1                    2               31.0              14.0   \n",
            "2                    2               28.0              38.0   \n",
            "3                    2               19.0              21.0   \n",
            "4                    2               21.0              31.0   \n",
            "...                ...                ...               ...   \n",
            "6454                 1               29.0              38.0   \n",
            "6455                 1               24.0              31.0   \n",
            "6456                 1               24.0              26.0   \n",
            "6457                 1               30.0              29.0   \n",
            "6458                 1               20.0              26.0   \n",
            "\n",
            "      Min_home_player_2  ...  PK_away  PKatt_away  CrdY_away  CrdR_away  \\\n",
            "0                2685.0  ...      NaN         NaN        NaN        NaN   \n",
            "1                 897.0  ...      NaN         NaN        NaN        NaN   \n",
            "2                3420.0  ...      NaN         NaN        NaN        NaN   \n",
            "3                1541.0  ...      NaN         NaN        NaN        NaN   \n",
            "4                2651.0  ...      NaN         NaN        NaN        NaN   \n",
            "...                 ...  ...      ...         ...        ...        ...   \n",
            "6454             3420.0  ...      4.0         5.0       99.0        5.0   \n",
            "6455             2786.0  ...      4.0         6.0       52.0        3.0   \n",
            "6456             1820.0  ...      4.0         7.0       72.0        2.0   \n",
            "6457             2054.0  ...      5.0         5.0       69.0        1.0   \n",
            "6458             1916.0  ...      7.0         9.0       42.0        1.0   \n",
            "\n",
            "      GA_away  SoTA_away  Saves_away  CS_away  SoT_away  PremierLeague_away  \n",
            "0         NaN        NaN         NaN      NaN       NaN                 NaN  \n",
            "1         NaN        NaN         NaN      NaN       NaN                 NaN  \n",
            "2         NaN        NaN         NaN      NaN       NaN                 NaN  \n",
            "3         NaN        NaN         NaN      NaN       NaN                 NaN  \n",
            "4         NaN        NaN         NaN      NaN       NaN                 NaN  \n",
            "...       ...        ...         ...      ...       ...                 ...  \n",
            "6454     39.0      153.0       117.0     21.0     204.0                 0.0  \n",
            "6455     51.0      165.0       113.0      8.0     142.0                 1.0  \n",
            "6456     44.0      146.0       102.0     11.0     141.0                 1.0  \n",
            "6457     40.0      137.0        98.0     16.0     185.0                 1.0  \n",
            "6458     26.0       85.0        59.0     21.0     237.0                 1.0  \n",
            "\n",
            "[6459 rows x 247 columns]\n"
          ]
        }
      ],
      "source": [
        "print(df.iloc[:,:])"
      ]
    },
    {
      "cell_type": "code",
      "execution_count": null,
      "metadata": {
        "id": "qCEs8KEExHp6"
      },
      "outputs": [],
      "source": [
        "# Assuming 'winner_indices' is the column name for labels\n",
        "labels = df['winner'].values\n",
        "\n",
        "# Drop the label column to get features\n",
        "features = df.drop(columns=['winner']).values\n",
        "\n",
        "# Instantiate the MinMaxScaler\n",
        "scaler = MinMaxScaler()\n",
        "\n",
        "# Fit and transform the features\n",
        "normalized_features = scaler.fit_transform(features)\n",
        "\n",
        "# Convert to PyTorch tensors\n",
        "features_tensor = torch.tensor(normalized_features, dtype=torch.float32)\n",
        "labels_tensor = torch.tensor(labels, dtype=torch.long)\n",
        "\n",
        "features_tensor[torch.isnan(features_tensor)] = 0"
      ]
    },
    {
      "cell_type": "code",
      "execution_count": null,
      "metadata": {
        "colab": {
          "base_uri": "https://localhost:8080/"
        },
        "id": "o0y5PbOTV1wW",
        "outputId": "a4a68943-f673-4fdd-d836-bf19e3a55e91"
      },
      "outputs": [
        {
          "name": "stdout",
          "output_type": "stream",
          "text": [
            "tensor([[0.0000, 0.0000, 0.0000,  ..., 0.0000, 0.0000, 0.0000],\n",
            "        [0.0000, 0.0000, 0.0000,  ..., 0.0000, 0.0000, 0.0000],\n",
            "        [0.0000, 0.0000, 0.0000,  ..., 0.0000, 0.0000, 0.0000],\n",
            "        ...,\n",
            "        [1.0000, 0.5667, 0.5806,  ..., 0.3913, 0.1687, 1.0000],\n",
            "        [1.0000, 0.2333, 0.5484,  ..., 0.6087, 0.3454, 1.0000],\n",
            "        [1.0000, 0.4667, 0.9032,  ..., 0.8261, 0.5542, 1.0000]])\n",
            "torch.Size([6459, 246])\n"
          ]
        }
      ],
      "source": [
        "print(features_tensor)\n",
        "print(features_tensor.shape)"
      ]
    },
    {
      "cell_type": "code",
      "execution_count": null,
      "metadata": {
        "id": "jGegsWZsxPk0"
      },
      "outputs": [],
      "source": [
        "from sklearn.model_selection import train_test_split\n",
        "\n",
        "# Split the dataset into training and testing sets\n",
        "train_features, rem_features, train_labels, rem_labels = train_test_split(features_tensor, labels_tensor, test_size=0.3, random_state=50)\n",
        "\n",
        "# Further split the training set into training and validation sets\n",
        "val_features, test_features, val_labels, test_labels = train_test_split(rem_features, rem_labels, test_size=0.6, random_state=50)\n",
        "\n",
        "train_dataset = TensorDataset(train_features, train_labels)\n",
        "val_dataset = TensorDataset(val_features, val_labels)\n",
        "test_dataset = TensorDataset(test_features, test_labels)"
      ]
    },
    {
      "cell_type": "code",
      "execution_count": null,
      "metadata": {
        "id": "Gqf3caE66Ebr"
      },
      "outputs": [],
      "source": [
        "class NeuralNetwork(nn.Module):\n",
        "    def __init__(self, input_size, hidden_size1, hidden_size2,hidden_size3,hidden_size4,hidden_size5, hidden_size6,hidden_size7, hidden_size8, hidden_size9, num_classes):\n",
        "        super(NeuralNetwork, self).__init__()\n",
        "        self.fc1 = nn.Linear(input_size, hidden_size1)\n",
        "        self.fc2 = nn.Linear(hidden_size1,hidden_size2)\n",
        "        self.fc3 = nn.Linear(hidden_size2, hidden_size3)\n",
        "        self.fc4 = nn.Linear(hidden_size3, hidden_size4)\n",
        "        self.fc5 = nn.Linear(hidden_size4, hidden_size5)\n",
        "        self.fc6 = nn.Linear(hidden_size5, hidden_size6)\n",
        "        self.fc7 = nn.Linear(hidden_size6, hidden_size7)\n",
        "        self.fc8 = nn.Linear(hidden_size7, hidden_size8)\n",
        "        self.fc9 = nn.Linear(hidden_size8, hidden_size9)\n",
        "        self.fc10 = nn.Linear(hidden_size9, num_classes)\n",
        "\n",
        "    def forward(self, x):\n",
        "        out = self.fc1(x)\n",
        "        out = F.relu(out)\n",
        "        out = self.fc2(out)\n",
        "        out = F.relu(out)\n",
        "        out = self.fc3(out)\n",
        "        out = F.relu(out)\n",
        "        out = self.fc4(out)\n",
        "        out = F.relu(out)\n",
        "        out = self.fc5(out)\n",
        "        out = F.relu(out)\n",
        "        out = self.fc6(out)\n",
        "        out = F.relu(out)\n",
        "        out = self.fc7(out)\n",
        "        out = F.relu(out)\n",
        "        out = self.fc8(out)\n",
        "        out = F.relu(out)\n",
        "        out = self.fc9(out)\n",
        "        out = F.relu(out)\n",
        "        out = self.fc10(out)\n",
        "\n",
        "        return out"
      ]
    },
    {
      "cell_type": "code",
      "execution_count": null,
      "metadata": {
        "id": "nKgN8faiXSA-"
      },
      "outputs": [],
      "source": [
        "!pip install torchviz\n",
        "from torchviz import make_dot\n"
      ]
    },
    {
      "cell_type": "code",
      "execution_count": null,
      "metadata": {
        "colab": {
          "base_uri": "https://localhost:8080/"
        },
        "id": "3z_EkS28bxCT",
        "outputId": "b334e613-d2a3-4026-d3f3-5f3ebb41ac56"
      },
      "outputs": [
        {
          "name": "stdout",
          "output_type": "stream",
          "text": [
            "Collecting hiddenlayer\n",
            "  Downloading hiddenlayer-0.3-py3-none-any.whl (19 kB)\n",
            "Installing collected packages: hiddenlayer\n",
            "Successfully installed hiddenlayer-0.3\n"
          ]
        }
      ],
      "source": [
        "!pip install hiddenlayer\n",
        "import hiddenlayer as hl"
      ]
    },
    {
      "cell_type": "code",
      "execution_count": null,
      "metadata": {
        "colab": {
          "base_uri": "https://localhost:8080/",
          "height": 36
        },
        "id": "oNXrmZYdZ0Cm",
        "outputId": "de937075-427a-41b1-f3ba-6d6523e2ec07"
      },
      "outputs": [
        {
          "data": {
            "application/vnd.google.colaboratory.intrinsic+json": {
              "type": "string"
            },
            "text/plain": [
              "'ann_torchviz.png'"
            ]
          },
          "execution_count": 26,
          "metadata": {},
          "output_type": "execute_result"
        }
      ],
      "source": [
        "input_size = features_tensor.shape[1]\n",
        "hidden_size1 = 150\n",
        "hidden_size2 = 130\n",
        "hidden_size3 = 90\n",
        "hidden_size4 = 60\n",
        "hidden_size5 = 40\n",
        "hidden_size6 = 60\n",
        "hidden_size7 = 90\n",
        "hidden_size8 = 130\n",
        "hidden_size9 = 150\n",
        "\n",
        "batch_size=64\n",
        "num_classes = 3\n",
        "model = NeuralNetwork(input_size, hidden_size1, hidden_size2, hidden_size3,hidden_size4, hidden_size5, hidden_size6, hidden_size7, hidden_size8, hidden_size9, num_classes)\n",
        "train_loader = DataLoader(train_dataset, batch_size=batch_size, shuffle=True)\n",
        "# Assuming you have defined your train DataLoader\n",
        "\n",
        "batch = next(iter(train_loader))\n",
        "yhat = model(batch[0]) # Give dummy batch to forward().\n",
        "make_dot(yhat, params=dict(list(model.named_parameters()))).render(\"ann_torchviz\", format=\"png\")"
      ]
    },
    {
      "cell_type": "code",
      "execution_count": null,
      "metadata": {
        "colab": {
          "background_save": true,
          "base_uri": "https://localhost:8080/"
        },
        "id": "uMgpdMhfegWg",
        "outputId": "93fb4be7-47a7-4393-98be-b3077b2b755e"
      },
      "outputs": [
        {
          "name": "stdout",
          "output_type": "stream",
          "text": [
            "Requirement already satisfied: torch in /usr/local/lib/python3.10/dist-packages (2.2.1+cu121)\n",
            "Collecting torch\n",
            "  Downloading torch-2.2.2-cp310-cp310-manylinux1_x86_64.whl (755.5 MB)\n",
            "\u001b[2K     \u001b[90m━━━━━━━━━━━━━━━━━━━━━━━━━━━━━━━━━━━━━━━━\u001b[0m \u001b[32m755.5/755.5 MB\u001b[0m \u001b[31m812.6 kB/s\u001b[0m eta \u001b[36m0:00:00\u001b[0m\n",
            "\u001b[?25hRequirement already satisfied: hiddenlayer in /usr/local/lib/python3.10/dist-packages (0.3)\n",
            "Requirement already satisfied: filelock in /usr/local/lib/python3.10/dist-packages (from torch) (3.13.3)\n",
            "Requirement already satisfied: typing-extensions>=4.8.0 in /usr/local/lib/python3.10/dist-packages (from torch) (4.10.0)\n",
            "Requirement already satisfied: sympy in /usr/local/lib/python3.10/dist-packages (from torch) (1.12)\n",
            "Requirement already satisfied: networkx in /usr/local/lib/python3.10/dist-packages (from torch) (3.2.1)\n",
            "Requirement already satisfied: jinja2 in /usr/local/lib/python3.10/dist-packages (from torch) (3.1.3)\n",
            "Requirement already satisfied: fsspec in /usr/local/lib/python3.10/dist-packages (from torch) (2023.6.0)\n",
            "Requirement already satisfied: nvidia-cuda-nvrtc-cu12==12.1.105 in /usr/local/lib/python3.10/dist-packages (from torch) (12.1.105)\n",
            "Requirement already satisfied: nvidia-cuda-runtime-cu12==12.1.105 in /usr/local/lib/python3.10/dist-packages (from torch) (12.1.105)\n",
            "Requirement already satisfied: nvidia-cuda-cupti-cu12==12.1.105 in /usr/local/lib/python3.10/dist-packages (from torch) (12.1.105)\n",
            "Requirement already satisfied: nvidia-cudnn-cu12==8.9.2.26 in /usr/local/lib/python3.10/dist-packages (from torch) (8.9.2.26)\n",
            "Requirement already satisfied: nvidia-cublas-cu12==12.1.3.1 in /usr/local/lib/python3.10/dist-packages (from torch) (12.1.3.1)\n",
            "Requirement already satisfied: nvidia-cufft-cu12==11.0.2.54 in /usr/local/lib/python3.10/dist-packages (from torch) (11.0.2.54)\n",
            "Requirement already satisfied: nvidia-curand-cu12==10.3.2.106 in /usr/local/lib/python3.10/dist-packages (from torch) (10.3.2.106)\n",
            "Requirement already satisfied: nvidia-cusolver-cu12==11.4.5.107 in /usr/local/lib/python3.10/dist-packages (from torch) (11.4.5.107)\n",
            "Requirement already satisfied: nvidia-cusparse-cu12==12.1.0.106 in /usr/local/lib/python3.10/dist-packages (from torch) (12.1.0.106)\n",
            "Requirement already satisfied: nvidia-nccl-cu12==2.19.3 in /usr/local/lib/python3.10/dist-packages (from torch) (2.19.3)\n",
            "Requirement already satisfied: nvidia-nvtx-cu12==12.1.105 in /usr/local/lib/python3.10/dist-packages (from torch) (12.1.105)\n",
            "Requirement already satisfied: triton==2.2.0 in /usr/local/lib/python3.10/dist-packages (from torch) (2.2.0)\n",
            "Requirement already satisfied: nvidia-nvjitlink-cu12 in /usr/local/lib/python3.10/dist-packages (from nvidia-cusolver-cu12==11.4.5.107->torch) (12.4.127)\n",
            "Requirement already satisfied: MarkupSafe>=2.0 in /usr/local/lib/python3.10/dist-packages (from jinja2->torch) (2.1.5)\n",
            "Requirement already satisfied: mpmath>=0.19 in /usr/local/lib/python3.10/dist-packages (from sympy->torch) (1.3.0)\n",
            "Installing collected packages: torch\n",
            "  Attempting uninstall: torch\n",
            "    Found existing installation: torch 2.2.1+cu121\n",
            "    Uninstalling torch-2.2.1+cu121:\n",
            "      Successfully uninstalled torch-2.2.1+cu121\n",
            "\u001b[31mERROR: pip's dependency resolver does not currently take into account all the packages that are installed. This behaviour is the source of the following dependency conflicts.\n",
            "torchaudio 2.2.1+cu121 requires torch==2.2.1, but you have torch 2.2.2 which is incompatible.\n",
            "torchtext 0.17.1 requires torch==2.2.1, but you have torch 2.2.2 which is incompatible.\n",
            "torchvision 0.17.1+cu121 requires torch==2.2.1, but you have torch 2.2.2 which is incompatible.\u001b[0m\u001b[31m\n",
            "\u001b[0mSuccessfully installed torch-2.2.2\n"
          ]
        },
        {
          "data": {
            "application/vnd.colab-display-data+json": {
              "id": "540fb219d29b454ea08262c8c5c25d55",
              "pip_warning": {
                "packages": [
                  "torch",
                  "torchgen"
                ]
              }
            }
          },
          "metadata": {},
          "output_type": "display_data"
        }
      ],
      "source": [
        "pip install --upgrade torch hiddenlayer"
      ]
    },
    {
      "cell_type": "code",
      "execution_count": null,
      "metadata": {
        "colab": {
          "base_uri": "https://localhost:8080/",
          "height": 370
        },
        "id": "-YuYXiQqb8Ic",
        "outputId": "79617c30-050e-41e2-95a5-255f65f7532c"
      },
      "outputs": [
        {
          "ename": "AttributeError",
          "evalue": "module 'torch.onnx' has no attribute '_optimize_trace'",
          "output_type": "error",
          "traceback": [
            "\u001b[0;31m---------------------------------------------------------------------------\u001b[0m",
            "\u001b[0;31mAttributeError\u001b[0m                            Traceback (most recent call last)",
            "\u001b[0;32m<ipython-input-28-9566496f0b22>\u001b[0m in \u001b[0;36m<cell line: 9>\u001b[0;34m()\u001b[0m\n\u001b[1;32m      7\u001b[0m \u001b[0;34m\u001b[0m\u001b[0m\n\u001b[1;32m      8\u001b[0m \u001b[0;31m# Visualize the model\u001b[0m\u001b[0;34m\u001b[0m\u001b[0;34m\u001b[0m\u001b[0m\n\u001b[0;32m----> 9\u001b[0;31m \u001b[0mgraph\u001b[0m \u001b[0;34m=\u001b[0m \u001b[0mhl\u001b[0m\u001b[0;34m.\u001b[0m\u001b[0mbuild_graph\u001b[0m\u001b[0;34m(\u001b[0m\u001b[0mmodel\u001b[0m\u001b[0;34m,\u001b[0m \u001b[0mtorch\u001b[0m\u001b[0;34m.\u001b[0m\u001b[0mzeros\u001b[0m\u001b[0;34m(\u001b[0m\u001b[0;34m[\u001b[0m\u001b[0;36m1\u001b[0m\u001b[0;34m,\u001b[0m \u001b[0minput_size\u001b[0m\u001b[0;34m]\u001b[0m\u001b[0;34m)\u001b[0m\u001b[0;34m)\u001b[0m\u001b[0;34m\u001b[0m\u001b[0;34m\u001b[0m\u001b[0m\n\u001b[0m\u001b[1;32m     10\u001b[0m \u001b[0mgraph\u001b[0m\u001b[0;34m.\u001b[0m\u001b[0mtheme\u001b[0m \u001b[0;34m=\u001b[0m \u001b[0mhl\u001b[0m\u001b[0;34m.\u001b[0m\u001b[0mgraph\u001b[0m\u001b[0;34m.\u001b[0m\u001b[0mTHEMES\u001b[0m\u001b[0;34m[\u001b[0m\u001b[0;34m\"blue\"\u001b[0m\u001b[0;34m]\u001b[0m\u001b[0;34m.\u001b[0m\u001b[0mcopy\u001b[0m\u001b[0;34m(\u001b[0m\u001b[0;34m)\u001b[0m\u001b[0;34m\u001b[0m\u001b[0;34m\u001b[0m\u001b[0m\n\u001b[1;32m     11\u001b[0m \u001b[0mgraph\u001b[0m\u001b[0;34m.\u001b[0m\u001b[0msave\u001b[0m\u001b[0;34m(\u001b[0m\u001b[0;34m\"graph.png\"\u001b[0m\u001b[0;34m)\u001b[0m  \u001b[0;31m# Save the visualization to a file\u001b[0m\u001b[0;34m\u001b[0m\u001b[0;34m\u001b[0m\u001b[0m\n",
            "\u001b[0;32m/usr/local/lib/python3.10/dist-packages/hiddenlayer/graph.py\u001b[0m in \u001b[0;36mbuild_graph\u001b[0;34m(model, args, input_names, transforms, framework_transforms)\u001b[0m\n\u001b[1;32m    141\u001b[0m         \u001b[0;32mfrom\u001b[0m \u001b[0;34m.\u001b[0m\u001b[0mpytorch_builder\u001b[0m \u001b[0;32mimport\u001b[0m \u001b[0mimport_graph\u001b[0m\u001b[0;34m,\u001b[0m \u001b[0mFRAMEWORK_TRANSFORMS\u001b[0m\u001b[0;34m\u001b[0m\u001b[0;34m\u001b[0m\u001b[0m\n\u001b[1;32m    142\u001b[0m         \u001b[0;32massert\u001b[0m \u001b[0margs\u001b[0m \u001b[0;32mis\u001b[0m \u001b[0;32mnot\u001b[0m \u001b[0;32mNone\u001b[0m\u001b[0;34m,\u001b[0m \u001b[0;34m\"Argument args must be provided for Pytorch models.\"\u001b[0m\u001b[0;34m\u001b[0m\u001b[0;34m\u001b[0m\u001b[0m\n\u001b[0;32m--> 143\u001b[0;31m         \u001b[0mimport_graph\u001b[0m\u001b[0;34m(\u001b[0m\u001b[0mg\u001b[0m\u001b[0;34m,\u001b[0m \u001b[0mmodel\u001b[0m\u001b[0;34m,\u001b[0m \u001b[0margs\u001b[0m\u001b[0;34m)\u001b[0m\u001b[0;34m\u001b[0m\u001b[0;34m\u001b[0m\u001b[0m\n\u001b[0m\u001b[1;32m    144\u001b[0m     \u001b[0;32melif\u001b[0m \u001b[0mframework\u001b[0m \u001b[0;34m==\u001b[0m \u001b[0;34m\"tensorflow\"\u001b[0m\u001b[0;34m:\u001b[0m\u001b[0;34m\u001b[0m\u001b[0;34m\u001b[0m\u001b[0m\n\u001b[1;32m    145\u001b[0m         \u001b[0;32mfrom\u001b[0m \u001b[0;34m.\u001b[0m\u001b[0mtf_builder\u001b[0m \u001b[0;32mimport\u001b[0m \u001b[0mimport_graph\u001b[0m\u001b[0;34m,\u001b[0m \u001b[0mFRAMEWORK_TRANSFORMS\u001b[0m\u001b[0;34m\u001b[0m\u001b[0;34m\u001b[0m\u001b[0m\n",
            "\u001b[0;32m/usr/local/lib/python3.10/dist-packages/hiddenlayer/pytorch_builder.py\u001b[0m in \u001b[0;36mimport_graph\u001b[0;34m(hl_graph, model, args, input_names, verbose)\u001b[0m\n\u001b[1;32m     69\u001b[0m     \u001b[0;31m# Run the Pytorch graph to get a trace and generate a graph from it\u001b[0m\u001b[0;34m\u001b[0m\u001b[0;34m\u001b[0m\u001b[0m\n\u001b[1;32m     70\u001b[0m     \u001b[0mtrace\u001b[0m\u001b[0;34m,\u001b[0m \u001b[0mout\u001b[0m \u001b[0;34m=\u001b[0m \u001b[0mtorch\u001b[0m\u001b[0;34m.\u001b[0m\u001b[0mjit\u001b[0m\u001b[0;34m.\u001b[0m\u001b[0m_get_trace_graph\u001b[0m\u001b[0;34m(\u001b[0m\u001b[0mmodel\u001b[0m\u001b[0;34m,\u001b[0m \u001b[0margs\u001b[0m\u001b[0;34m)\u001b[0m\u001b[0;34m\u001b[0m\u001b[0;34m\u001b[0m\u001b[0m\n\u001b[0;32m---> 71\u001b[0;31m     \u001b[0mtorch_graph\u001b[0m \u001b[0;34m=\u001b[0m \u001b[0mtorch\u001b[0m\u001b[0;34m.\u001b[0m\u001b[0monnx\u001b[0m\u001b[0;34m.\u001b[0m\u001b[0m_optimize_trace\u001b[0m\u001b[0;34m(\u001b[0m\u001b[0mtrace\u001b[0m\u001b[0;34m,\u001b[0m \u001b[0mtorch\u001b[0m\u001b[0;34m.\u001b[0m\u001b[0monnx\u001b[0m\u001b[0;34m.\u001b[0m\u001b[0mOperatorExportTypes\u001b[0m\u001b[0;34m.\u001b[0m\u001b[0mONNX\u001b[0m\u001b[0;34m)\u001b[0m\u001b[0;34m\u001b[0m\u001b[0;34m\u001b[0m\u001b[0m\n\u001b[0m\u001b[1;32m     72\u001b[0m \u001b[0;34m\u001b[0m\u001b[0m\n\u001b[1;32m     73\u001b[0m     \u001b[0;31m# Dump list of nodes (DEBUG only)\u001b[0m\u001b[0;34m\u001b[0m\u001b[0;34m\u001b[0m\u001b[0m\n",
            "\u001b[0;31mAttributeError\u001b[0m: module 'torch.onnx' has no attribute '_optimize_trace'"
          ]
        }
      ],
      "source": [
        "input_size = features_tensor.shape[1]\n",
        "hidden_sizes = [150, 130, 90, 60, 40, 60, 90, 130, 150]\n",
        "num_classes = 3\n",
        "\n",
        "# Create an instance of the model\n",
        "model = NeuralNetwork(input_size, *hidden_sizes, num_classes)\n",
        "\n",
        "# Visualize the model\n",
        "graph = hl.build_graph(model, torch.zeros([1, input_size]))\n",
        "graph.theme = hl.graph.THEMES[\"blue\"].copy()\n",
        "graph.save(\"graph.png\")  # Save the visualization to a file"
      ]
    },
    {
      "cell_type": "code",
      "execution_count": null,
      "metadata": {
        "id": "KrSoe-YaJEAR"
      },
      "outputs": [],
      "source": [
        "import torch\n",
        "import torch.nn as nn\n",
        "import torch.optim as optim\n",
        "from torch.utils.data import DataLoader\n",
        "import matplotlib.pyplot as plt\n",
        "import os\n",
        "import random\n",
        "def train_with_early_stopping(model, train_dataset, val_dataset, batch_size=64, num_epochs=1, print_stat=1, learning_rate=0.05, mm=0, patience=5):\n",
        "    random.seed(42)\n",
        "    # Create data loaders for training and validation sets\n",
        "    train_loader = DataLoader(train_dataset, batch_size=batch_size, shuffle=True)\n",
        "    val_loader = DataLoader(val_dataset, batch_size=batch_size)\n",
        "\n",
        "    criterion = nn.CrossEntropyLoss()\n",
        "    optimizer = optim.Adam(model.parameters(), lr=learning_rate, betas=(0.9, 0.999), weight_decay=mm)\n",
        "\n",
        "    iters, losses, train_acc, val_acc = [], [], [], []\n",
        "\n",
        "    best_val_acc = 0.0\n",
        "    counter = 0  # Counter to track the number of epochs without improvement\n",
        "    best_model_state = None\n",
        "\n",
        "    for epoch in range(num_epochs):\n",
        "        curr_loss = 0\n",
        "        ii = 0\n",
        "        for imgs, labels in train_loader:\n",
        "            out = model(imgs)  # Forward pass\n",
        "            loss = criterion(out, labels)  # Compute loss\n",
        "            loss.backward()  # Backward pass (compute parameter updates)\n",
        "            optimizer.step()  # Update parameters\n",
        "            optimizer.zero_grad()  # Zero the gradients\n",
        "            curr_loss += loss.item()  # Accumulate loss\n",
        "            ii += 1\n",
        "\n",
        "        # Calculate average training loss\n",
        "        avg_train_loss = curr_loss / ii\n",
        "\n",
        "        # Calculate training and validation accuracy\n",
        "        train_accuracy = get_accuracy_patience(model, train_loader)\n",
        "        val_accuracy = get_accuracy_patience(model, val_loader)\n",
        "\n",
        "        # Save training and validation metrics\n",
        "        iters.append(epoch)\n",
        "        losses.append(avg_train_loss)\n",
        "        train_acc.append(train_accuracy)\n",
        "        val_acc.append(val_accuracy)\n",
        "\n",
        "        # Print training and validation stats\n",
        "        if print_stat:\n",
        "            print(\"Epoch %s: Training Accuracy: %s || Validation Accuracy: %s\" % (epoch, train_accuracy, val_accuracy))\n",
        "\n",
        "        # Check for improvement in validation accuracy\n",
        "        if val_accuracy > best_val_acc:\n",
        "            best_val_acc = val_accuracy\n",
        "            counter = 0\n",
        "            best_model_state = model.state_dict()\n",
        "        else:\n",
        "            counter += 1\n",
        "\n",
        "        # Check early stopping condition\n",
        "        if counter >= patience:\n",
        "            print(f\"Stopping early at epoch {epoch} as validation accuracy did not improve for {patience} epochs.\")\n",
        "            break\n",
        "\n",
        "    # Load the best model state\n",
        "    if best_model_state:\n",
        "        model.load_state_dict(best_model_state)\n",
        "\n",
        "    validation_accuracy = val_acc[-1]\n",
        "    if validation_accuracy > 0.53:\n",
        "      # Define the directory to save the model\n",
        "      save_dir = \"/content/drive/MyDrive/APS360_Project/Models\"\n",
        "\n",
        "      # Create the directory if it doesn't exist\n",
        "      if not os.path.exists(save_dir):\n",
        "          os.makedirs(save_dir)\n",
        "\n",
        "\n",
        "    # Plot training curve\n",
        "      plt.title(\"Training Curve\")\n",
        "      plt.plot(iters, losses, label=\"Train\")\n",
        "      plt.xlabel(\"Epochs\")\n",
        "      plt.ylabel(\"Loss\")\n",
        "      plt.show()\n",
        "\n",
        "      plt.title(\"Training Curve\")\n",
        "      plt.plot(iters, train_acc, label=\"Train\")\n",
        "      plt.plot(iters, val_acc, label=\"Validation\")\n",
        "      plt.xlabel(\"Epochs\")\n",
        "      plt.ylabel(\"Accuracy\")\n",
        "      plt.legend(loc='best')\n",
        "      plt.show()\n",
        "\n",
        "      print(\"Final Training Accuracy: {}\".format(train_acc[-1]))\n",
        "      print(\"Final Validation Accuracy: {}\".format(val_acc[-1]))\n",
        "\n",
        "    return train_acc[-1], val_acc[-1]\n",
        "\n",
        "def get_accuracy_patience(model, data_loader):\n",
        "    model.eval()\n",
        "    correct = 0\n",
        "    total = 0\n",
        "    with torch.no_grad():\n",
        "        for imgs, labels in data_loader:\n",
        "            outputs = model(imgs)\n",
        "            _, predicted = torch.max(outputs.data, 1)\n",
        "            total += labels.size(0)\n",
        "            correct += (predicted == labels).sum().item()\n",
        "    return correct / total"
      ]
    },
    {
      "cell_type": "code",
      "execution_count": null,
      "metadata": {
        "colab": {
          "base_uri": "https://localhost:8080/"
        },
        "id": "GOyGoUAZ6Lok",
        "outputId": "66f66aff-4f97-4271-d500-811615124bd0"
      },
      "outputs": [
        {
          "name": "stdout",
          "output_type": "stream",
          "text": [
            "done\n"
          ]
        }
      ],
      "source": [
        "# Train the model\n",
        "def train(model, dataset, batch_size=64, num_epochs=1 , print_stat = 1, learning_rate=0.05, mm = 0.9):\n",
        "\n",
        "    # Create a data loader from the custom dataset\n",
        "    train_loader = DataLoader(dataset, batch_size=batch_size, shuffle=True)\n",
        "    criterion = nn.CrossEntropyLoss()\n",
        "    optimizer = optim.Adam(model.parameters(), lr=learning_rate, betas=(0.9,0.999))\n",
        "\n",
        "    iters, losses, train_acc, val_acc = [], [], [], []\n",
        "\n",
        "    # training\n",
        "    n = 0 # the number of iterations\n",
        "    for epoch in range(num_epochs):\n",
        "        curr_loss = 0\n",
        "        ii = 0\n",
        "        for imgs, labels in iter(train_loader):\n",
        "            out = model(imgs)             # forward pass\n",
        "            loss = criterion(out, labels) # compute the total loss\n",
        "            loss.backward()               # backward pass (compute parameter updates)\n",
        "            optimizer.step()              # make the updates for each parameter\n",
        "            optimizer.zero_grad()         # a clean up step for PyTorch\n",
        "            curr_loss += float(loss/batch_size)      # compute *average* loss\n",
        "            ii+=1\n",
        "\n",
        "        # save the current training information\n",
        "        iters.append(n)\n",
        "        losses.append(curr_loss/ii)\n",
        "        train_acc.append(get_accuracy(model, batch_size, train=True)) # compute training accuracy\n",
        "        val_acc.append(get_accuracy(model, batch_size, train=False))  # compute validation accuracy\n",
        "        n += 1\n",
        "        print(\"Epoch %s: Training Accuracy: %s || Validation Accuracy: %s\" % (epoch, train_acc[n-1], val_acc[n-1]))\n",
        "\n",
        "\n",
        "    if print_stat:\n",
        "      # plotting\n",
        "      plt.title(\"Training Curve\")\n",
        "      plt.plot(iters, losses, label=\"Train\")\n",
        "      plt.xlabel(\"Iterations\")\n",
        "      plt.ylabel(\"Loss\")\n",
        "      plt.show()\n",
        "\n",
        "      plt.title(\"Training Curve\")\n",
        "      plt.plot(iters, train_acc, label=\"Train\")\n",
        "      plt.plot(iters, val_acc, label=\"Validation\")\n",
        "      plt.xlabel(\"Iterations\")\n",
        "      plt.ylabel(\"Training Accuracy\")\n",
        "      plt.legend(loc='best')\n",
        "      plt.show()\n",
        "\n",
        "      print(\"Final Training Accuracy: {}\".format(train_acc[-1]))\n",
        "      print(\"Final Validation Accuracy: {}\".format(val_acc[-1]))\n",
        "\n",
        "      return train_acc[-1], val_acc[-1]\n",
        "\n",
        "def get_accuracy(model, batch_size = 64, train=False, test = False):\n",
        "    if train:\n",
        "        data = train_dataset\n",
        "    elif test:\n",
        "        data = test_dataset\n",
        "    else:\n",
        "        data = val_dataset\n",
        "\n",
        "    correct = 0\n",
        "    total = 0\n",
        "    for imgs, labels in torch.utils.data.DataLoader(data, batch_size=batch_size):\n",
        "        output = model(imgs)\n",
        "        #select index with maximum prediction score\n",
        "        pred = output.max(1, keepdim=True)[1]\n",
        "        correct += pred.eq(labels.view_as(pred)).sum().item()\n",
        "        total += imgs.shape[0]\n",
        "    return correct / total\n",
        "\n",
        "print ('done')"
      ]
    },
    {
      "cell_type": "code",
      "execution_count": null,
      "metadata": {
        "colab": {
          "base_uri": "https://localhost:8080/"
        },
        "id": "4eZDxTKxXMcS",
        "outputId": "77b0813f-8688-4f0a-e2e4-900b0fa539a9"
      },
      "outputs": [
        {
          "data": {
            "text/plain": [
              "246"
            ]
          },
          "execution_count": 92,
          "metadata": {},
          "output_type": "execute_result"
        }
      ],
      "source": []
    },
    {
      "cell_type": "code",
      "execution_count": null,
      "metadata": {
        "colab": {
          "base_uri": "https://localhost:8080/",
          "height": 1000
        },
        "id": "aZEhGXNea8Ar",
        "outputId": "b708910b-bae8-4c48-9927-e36b01d437cb"
      },
      "outputs": [
        {
          "name": "stdout",
          "output_type": "stream",
          "text": [
            "Epoch 0: Training Accuracy: 0.45631497456314973 || Validation Accuracy: 0.4735483870967742\n",
            "Epoch 1: Training Accuracy: 0.45631497456314973 || Validation Accuracy: 0.4735483870967742\n",
            "Epoch 2: Training Accuracy: 0.45631497456314973 || Validation Accuracy: 0.4735483870967742\n",
            "Epoch 3: Training Accuracy: 0.45631497456314973 || Validation Accuracy: 0.4735483870967742\n",
            "Epoch 4: Training Accuracy: 0.45631497456314973 || Validation Accuracy: 0.4735483870967742\n",
            "Epoch 5: Training Accuracy: 0.45631497456314973 || Validation Accuracy: 0.4735483870967742\n",
            "Epoch 6: Training Accuracy: 0.5363857553638576 || Validation Accuracy: 0.5303225806451612\n",
            "Epoch 7: Training Accuracy: 0.537712895377129 || Validation Accuracy: 0.5483870967741935\n",
            "Epoch 8: Training Accuracy: 0.5343950453439504 || Validation Accuracy: 0.5341935483870968\n",
            "Epoch 9: Training Accuracy: 0.5403671754036717 || Validation Accuracy: 0.5470967741935484\n",
            "Epoch 10: Training Accuracy: 0.5401459854014599 || Validation Accuracy: 0.5483870967741935\n",
            "Epoch 11: Training Accuracy: 0.5443485954434859 || Validation Accuracy: 0.5445161290322581\n",
            "Epoch 12: Training Accuracy: 0.546339305463393 || Validation Accuracy: 0.5496774193548387\n",
            "Epoch 13: Training Accuracy: 0.5410307454103075 || Validation Accuracy: 0.5483870967741935\n",
            "Epoch 14: Training Accuracy: 0.5432426454324265 || Validation Accuracy: 0.5509677419354839\n",
            "Epoch 15: Training Accuracy: 0.5487723954877239 || Validation Accuracy: 0.5561290322580645\n",
            "Epoch 16: Training Accuracy: 0.5487723954877239 || Validation Accuracy: 0.552258064516129\n",
            "Epoch 17: Training Accuracy: 0.5496571554965716 || Validation Accuracy: 0.5561290322580645\n",
            "Epoch 18: Training Accuracy: 0.5500995355009953 || Validation Accuracy: 0.5548387096774193\n",
            "Epoch 19: Training Accuracy: 0.5458969254589693 || Validation Accuracy: 0.5574193548387096\n",
            "Epoch 20: Training Accuracy: 0.5456757354567574 || Validation Accuracy: 0.5470967741935484\n",
            "Epoch 21: Training Accuracy: 0.5452333554523335 || Validation Accuracy: 0.5483870967741935\n",
            "Epoch 22: Training Accuracy: 0.5505419155054192 || Validation Accuracy: 0.56\n",
            "Epoch 23: Training Accuracy: 0.5428002654280026 || Validation Accuracy: 0.5432258064516129\n",
            "Epoch 24: Training Accuracy: 0.5503207255032072 || Validation Accuracy: 0.5548387096774193\n",
            "Epoch 25: Training Accuracy: 0.5483300154833002 || Validation Accuracy: 0.56\n",
            "Epoch 26: Training Accuracy: 0.5472240654722407 || Validation Accuracy: 0.5548387096774193\n",
            "Epoch 27: Training Accuracy: 0.5516478655164787 || Validation Accuracy: 0.56\n",
            "Epoch 28: Training Accuracy: 0.5545233355452334 || Validation Accuracy: 0.5625806451612904\n",
            "Epoch 29: Training Accuracy: 0.5489935854899358 || Validation Accuracy: 0.5548387096774193\n",
            "Epoch 30: Training Accuracy: 0.5470028754700288 || Validation Accuracy: 0.552258064516129\n",
            "Epoch 31: Training Accuracy: 0.5496571554965716 || Validation Accuracy: 0.5483870967741935\n",
            "Epoch 32: Training Accuracy: 0.5492147754921477 || Validation Accuracy: 0.552258064516129\n",
            "Epoch 33: Training Accuracy: 0.550984295509843 || Validation Accuracy: 0.5612903225806452\n",
            "Epoch 34: Training Accuracy: 0.555186905551869 || Validation Accuracy: 0.5587096774193548\n",
            "Epoch 35: Training Accuracy: 0.5500995355009953 || Validation Accuracy: 0.5496774193548387\n",
            "Epoch 36: Training Accuracy: 0.5523114355231143 || Validation Accuracy: 0.56\n",
            "Epoch 37: Training Accuracy: 0.555408095554081 || Validation Accuracy: 0.5548387096774193\n",
            "Epoch 38: Training Accuracy: 0.5547445255474452 || Validation Accuracy: 0.5612903225806452\n",
            "Stopping early at epoch 38 as validation accuracy did not improve for 10 epochs.\n"
          ]
        },
        {
          "data": {
            "image/png": "[encoded data removed]",
            "text/plain": [
              "<Figure size 640x480 with 1 Axes>"
            ]
          },
          "metadata": {},
          "output_type": "display_data"
        },
        {
          "data": {
            "image/png": "[encoded data removed]",
            "text/plain": [
              "<Figure size 640x480 with 1 Axes>"
            ]
          },
          "metadata": {},
          "output_type": "display_data"
        },
        {
          "name": "stdout",
          "output_type": "stream",
          "text": [
            "Final Training Accuracy: 0.5547445255474452\n",
            "Final Validation Accuracy: 0.5612903225806452\n"
          ]
        },
        {
          "data": {
            "text/plain": [
              "(0.5547445255474452, 0.5612903225806452)"
            ]
          },
          "execution_count": 93,
          "metadata": {},
          "output_type": "execute_result"
        }
      ],
      "source": [
        "# Instantiate the model\n",
        "input_size = features_tensor.shape[1]\n",
        "hidden_size1 = 150\n",
        "hidden_size2 = 130\n",
        "hidden_size3 = 90\n",
        "hidden_size4 = 60\n",
        "hidden_size5 = 40\n",
        "hidden_size6 = 60\n",
        "hidden_size7 = 90\n",
        "hidden_size8 = 130\n",
        "hidden_size9 = 150\n",
        "\n",
        "\n",
        "num_classes = 3\n",
        "model = NeuralNetwork(input_size, hidden_size1, hidden_size2, hidden_size3,hidden_size4, hidden_size5, hidden_size6, hidden_size7, hidden_size8, hidden_size9, num_classes)\n",
        "train_with_early_stopping(model = model, train_dataset=train_dataset, val_dataset=val_dataset, batch_size=64, num_epochs=40, print_stat=1, learning_rate=0.000075, patience = 10)"
      ]
    },
    {
      "cell_type": "code",
      "execution_count": null,
      "metadata": {
        "colab": {
          "base_uri": "https://localhost:8080/"
        },
        "id": "4945mH2LIaSt",
        "outputId": "a210f0c3-4c2e-4af7-ac36-82345d5c0019"
      },
      "outputs": [
        {
          "data": {
            "text/plain": [
              "0.524505588993981"
            ]
          },
          "execution_count": 94,
          "metadata": {},
          "output_type": "execute_result"
        }
      ],
      "source": [
        "get_accuracy(model, test=True)"
      ]
    },
    {
      "cell_type": "code",
      "execution_count": null,
      "metadata": {
        "id": "ATPi2MilIBJc"
      },
      "outputs": [],
      "source": [
        "model_scripted = torch.jit.script(model)# Export to TorchScript\n",
        "\n",
        "model_scripted.save('/content/drive/MyDrive/APS360_Project/Models/final_model_scripted.pt') # Save"
      ]
    },
    {
      "cell_type": "code",
      "execution_count": null,
      "metadata": {
        "id": "7sEsUScpt-kU"
      },
      "outputs": [],
      "source": [
        "import pickle\n",
        "filename = 'ANN4.sav'\n",
        "pickle.dump(model, open(filename, 'wb'))"
      ]
    },
    {
      "cell_type": "code",
      "execution_count": null,
      "metadata": {
        "colab": {
          "base_uri": "https://localhost:8080/"
        },
        "id": "ugbNXq6q0ZTN",
        "outputId": "860eb98b-ca1d-4580-fef6-d74868400824"
      },
      "outputs": [
        {
          "data": {
            "text/plain": [
              "0.5424657534246575"
            ]
          },
          "execution_count": 99,
          "metadata": {},
          "output_type": "execute_result"
        }
      ],
      "source": [
        "filename = 'ANN4.sav'\n",
        "\n",
        "loaded_model = pickle.load(open(filename, 'rb'))\n",
        "get_accuracy(loaded_model, train=False, test = True)"
      ]
    },
    {
      "cell_type": "code",
      "execution_count": null,
      "metadata": {
        "colab": {
          "base_uri": "https://localhost:8080/"
        },
        "id": "HHrinpOOCWWC",
        "outputId": "304030b1-0540-4952-9a37-0fff822bf901"
      },
      "outputs": [
        {
          "data": {
            "text/plain": [
              "247"
            ]
          },
          "execution_count": 81,
          "metadata": {},
          "output_type": "execute_result"
        }
      ],
      "source": [
        "features_tensor.shape[1]\n"
      ]
    },
    {
      "cell_type": "code",
      "execution_count": null,
      "metadata": {
        "id": "0vEEGsg5GsBV"
      },
      "outputs": [],
      "source": []
    }
  ],
  "metadata": {
    "colab": {
      "provenance": [],
      "include_colab_link": true
    },
    "kernelspec": {
      "display_name": "Python 3",
      "name": "python3"
    },
    "language_info": {
      "name": "python"
    }
  },
  "nbformat": 4,
  "nbformat_minor": 0
}