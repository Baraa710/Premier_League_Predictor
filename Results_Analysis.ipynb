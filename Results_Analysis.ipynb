{
  "nbformat": 4,
  "nbformat_minor": 0,
  "metadata": {
    "colab": {
      "provenance": [],
      "authorship_tag": "ABX9TyMr7y3UjUkCnAboeH/Q0F52",
      "include_colab_link": true
    },
    "kernelspec": {
      "name": "python3",
      "display_name": "Python 3"
    },
    "language_info": {
      "name": "python"
    }
  },
  "cells": [
    {
      "cell_type": "markdown",
      "metadata": {
        "id": "view-in-github",
        "colab_type": "text"
      },
      "source": [
        "<a href=\"https://colab.research.google.com/github/Baraa710/Premier_League_Predictor/blob/main/Results_Analysis.ipynb\" target=\"_parent\"><img src=\"https://colab.research.google.com/assets/colab-badge.svg\" alt=\"Open In Colab\"/></a>"
      ]
    },
    {
      "cell_type": "code",
      "execution_count": null,
      "metadata": {
        "id": "OHLXofPqFqST"
      },
      "outputs": [],
      "source": []
    },
    {
      "cell_type": "code",
      "source": [
        "from google.colab import drive\n",
        "drive.mount('/content/drive')"
      ],
      "metadata": {
        "id": "cTY8TW6Z-_hj",
        "outputId": "fe35e8e3-75be-4546-e62f-c6da9b056d51",
        "colab": {
          "base_uri": "https://localhost:8080/"
        }
      },
      "execution_count": null,
      "outputs": [
        {
          "output_type": "stream",
          "name": "stdout",
          "text": [
            "Mounted at /content/drive\n"
          ]
        }
      ]
    },
    {
      "cell_type": "code",
      "execution_count": null,
      "metadata": {
        "id": "XnBnVZ1pwo1D"
      },
      "outputs": [],
      "source": [
        "import pandas as pd\n",
        "import matplotlib.pyplot as plt\n",
        "import torch\n",
        "import torch.nn as nn\n",
        "import torch.nn.functional as F\n",
        "import torch.optim as optim\n",
        "import matplotlib.pyplot as plt\n",
        "from torch.utils.data import TensorDataset, DataLoader\n",
        "from sklearn.preprocessing import MinMaxScaler\n",
        "\n",
        "\n"
      ]
    },
    {
      "cell_type": "code",
      "source": [
        "# Read the Excel file\n",
        "df = pd.read_excel(\"/content/drive/MyDrive/APS360_Project/Match_Data/FinalMatchData.xlsx\")"
      ],
      "metadata": {
        "id": "otpQOaJgCpBT"
      },
      "execution_count": null,
      "outputs": []
    },
    {
      "cell_type": "code",
      "source": [
        "print(df.shape)"
      ],
      "metadata": {
        "colab": {
          "base_uri": "https://localhost:8080/"
        },
        "id": "JDJjGqieRXS4",
        "outputId": "e0f3ba81-8126-4a50-df7b-e07f438f3186"
      },
      "execution_count": null,
      "outputs": [
        {
          "output_type": "stream",
          "name": "stdout",
          "text": [
            "(6459, 248)\n"
          ]
        }
      ]
    },
    {
      "cell_type": "code",
      "source": [
        "print(df.iloc[:,:])"
      ],
      "metadata": {
        "colab": {
          "base_uri": "https://localhost:8080/"
        },
        "id": "1_-I2cgq_mg_",
        "outputId": "54709715-dfd4-4a63-f45d-7f4e3514846d"
      },
      "execution_count": null,
      "outputs": [
        {
          "output_type": "stream",
          "name": "stdout",
          "text": [
            "      Unnamed: 0  Wk  winner  home wins  away wins  home games  away games  \\\n",
            "0              0   1       0          0          0           0           0   \n",
            "1              1   1       0          0          0           0           0   \n",
            "2              2   1       0          0          0           0           0   \n",
            "3              3   1       2          0          0           0           0   \n",
            "4              4   1       0          0          0           0           0   \n",
            "...          ...  ..     ...        ...        ...         ...         ...   \n",
            "6454         375  38       0          7         11          37          37   \n",
            "6455         376  38       0          8         11          37          37   \n",
            "6456         377  38       0         17         18          37          37   \n",
            "6457         378  38       1          7         17          37          37   \n",
            "6458         379  38       0         14         28          37          37   \n",
            "\n",
            "      predicted_winner  Age_home_player_2  MP_home_player_2  ...  PK_away  \\\n",
            "0                    2               24.0              32.0  ...      NaN   \n",
            "1                    2               31.0              14.0  ...      NaN   \n",
            "2                    2               28.0              38.0  ...      NaN   \n",
            "3                    2               19.0              21.0  ...      NaN   \n",
            "4                    2               21.0              31.0  ...      NaN   \n",
            "...                ...                ...               ...  ...      ...   \n",
            "6454                 1               29.0              38.0  ...      4.0   \n",
            "6455                 1               24.0              31.0  ...      4.0   \n",
            "6456                 1               24.0              26.0  ...      4.0   \n",
            "6457                 1               30.0              29.0  ...      5.0   \n",
            "6458                 1               20.0              26.0  ...      7.0   \n",
            "\n",
            "      PKatt_away  CrdY_away  CrdR_away  GA_away  SoTA_away  Saves_away  \\\n",
            "0            NaN        NaN        NaN      NaN        NaN         NaN   \n",
            "1            NaN        NaN        NaN      NaN        NaN         NaN   \n",
            "2            NaN        NaN        NaN      NaN        NaN         NaN   \n",
            "3            NaN        NaN        NaN      NaN        NaN         NaN   \n",
            "4            NaN        NaN        NaN      NaN        NaN         NaN   \n",
            "...          ...        ...        ...      ...        ...         ...   \n",
            "6454         5.0       99.0        5.0     39.0      153.0       117.0   \n",
            "6455         6.0       52.0        3.0     51.0      165.0       113.0   \n",
            "6456         7.0       72.0        2.0     44.0      146.0       102.0   \n",
            "6457         5.0       69.0        1.0     40.0      137.0        98.0   \n",
            "6458         9.0       42.0        1.0     26.0       85.0        59.0   \n",
            "\n",
            "      CS_away  SoT_away  PremierLeague_away  \n",
            "0         NaN       NaN                 NaN  \n",
            "1         NaN       NaN                 NaN  \n",
            "2         NaN       NaN                 NaN  \n",
            "3         NaN       NaN                 NaN  \n",
            "4         NaN       NaN                 NaN  \n",
            "...       ...       ...                 ...  \n",
            "6454     21.0     204.0                 0.0  \n",
            "6455      8.0     142.0                 1.0  \n",
            "6456     11.0     141.0                 1.0  \n",
            "6457     16.0     185.0                 1.0  \n",
            "6458     21.0     237.0                 1.0  \n",
            "\n",
            "[6459 rows x 248 columns]\n"
          ]
        }
      ]
    },
    {
      "cell_type": "code",
      "source": [
        "# Assuming 'winner_indices' is the column name for labels\n",
        "labels = df['winner'].values\n",
        "\n",
        "# Drop the label column to get features\n",
        "features = df.drop(columns=['winner','Unnamed: 0']).values\n",
        "\n",
        "# Instantiate the MinMaxScaler\n",
        "scaler = MinMaxScaler()\n",
        "\n",
        "# Fit and transform the features\n",
        "normalized_features = scaler.fit_transform(features)\n",
        "\n",
        "# Convert to PyTorch tensors\n",
        "features_tensor = torch.tensor(normalized_features, dtype=torch.float32)\n",
        "labels_tensor = torch.tensor(labels, dtype=torch.long)\n",
        "\n",
        "features_tensor[torch.isnan(features_tensor)] = 0"
      ],
      "metadata": {
        "id": "qCEs8KEExHp6"
      },
      "execution_count": null,
      "outputs": []
    },
    {
      "cell_type": "code",
      "source": [
        "print(features_tensor)\n",
        "print(features_tensor.shape)"
      ],
      "metadata": {
        "colab": {
          "base_uri": "https://localhost:8080/"
        },
        "id": "o0y5PbOTV1wW",
        "outputId": "581c8449-5d1a-4737-d388-4794e86207d5"
      },
      "execution_count": null,
      "outputs": [
        {
          "output_type": "stream",
          "name": "stdout",
          "text": [
            "tensor([[0.0000, 0.3889, 0.3889,  ..., 0.3077, 0.3091, 1.0000],\n",
            "        [0.0000, 0.1667, 0.3333,  ..., 0.6923, 0.8636, 1.0000],\n",
            "        [0.0000, 0.1111, 0.1667,  ..., 0.2308, 0.0727, 1.0000],\n",
            "        ...,\n",
            "        [1.0000, 0.6111, 0.1111,  ..., 1.0000, 0.9182, 0.0000],\n",
            "        [1.0000, 0.5000, 0.2778,  ..., 0.0000, 0.0000, 1.0000],\n",
            "        [1.0000, 1.0000, 1.0000,  ..., 0.3846, 0.8545, 1.0000]])\n",
            "torch.Size([150, 246])\n"
          ]
        }
      ]
    },
    {
      "cell_type": "code",
      "source": [
        "from sklearn.model_selection import train_test_split\n",
        "\n",
        "# Split the dataset into training and testing sets\n",
        "train_features, rem_features, train_labels, rem_labels = train_test_split(features_tensor, labels_tensor, test_size=0.3, random_state=50)\n",
        "\n",
        "# Further split the training set into training and validation sets\n",
        "val_features, test_features, val_labels, test_labels = train_test_split(rem_features, rem_labels, test_size=0.6, random_state=50)\n",
        "\n",
        "train_dataset = TensorDataset(train_features, train_labels)\n",
        "val_dataset = TensorDataset(val_features, val_labels)\n",
        "test_dataset = TensorDataset(test_features, test_labels)"
      ],
      "metadata": {
        "id": "jGegsWZsxPk0"
      },
      "execution_count": null,
      "outputs": []
    },
    {
      "cell_type": "code",
      "source": [
        "# prompt: modify get_accuracy(model, batch_size = 64, train=False, test = False): so that it takes another argument, certainty, and calculate accuracy for outputs with given certainty\n",
        "\n",
        "def get_accuracy(model, batch_size = 64, train=False, test = False, certainty=0.0):\n",
        "    if train:\n",
        "        data = train_dataset\n",
        "    elif test:\n",
        "        data = test_dataset\n",
        "    else:\n",
        "        data = val_dataset\n",
        "\n",
        "    correct = 0\n",
        "    total = 0\n",
        "    for imgs, labels in torch.utils.data.DataLoader(data, batch_size=batch_size):\n",
        "        model.eval()\n",
        "        output = model(imgs)\n",
        "        #select index with maximum prediction score\n",
        "        pred = output.max(1, keepdim=True)[1]\n",
        "        #filter out predictions with low certainty\n",
        "        confident_predictions = pred[output.max(1)[0] > certainty]\n",
        "        confident_labels = labels[output.max(1)[0] > certainty]\n",
        "        correct += confident_predictions.eq(confident_labels.view_as(confident_predictions)).sum().item()\n",
        "        total += confident_labels.shape[0]\n",
        "    return correct / total\n"
      ],
      "metadata": {
        "id": "XHOcuswLF_ro"
      },
      "execution_count": null,
      "outputs": []
    },
    {
      "cell_type": "code",
      "source": [
        "def get_accuracy(model, batch_size=64, train=False, test=False, certainty=0.0):\n",
        "    if train:\n",
        "        data = train_dataset\n",
        "    elif test:\n",
        "        data = test_dataset\n",
        "    else:\n",
        "        data = val_dataset\n",
        "\n",
        "    correct = 0\n",
        "    total = 0\n",
        "    confident_matches = 0\n",
        "    num_classes = 3\n",
        "    class_counts = [0] * num_classes  # Assuming num_classes is defined elsewhere\n",
        "\n",
        "    for imgs, labels in torch.utils.data.DataLoader(data, batch_size=batch_size):\n",
        "        print(len(imgs[0]))\n",
        "        output = model(imgs)\n",
        "        # Select index with maximum prediction score\n",
        "        pred = output.max(1, keepdim=True)[1]\n",
        "        # Filter out predictions with low certainty\n",
        "        confident_predictions = pred[output.max(1)[0] > certainty]\n",
        "        confident_labels = labels[output.max(1)[0] > certainty]\n",
        "        correct += confident_predictions.eq(confident_labels.view_as(confident_predictions)).sum().item()\n",
        "        total += confident_labels.shape[0]\n",
        "        confident_matches += confident_labels.shape[0]\n",
        "\n",
        "        # Count predictions for each class\n",
        "        for p in confident_predictions:\n",
        "            class_counts[p.item()] += 1\n",
        "\n",
        "    # Calculate accuracy and percentage of predictions in each class\n",
        "    accuracy = correct / total\n",
        "    class_percentages = [count / confident_matches * 100 for count in class_counts]\n",
        "\n",
        "    return accuracy, confident_matches, class_percentages\n"
      ],
      "metadata": {
        "id": "OdQ2UNFsNdMV"
      },
      "execution_count": null,
      "outputs": []
    },
    {
      "cell_type": "code",
      "source": [
        "model = torch.jit.load('/content/drive/MyDrive/APS360_Project/Models/final_model_scripted.pt')\n",
        "model.eval()\n"
      ],
      "metadata": {
        "colab": {
          "base_uri": "https://localhost:8080/"
        },
        "id": "hmmHc2TuGiAw",
        "outputId": "577def06-48f6-441d-ccaf-2b9f5dccef35"
      },
      "execution_count": null,
      "outputs": [
        {
          "output_type": "execute_result",
          "data": {
            "text/plain": [
              "RecursiveScriptModule(\n",
              "  original_name=NeuralNetwork\n",
              "  (fc1): RecursiveScriptModule(original_name=Linear)\n",
              "  (fc2): RecursiveScriptModule(original_name=Linear)\n",
              "  (fc3): RecursiveScriptModule(original_name=Linear)\n",
              "  (fc4): RecursiveScriptModule(original_name=Linear)\n",
              "  (fc5): RecursiveScriptModule(original_name=Linear)\n",
              "  (fc6): RecursiveScriptModule(original_name=Linear)\n",
              "  (fc7): RecursiveScriptModule(original_name=Linear)\n",
              "  (fc8): RecursiveScriptModule(original_name=Linear)\n",
              "  (fc9): RecursiveScriptModule(original_name=Linear)\n",
              "  (fc10): RecursiveScriptModule(original_name=Linear)\n",
              ")"
            ]
          },
          "metadata": {},
          "execution_count": 32
        }
      ]
    },
    {
      "cell_type": "code",
      "source": [],
      "metadata": {
        "id": "nXQddaTe5tMn"
      },
      "execution_count": null,
      "outputs": []
    },
    {
      "cell_type": "code",
      "source": [
        "get_accuracy(model=model, test = True, certainty = 0)"
      ],
      "metadata": {
        "id": "9gQWWJFGZ0bV",
        "outputId": "ba3085f6-d463-4a80-93e9-ecb8da652961",
        "colab": {
          "base_uri": "https://localhost:8080/"
        }
      },
      "execution_count": null,
      "outputs": [
        {
          "output_type": "stream",
          "name": "stdout",
          "text": [
            "246\n",
            "246\n",
            "246\n",
            "246\n",
            "246\n",
            "246\n",
            "246\n",
            "246\n",
            "246\n",
            "246\n",
            "246\n",
            "246\n",
            "246\n",
            "246\n",
            "246\n",
            "246\n",
            "246\n",
            "246\n",
            "246\n"
          ]
        },
        {
          "output_type": "execute_result",
          "data": {
            "text/plain": [
              "(0.524505588993981, 1163, [60.533104041272566, 39.46689595872743, 0.0])"
            ]
          },
          "metadata": {},
          "execution_count": 35
        }
      ]
    },
    {
      "cell_type": "code",
      "source": [
        "get_accuracy(model=model, test = True, certainty = 0.1)"
      ],
      "metadata": {
        "colab": {
          "base_uri": "https://localhost:8080/"
        },
        "id": "UxcIbdV4MOXQ",
        "outputId": "5dd709a0-46c5-49fd-e8d3-1572b045f244"
      },
      "execution_count": null,
      "outputs": [
        {
          "output_type": "execute_result",
          "data": {
            "text/plain": [
              "(0.524505588993981, 1163, [60.533104041272566, 39.46689595872743, 0.0])"
            ]
          },
          "metadata": {},
          "execution_count": 17
        }
      ]
    },
    {
      "cell_type": "code",
      "source": [
        "get_accuracy(model=model, test = True, certainty = 0.3)"
      ],
      "metadata": {
        "colab": {
          "base_uri": "https://localhost:8080/"
        },
        "id": "X_5kV4toNy1e",
        "outputId": "88aa83a4-f49e-4614-a436-02c1eeb5de26"
      },
      "execution_count": null,
      "outputs": [
        {
          "output_type": "execute_result",
          "data": {
            "text/plain": [
              "(0.5757225433526012, 865, [65.20231213872833, 34.797687861271676, 0.0])"
            ]
          },
          "metadata": {},
          "execution_count": 18
        }
      ]
    },
    {
      "cell_type": "code",
      "source": [
        "get_accuracy(model=model, test = True, certainty = 0.5)"
      ],
      "metadata": {
        "colab": {
          "base_uri": "https://localhost:8080/"
        },
        "id": "gzMLvoZgN08I",
        "outputId": "53eb9fa5-6e8f-4800-cc73-8321b88e3bdb"
      },
      "execution_count": null,
      "outputs": [
        {
          "output_type": "execute_result",
          "data": {
            "text/plain": [
              "(0.617816091954023, 696, [62.643678160919535, 37.35632183908046, 0.0])"
            ]
          },
          "metadata": {},
          "execution_count": 19
        }
      ]
    },
    {
      "cell_type": "code",
      "source": [
        "get_accuracy(model=model, test = True, certainty = 0.7)"
      ],
      "metadata": {
        "colab": {
          "base_uri": "https://localhost:8080/"
        },
        "id": "8uYRRhLIN3kc",
        "outputId": "70de6264-0121-418a-aa8c-8b6389824a1b"
      },
      "execution_count": null,
      "outputs": [
        {
          "output_type": "execute_result",
          "data": {
            "text/plain": [
              "(0.6436170212765957, 564, [59.57446808510638, 40.42553191489361, 0.0])"
            ]
          },
          "metadata": {},
          "execution_count": 20
        }
      ]
    },
    {
      "cell_type": "code",
      "source": [
        "get_accuracy(model=model, test = True, certainty = 0.9)"
      ],
      "metadata": {
        "colab": {
          "base_uri": "https://localhost:8080/"
        },
        "id": "NCqcRr-KOa2Y",
        "outputId": "126f1e9a-ce4d-4b6a-c8ed-e0deca9d496f"
      },
      "execution_count": null,
      "outputs": [
        {
          "output_type": "execute_result",
          "data": {
            "text/plain": [
              "(0.684331797235023, 434, [57.373271889400925, 42.626728110599075, 0.0])"
            ]
          },
          "metadata": {},
          "execution_count": 21
        }
      ]
    },
    {
      "cell_type": "code",
      "source": [
        "for imgs, labels in torch.utils.data.DataLoader(val_dataset):\n",
        "        print(len(imgs))\n",
        "        output = model(imgs)\n",
        "        print(output)"
      ],
      "metadata": {
        "colab": {
          "base_uri": "https://localhost:8080/"
        },
        "id": "LZ82woBk5ILp",
        "outputId": "f205af98-e413-45d9-f117-aeb262383c9f"
      },
      "execution_count": null,
      "outputs": [
        {
          "output_type": "stream",
          "name": "stdout",
          "text": [
            "1\n",
            "tensor([[0.1642, 0.0982, 0.0169]], grad_fn=<DifferentiableGraphBackward>)\n",
            "1\n",
            "tensor([[ 1.9855, -1.3548, -0.3116]], grad_fn=<DifferentiableGraphBackward>)\n",
            "1\n",
            "tensor([[-0.0635,  0.3271,  0.0244]], grad_fn=<DifferentiableGraphBackward>)\n",
            "1\n",
            "tensor([[-0.7973,  1.5476, -0.1339]], grad_fn=<DifferentiableGraphBackward>)\n",
            "1\n",
            "tensor([[ 1.2238, -0.7994, -0.1721]], grad_fn=<DifferentiableGraphBackward>)\n",
            "1\n",
            "tensor([[0.1875, 0.0787, 0.0133]], grad_fn=<DifferentiableGraphBackward>)\n",
            "1\n",
            "tensor([[0.1268, 0.1295, 0.0218]], grad_fn=<DifferentiableGraphBackward>)\n",
            "1\n",
            "tensor([[-0.4465,  0.9069, -0.0606]], grad_fn=<DifferentiableGraphBackward>)\n",
            "1\n",
            "tensor([[ 1.6646, -1.1187, -0.2536]], grad_fn=<DifferentiableGraphBackward>)\n",
            "1\n",
            "tensor([[-0.3994,  0.8251, -0.0473]], grad_fn=<DifferentiableGraphBackward>)\n",
            "1\n",
            "tensor([[-0.6043,  1.1948, -0.0975]], grad_fn=<DifferentiableGraphBackward>)\n",
            "1\n",
            "tensor([[0.2519, 0.0238, 0.0021]], grad_fn=<DifferentiableGraphBackward>)\n",
            "1\n",
            "tensor([[ 0.4514, -0.1460, -0.0314]], grad_fn=<DifferentiableGraphBackward>)\n",
            "1\n",
            "tensor([[ 1.0363, -0.6473, -0.1336]], grad_fn=<DifferentiableGraphBackward>)\n",
            "1\n",
            "tensor([[0.0291, 0.2199, 0.0291]], grad_fn=<DifferentiableGraphBackward>)\n",
            "1\n",
            "tensor([[ 0.4263, -0.1253, -0.0275]], grad_fn=<DifferentiableGraphBackward>)\n",
            "1\n",
            "tensor([[ 0.5057, -0.1930, -0.0412]], grad_fn=<DifferentiableGraphBackward>)\n",
            "1\n",
            "tensor([[0.2339, 0.0390, 0.0052]], grad_fn=<DifferentiableGraphBackward>)\n",
            "1\n",
            "tensor([[0.1708, 0.0923, 0.0158]], grad_fn=<DifferentiableGraphBackward>)\n",
            "1\n",
            "tensor([[ 0.4197, -0.1195, -0.0264]], grad_fn=<DifferentiableGraphBackward>)\n",
            "1\n",
            "tensor([[0.2063, 0.0625, 0.0098]], grad_fn=<DifferentiableGraphBackward>)\n",
            "1\n",
            "tensor([[-0.8132,  1.5772, -0.1370]], grad_fn=<DifferentiableGraphBackward>)\n",
            "1\n",
            "tensor([[ 0.6571, -0.3232, -0.0678]], grad_fn=<DifferentiableGraphBackward>)\n",
            "1\n",
            "tensor([[ 1.4490, -0.9634, -0.2113]], grad_fn=<DifferentiableGraphBackward>)\n",
            "1\n",
            "tensor([[-0.1181,  0.3977,  0.0159]], grad_fn=<DifferentiableGraphBackward>)\n",
            "1\n",
            "tensor([[ 1.1103, -0.7089, -0.1465]], grad_fn=<DifferentiableGraphBackward>)\n",
            "1\n",
            "tensor([[ 0.9689, -0.5897, -0.1220]], grad_fn=<DifferentiableGraphBackward>)\n",
            "1\n",
            "tensor([[ 0.4554, -0.1511, -0.0334]], grad_fn=<DifferentiableGraphBackward>)\n",
            "1\n",
            "tensor([[ 0.3250, -0.0384, -0.0094]], grad_fn=<DifferentiableGraphBackward>)\n",
            "1\n",
            "tensor([[0.2174, 0.0536, 0.0087]], grad_fn=<DifferentiableGraphBackward>)\n",
            "1\n",
            "tensor([[-0.5455,  1.0874, -0.0844]], grad_fn=<DifferentiableGraphBackward>)\n",
            "1\n",
            "tensor([[0.0330, 0.2157, 0.0288]], grad_fn=<DifferentiableGraphBackward>)\n",
            "1\n",
            "tensor([[ 0.7504, -0.4020, -0.0835]], grad_fn=<DifferentiableGraphBackward>)\n",
            "1\n",
            "tensor([[ 1.7726, -1.1974, -0.2735]], grad_fn=<DifferentiableGraphBackward>)\n",
            "1\n",
            "tensor([[0.2423, 0.0320, 0.0035]], grad_fn=<DifferentiableGraphBackward>)\n",
            "1\n",
            "tensor([[0.1885, 0.0771, 0.0118]], grad_fn=<DifferentiableGraphBackward>)\n",
            "1\n",
            "tensor([[-0.5872,  1.1636, -0.0941]], grad_fn=<DifferentiableGraphBackward>)\n",
            "1\n",
            "tensor([[ 0.7742, -0.4251, -0.0897]], grad_fn=<DifferentiableGraphBackward>)\n",
            "1\n",
            "tensor([[0.1766, 0.0879, 0.0150]], grad_fn=<DifferentiableGraphBackward>)\n",
            "1\n",
            "tensor([[-0.3947,  0.8162, -0.0464]], grad_fn=<DifferentiableGraphBackward>)\n",
            "1\n",
            "tensor([[-0.5303,  1.0597, -0.0806]], grad_fn=<DifferentiableGraphBackward>)\n",
            "1\n",
            "tensor([[-0.2382,  0.5710, -0.0039]], grad_fn=<DifferentiableGraphBackward>)\n",
            "1\n",
            "tensor([[ 0.7799, -0.4286, -0.0896]], grad_fn=<DifferentiableGraphBackward>)\n",
            "1\n",
            "tensor([[-0.4622,  0.9356, -0.0626]], grad_fn=<DifferentiableGraphBackward>)\n",
            "1\n",
            "tensor([[ 0.2723,  0.0062, -0.0018]], grad_fn=<DifferentiableGraphBackward>)\n",
            "1\n",
            "tensor([[0.0214, 0.2254, 0.0273]], grad_fn=<DifferentiableGraphBackward>)\n",
            "1\n",
            "tensor([[0.1290, 0.1268, 0.0205]], grad_fn=<DifferentiableGraphBackward>)\n",
            "1\n",
            "tensor([[ 1.3160, -0.8669, -0.1869]], grad_fn=<DifferentiableGraphBackward>)\n",
            "1\n",
            "tensor([[ 0.4885, -0.1780, -0.0381]], grad_fn=<DifferentiableGraphBackward>)\n",
            "1\n",
            "tensor([[0.0151, 0.2320, 0.0275]], grad_fn=<DifferentiableGraphBackward>)\n",
            "1\n",
            "tensor([[ 0.7090, -0.3658, -0.0756]], grad_fn=<DifferentiableGraphBackward>)\n",
            "1\n",
            "tensor([[ 0.8393, -0.4791, -0.0995]], grad_fn=<DifferentiableGraphBackward>)\n",
            "1\n",
            "tensor([[0.0895, 0.1614, 0.0250]], grad_fn=<DifferentiableGraphBackward>)\n",
            "1\n",
            "tensor([[ 0.8986, -0.5296, -0.1099]], grad_fn=<DifferentiableGraphBackward>)\n",
            "1\n",
            "tensor([[0.1046, 0.1498, 0.0255]], grad_fn=<DifferentiableGraphBackward>)\n",
            "1\n",
            "tensor([[0.0981, 0.1552, 0.0258]], grad_fn=<DifferentiableGraphBackward>)\n",
            "1\n",
            "tensor([[ 0.9083, -0.5406, -0.1137]], grad_fn=<DifferentiableGraphBackward>)\n",
            "1\n",
            "tensor([[-0.4164,  0.8538, -0.0516]], grad_fn=<DifferentiableGraphBackward>)\n",
            "1\n",
            "tensor([[0.1071, 0.1466, 0.0242]], grad_fn=<DifferentiableGraphBackward>)\n",
            "1\n",
            "tensor([[-0.7325,  1.4291, -0.1225]], grad_fn=<DifferentiableGraphBackward>)\n",
            "1\n",
            "tensor([[-0.5216,  1.0438, -0.0779]], grad_fn=<DifferentiableGraphBackward>)\n",
            "1\n",
            "tensor([[ 0.8032, -0.4475, -0.0927]], grad_fn=<DifferentiableGraphBackward>)\n",
            "1\n",
            "tensor([[ 0.7743, -0.4225, -0.0876]], grad_fn=<DifferentiableGraphBackward>)\n",
            "1\n",
            "tensor([[-0.6663,  1.3081, -0.1103]], grad_fn=<DifferentiableGraphBackward>)\n",
            "1\n",
            "tensor([[-0.6951,  1.3606, -0.1155]], grad_fn=<DifferentiableGraphBackward>)\n",
            "1\n",
            "tensor([[ 0.7285, -0.3833, -0.0796]], grad_fn=<DifferentiableGraphBackward>)\n",
            "1\n",
            "tensor([[ 0.4821, -0.1736, -0.0378]], grad_fn=<DifferentiableGraphBackward>)\n",
            "1\n",
            "tensor([[ 0.7533, -0.4076, -0.0865]], grad_fn=<DifferentiableGraphBackward>)\n",
            "1\n",
            "tensor([[ 1.3358, -0.8812, -0.1898]], grad_fn=<DifferentiableGraphBackward>)\n",
            "1\n",
            "tensor([[-0.4905,  0.9871, -0.0705]], grad_fn=<DifferentiableGraphBackward>)\n",
            "1\n",
            "tensor([[ 0.4164, -0.1177, -0.0265]], grad_fn=<DifferentiableGraphBackward>)\n",
            "1\n",
            "tensor([[ 0.2783,  0.0015, -0.0018]], grad_fn=<DifferentiableGraphBackward>)\n",
            "1\n",
            "tensor([[0.0925, 0.1592, 0.0256]], grad_fn=<DifferentiableGraphBackward>)\n",
            "1\n",
            "tensor([[ 1.1062, -0.7053, -0.1455]], grad_fn=<DifferentiableGraphBackward>)\n",
            "1\n",
            "tensor([[-0.6401,  1.2603, -0.1052]], grad_fn=<DifferentiableGraphBackward>)\n",
            "1\n",
            "tensor([[-0.3622,  0.7626, -0.0356]], grad_fn=<DifferentiableGraphBackward>)\n",
            "1\n",
            "tensor([[-0.4455,  0.9048, -0.0594]], grad_fn=<DifferentiableGraphBackward>)\n",
            "1\n",
            "tensor([[ 0.5296, -0.2144, -0.0461]], grad_fn=<DifferentiableGraphBackward>)\n",
            "1\n",
            "tensor([[0.1616, 0.1005, 0.0179]], grad_fn=<DifferentiableGraphBackward>)\n",
            "1\n",
            "tensor([[-0.3898,  0.8082, -0.0449]], grad_fn=<DifferentiableGraphBackward>)\n",
            "1\n",
            "tensor([[ 1.5885, -1.0639, -0.2392]], grad_fn=<DifferentiableGraphBackward>)\n",
            "1\n",
            "tensor([[ 0.5752, -0.2509, -0.0521]], grad_fn=<DifferentiableGraphBackward>)\n",
            "1\n",
            "tensor([[0.1798, 0.0848, 0.0138]], grad_fn=<DifferentiableGraphBackward>)\n",
            "1\n",
            "tensor([[0.1281, 0.1286, 0.0221]], grad_fn=<DifferentiableGraphBackward>)\n",
            "1\n",
            "tensor([[0.1633, 0.0995, 0.0179]], grad_fn=<DifferentiableGraphBackward>)\n",
            "1\n",
            "tensor([[-0.2444,  0.5745, -0.0065]], grad_fn=<DifferentiableGraphBackward>)\n",
            "1\n",
            "tensor([[-0.7294,  1.4230, -0.1216]], grad_fn=<DifferentiableGraphBackward>)\n",
            "1\n",
            "tensor([[ 0.6861, -0.3482, -0.0731]], grad_fn=<DifferentiableGraphBackward>)\n",
            "1\n",
            "tensor([[-0.7254,  1.4159, -0.1210]], grad_fn=<DifferentiableGraphBackward>)\n",
            "1\n",
            "tensor([[ 0.3883, -0.0939, -0.0221]], grad_fn=<DifferentiableGraphBackward>)\n",
            "1\n",
            "tensor([[-0.3256,  0.7035, -0.0250]], grad_fn=<DifferentiableGraphBackward>)\n",
            "1\n",
            "tensor([[0.1837, 0.0819, 0.0137]], grad_fn=<DifferentiableGraphBackward>)\n",
            "1\n",
            "tensor([[ 0.4452, -0.1410, -0.0304]], grad_fn=<DifferentiableGraphBackward>)\n",
            "1\n",
            "tensor([[ 0.5570, -0.2366, -0.0500]], grad_fn=<DifferentiableGraphBackward>)\n",
            "1\n",
            "tensor([[ 0.6860, -0.3470, -0.0723]], grad_fn=<DifferentiableGraphBackward>)\n",
            "1\n",
            "tensor([[ 0.7513, -0.4044, -0.0850]], grad_fn=<DifferentiableGraphBackward>)\n",
            "1\n",
            "tensor([[0.0369, 0.2104, 0.0274]], grad_fn=<DifferentiableGraphBackward>)\n",
            "1\n",
            "tensor([[0.2097, 0.0601, 0.0098]], grad_fn=<DifferentiableGraphBackward>)\n",
            "1\n",
            "tensor([[0.1553, 0.1053, 0.0186]], grad_fn=<DifferentiableGraphBackward>)\n",
            "1\n",
            "tensor([[ 1.2367, -0.8085, -0.1717]], grad_fn=<DifferentiableGraphBackward>)\n",
            "1\n",
            "tensor([[-0.6303,  1.2426, -0.1033]], grad_fn=<DifferentiableGraphBackward>)\n",
            "1\n",
            "tensor([[-0.5430,  1.0829, -0.0834]], grad_fn=<DifferentiableGraphBackward>)\n",
            "1\n",
            "tensor([[0.0675, 0.1824, 0.0274]], grad_fn=<DifferentiableGraphBackward>)\n",
            "1\n",
            "tensor([[0.0268, 0.2205, 0.0278]], grad_fn=<DifferentiableGraphBackward>)\n",
            "1\n",
            "tensor([[ 1.0940, -0.6950, -0.1433]], grad_fn=<DifferentiableGraphBackward>)\n",
            "1\n",
            "tensor([[0.1554, 0.1060, 0.0190]], grad_fn=<DifferentiableGraphBackward>)\n",
            "1\n",
            "tensor([[0.0904, 0.1621, 0.0267]], grad_fn=<DifferentiableGraphBackward>)\n",
            "1\n",
            "tensor([[ 0.8879, -0.5198, -0.1074]], grad_fn=<DifferentiableGraphBackward>)\n",
            "1\n",
            "tensor([[-0.0706,  0.3302,  0.0216]], grad_fn=<DifferentiableGraphBackward>)\n",
            "1\n",
            "tensor([[ 0.6819, -0.3426, -0.0710]], grad_fn=<DifferentiableGraphBackward>)\n",
            "1\n",
            "tensor([[ 0.9961, -0.6133, -0.1270]], grad_fn=<DifferentiableGraphBackward>)\n",
            "1\n",
            "tensor([[ 0.4960, -0.1849, -0.0397]], grad_fn=<DifferentiableGraphBackward>)\n",
            "1\n",
            "tensor([[-0.7638,  1.4858, -0.1276]], grad_fn=<DifferentiableGraphBackward>)\n",
            "1\n",
            "tensor([[-0.4313,  0.8798, -0.0552]], grad_fn=<DifferentiableGraphBackward>)\n",
            "1\n",
            "tensor([[ 0.3541, -0.0632, -0.0148]], grad_fn=<DifferentiableGraphBackward>)\n",
            "1\n",
            "tensor([[ 1.2080, -0.7869, -0.1667]], grad_fn=<DifferentiableGraphBackward>)\n",
            "1\n",
            "tensor([[0.0319, 0.2147, 0.0270]], grad_fn=<DifferentiableGraphBackward>)\n",
            "1\n",
            "tensor([[ 1.0225, -0.6360, -0.1316]], grad_fn=<DifferentiableGraphBackward>)\n",
            "1\n",
            "tensor([[0.0542, 0.1940, 0.0274]], grad_fn=<DifferentiableGraphBackward>)\n",
            "1\n",
            "tensor([[0.1957, 0.0713, 0.0109]], grad_fn=<DifferentiableGraphBackward>)\n",
            "1\n",
            "tensor([[-0.4383,  0.8918, -0.0587]], grad_fn=<DifferentiableGraphBackward>)\n",
            "1\n",
            "tensor([[ 0.3037, -0.0223, -0.0088]], grad_fn=<DifferentiableGraphBackward>)\n",
            "1\n",
            "tensor([[ 0.6962, -0.3561, -0.0743]], grad_fn=<DifferentiableGraphBackward>)\n",
            "1\n",
            "tensor([[-0.5743,  1.1398, -0.0909]], grad_fn=<DifferentiableGraphBackward>)\n",
            "1\n",
            "tensor([[-0.6853,  1.3426, -0.1136]], grad_fn=<DifferentiableGraphBackward>)\n",
            "1\n",
            "tensor([[-0.5960,  1.1798, -0.0963]], grad_fn=<DifferentiableGraphBackward>)\n",
            "1\n",
            "tensor([[0.1945, 0.0721, 0.0110]], grad_fn=<DifferentiableGraphBackward>)\n",
            "1\n",
            "tensor([[ 1.2246, -0.7995, -0.1701]], grad_fn=<DifferentiableGraphBackward>)\n",
            "1\n",
            "tensor([[ 0.4483, -0.1443, -0.0317]], grad_fn=<DifferentiableGraphBackward>)\n",
            "1\n",
            "tensor([[ 2.2055, -1.5178, -0.3504]], grad_fn=<DifferentiableGraphBackward>)\n",
            "1\n",
            "tensor([[ 0.8160, -0.4592, -0.0955]], grad_fn=<DifferentiableGraphBackward>)\n",
            "1\n",
            "tensor([[ 0.8612, -0.4963, -0.1023]], grad_fn=<DifferentiableGraphBackward>)\n",
            "1\n",
            "tensor([[ 0.5971, -0.2716, -0.0574]], grad_fn=<DifferentiableGraphBackward>)\n",
            "1\n",
            "tensor([[ 0.7229, -0.3789, -0.0789]], grad_fn=<DifferentiableGraphBackward>)\n",
            "1\n",
            "tensor([[ 1.4416, -0.9583, -0.2110]], grad_fn=<DifferentiableGraphBackward>)\n",
            "1\n",
            "tensor([[0.2323, 0.0408, 0.0060]], grad_fn=<DifferentiableGraphBackward>)\n",
            "1\n",
            "tensor([[ 0.3159, -0.0310, -0.0090]], grad_fn=<DifferentiableGraphBackward>)\n",
            "1\n",
            "tensor([[ 0.8859, -0.5191, -0.1080]], grad_fn=<DifferentiableGraphBackward>)\n",
            "1\n",
            "tensor([[ 1.7405, -1.1738, -0.2676]], grad_fn=<DifferentiableGraphBackward>)\n",
            "1\n",
            "tensor([[0.2061, 0.0634, 0.0110]], grad_fn=<DifferentiableGraphBackward>)\n",
            "1\n",
            "tensor([[ 1.5643, -1.0469, -0.2341]], grad_fn=<DifferentiableGraphBackward>)\n",
            "1\n",
            "tensor([[ 0.7569, -0.4088, -0.0855]], grad_fn=<DifferentiableGraphBackward>)\n",
            "1\n",
            "tensor([[ 1.1353, -0.7307, -0.1534]], grad_fn=<DifferentiableGraphBackward>)\n",
            "1\n",
            "tensor([[ 0.6710, -0.3372, -0.0720]], grad_fn=<DifferentiableGraphBackward>)\n",
            "1\n",
            "tensor([[-0.1152,  0.3972,  0.0170]], grad_fn=<DifferentiableGraphBackward>)\n",
            "1\n",
            "tensor([[ 0.6625, -0.3277, -0.0687]], grad_fn=<DifferentiableGraphBackward>)\n",
            "1\n",
            "tensor([[ 0.8795, -0.5130, -0.1063]], grad_fn=<DifferentiableGraphBackward>)\n",
            "1\n",
            "tensor([[ 1.1792, -0.7645, -0.1601]], grad_fn=<DifferentiableGraphBackward>)\n",
            "1\n",
            "tensor([[0.0813, 0.1689, 0.0252]], grad_fn=<DifferentiableGraphBackward>)\n",
            "1\n",
            "tensor([[-0.7209,  1.4075, -0.1200]], grad_fn=<DifferentiableGraphBackward>)\n",
            "1\n",
            "tensor([[ 1.2338, -0.8065, -0.1715]], grad_fn=<DifferentiableGraphBackward>)\n",
            "1\n",
            "tensor([[ 0.5217, -0.2072, -0.0444]], grad_fn=<DifferentiableGraphBackward>)\n",
            "1\n",
            "tensor([[ 0.8640, -0.5011, -0.1047]], grad_fn=<DifferentiableGraphBackward>)\n",
            "1\n",
            "tensor([[0.2459, 0.0293, 0.0043]], grad_fn=<DifferentiableGraphBackward>)\n",
            "1\n",
            "tensor([[-0.1642,  0.4597,  0.0077]], grad_fn=<DifferentiableGraphBackward>)\n",
            "1\n",
            "tensor([[0.1878, 0.0784, 0.0132]], grad_fn=<DifferentiableGraphBackward>)\n",
            "1\n",
            "tensor([[ 0.8962, -0.5271, -0.1091]], grad_fn=<DifferentiableGraphBackward>)\n",
            "1\n",
            "tensor([[ 0.5113, -0.1975, -0.0420]], grad_fn=<DifferentiableGraphBackward>)\n",
            "1\n",
            "tensor([[ 0.5046, -0.1918, -0.0409]], grad_fn=<DifferentiableGraphBackward>)\n",
            "1\n",
            "tensor([[ 0.4982, -0.1896, -0.0423]], grad_fn=<DifferentiableGraphBackward>)\n",
            "1\n",
            "tensor([[-0.8278,  1.6041, -0.1395]], grad_fn=<DifferentiableGraphBackward>)\n",
            "1\n",
            "tensor([[-0.7062,  1.3807, -0.1174]], grad_fn=<DifferentiableGraphBackward>)\n",
            "1\n",
            "tensor([[ 0.3166, -0.0314, -0.0090]], grad_fn=<DifferentiableGraphBackward>)\n",
            "1\n",
            "tensor([[0.1449, 0.1143, 0.0198]], grad_fn=<DifferentiableGraphBackward>)\n",
            "1\n",
            "tensor([[ 0.2758,  0.0034, -0.0023]], grad_fn=<DifferentiableGraphBackward>)\n",
            "1\n",
            "tensor([[ 2.1473, -1.4746, -0.3402]], grad_fn=<DifferentiableGraphBackward>)\n",
            "1\n",
            "tensor([[ 0.7936, -0.4408, -0.0924]], grad_fn=<DifferentiableGraphBackward>)\n",
            "1\n",
            "tensor([[ 0.9484, -0.5719, -0.1182]], grad_fn=<DifferentiableGraphBackward>)\n",
            "1\n",
            "tensor([[ 0.5705, -0.2485, -0.0524]], grad_fn=<DifferentiableGraphBackward>)\n",
            "1\n",
            "tensor([[ 0.5036, -0.1913, -0.0410]], grad_fn=<DifferentiableGraphBackward>)\n",
            "1\n",
            "tensor([[-0.1502,  0.4417,  0.0105]], grad_fn=<DifferentiableGraphBackward>)\n",
            "1\n",
            "tensor([[0.2179, 0.0531, 0.0087]], grad_fn=<DifferentiableGraphBackward>)\n",
            "1\n",
            "tensor([[ 1.0363, -0.6480, -0.1343]], grad_fn=<DifferentiableGraphBackward>)\n",
            "1\n",
            "tensor([[-0.1358,  0.4192,  0.0124]], grad_fn=<DifferentiableGraphBackward>)\n",
            "1\n",
            "tensor([[ 2.2581, -1.5568, -0.3595]], grad_fn=<DifferentiableGraphBackward>)\n",
            "1\n",
            "tensor([[ 0.8318, -0.4722, -0.0980]], grad_fn=<DifferentiableGraphBackward>)\n",
            "1\n",
            "tensor([[0.1756, 0.0882, 0.0141]], grad_fn=<DifferentiableGraphBackward>)\n",
            "1\n",
            "tensor([[ 0.5154, -0.2008, -0.0423]], grad_fn=<DifferentiableGraphBackward>)\n",
            "1\n",
            "tensor([[0.0740, 0.1762, 0.0272]], grad_fn=<DifferentiableGraphBackward>)\n",
            "1\n",
            "tensor([[-0.5429,  1.0825, -0.0838]], grad_fn=<DifferentiableGraphBackward>)\n",
            "1\n",
            "tensor([[ 0.8466, -0.4873, -0.1026]], grad_fn=<DifferentiableGraphBackward>)\n",
            "1\n",
            "tensor([[ 0.6702, -0.3346, -0.0703]], grad_fn=<DifferentiableGraphBackward>)\n",
            "1\n",
            "tensor([[ 0.2682,  0.0096, -0.0015]], grad_fn=<DifferentiableGraphBackward>)\n",
            "1\n",
            "tensor([[ 0.4922, -0.1840, -0.0409]], grad_fn=<DifferentiableGraphBackward>)\n",
            "1\n",
            "tensor([[-0.4731,  0.9554, -0.0667]], grad_fn=<DifferentiableGraphBackward>)\n",
            "1\n",
            "tensor([[ 1.2118, -0.7884, -0.1641]], grad_fn=<DifferentiableGraphBackward>)\n",
            "1\n",
            "tensor([[ 1.4003, -0.9281, -0.2034]], grad_fn=<DifferentiableGraphBackward>)\n",
            "1\n",
            "tensor([[ 1.0149, -0.6288, -0.1297]], grad_fn=<DifferentiableGraphBackward>)\n",
            "1\n",
            "tensor([[0.1516, 0.1090, 0.0192]], grad_fn=<DifferentiableGraphBackward>)\n",
            "1\n",
            "tensor([[ 0.3645, -0.0731, -0.0174]], grad_fn=<DifferentiableGraphBackward>)\n",
            "1\n",
            "tensor([[0.0150, 0.2332, 0.0284]], grad_fn=<DifferentiableGraphBackward>)\n",
            "1\n",
            "tensor([[ 1.7094, -1.1513, -0.2608]], grad_fn=<DifferentiableGraphBackward>)\n",
            "1\n",
            "tensor([[-0.6893,  1.3497, -0.1144]], grad_fn=<DifferentiableGraphBackward>)\n",
            "1\n",
            "tensor([[-0.2678,  0.6119, -0.0105]], grad_fn=<DifferentiableGraphBackward>)\n",
            "1\n",
            "tensor([[ 2.0799, -1.4247, -0.3283]], grad_fn=<DifferentiableGraphBackward>)\n",
            "1\n",
            "tensor([[ 1.2059, -0.7851, -0.1655]], grad_fn=<DifferentiableGraphBackward>)\n",
            "1\n",
            "tensor([[0.0428, 0.2048, 0.0275]], grad_fn=<DifferentiableGraphBackward>)\n",
            "1\n",
            "tensor([[-0.2607,  0.5998, -0.0094]], grad_fn=<DifferentiableGraphBackward>)\n",
            "1\n",
            "tensor([[-0.5956,  1.1794, -0.0963]], grad_fn=<DifferentiableGraphBackward>)\n",
            "1\n",
            "tensor([[ 0.7949, -0.4413, -0.0921]], grad_fn=<DifferentiableGraphBackward>)\n",
            "1\n",
            "tensor([[-0.5102,  1.0231, -0.0747]], grad_fn=<DifferentiableGraphBackward>)\n",
            "1\n",
            "tensor([[0.0608, 0.1874, 0.0264]], grad_fn=<DifferentiableGraphBackward>)\n",
            "1\n",
            "tensor([[ 0.5258, -0.2105, -0.0451]], grad_fn=<DifferentiableGraphBackward>)\n",
            "1\n",
            "tensor([[-0.8002,  1.5529, -0.1345]], grad_fn=<DifferentiableGraphBackward>)\n",
            "1\n",
            "tensor([[ 0.5212, -0.2063, -0.0440]], grad_fn=<DifferentiableGraphBackward>)\n",
            "1\n",
            "tensor([[ 0.2859, -0.0055, -0.0042]], grad_fn=<DifferentiableGraphBackward>)\n",
            "1\n",
            "tensor([[0.2437, 0.0307, 0.0035]], grad_fn=<DifferentiableGraphBackward>)\n",
            "1\n",
            "tensor([[0.1642, 0.0989, 0.0181]], grad_fn=<DifferentiableGraphBackward>)\n",
            "1\n",
            "tensor([[ 0.5065, -0.1962, -0.0434]], grad_fn=<DifferentiableGraphBackward>)\n",
            "1\n",
            "tensor([[ 0.4851, -0.1756, -0.0378]], grad_fn=<DifferentiableGraphBackward>)\n",
            "1\n",
            "tensor([[ 1.3574, -0.8972, -0.1955]], grad_fn=<DifferentiableGraphBackward>)\n",
            "1\n",
            "tensor([[ 0.8032, -0.4465, -0.0921]], grad_fn=<DifferentiableGraphBackward>)\n",
            "1\n",
            "tensor([[-0.0806,  0.3462,  0.0211]], grad_fn=<DifferentiableGraphBackward>)\n",
            "1\n",
            "tensor([[ 1.8889, -1.2831, -0.2943]], grad_fn=<DifferentiableGraphBackward>)\n",
            "1\n",
            "tensor([[ 0.6991, -0.3602, -0.0763]], grad_fn=<DifferentiableGraphBackward>)\n",
            "1\n",
            "tensor([[ 0.8733, -0.5089, -0.1061]], grad_fn=<DifferentiableGraphBackward>)\n",
            "1\n",
            "tensor([[-0.7741,  1.5049, -0.1297]], grad_fn=<DifferentiableGraphBackward>)\n",
            "1\n",
            "tensor([[0.0877, 0.1640, 0.0263]], grad_fn=<DifferentiableGraphBackward>)\n",
            "1\n",
            "tensor([[0.2541, 0.0223, 0.0022]], grad_fn=<DifferentiableGraphBackward>)\n",
            "1\n",
            "tensor([[-0.7802,  1.5157, -0.1304]], grad_fn=<DifferentiableGraphBackward>)\n",
            "1\n",
            "tensor([[ 0.8076, -0.4518, -0.0939]], grad_fn=<DifferentiableGraphBackward>)\n",
            "1\n",
            "tensor([[0.1351, 0.1221, 0.0206]], grad_fn=<DifferentiableGraphBackward>)\n",
            "1\n",
            "tensor([[0.0072, 0.2412, 0.0285]], grad_fn=<DifferentiableGraphBackward>)\n",
            "1\n",
            "tensor([[ 0.6227, -0.2935, -0.0619]], grad_fn=<DifferentiableGraphBackward>)\n",
            "1\n",
            "tensor([[-0.0911,  0.3604,  0.0196]], grad_fn=<DifferentiableGraphBackward>)\n",
            "1\n",
            "tensor([[ 1.2083, -0.7868, -0.1655]], grad_fn=<DifferentiableGraphBackward>)\n",
            "1\n",
            "tensor([[0.0500, 0.1979, 0.0273]], grad_fn=<DifferentiableGraphBackward>)\n",
            "1\n",
            "tensor([[ 0.8503, -0.4884, -0.1015]], grad_fn=<DifferentiableGraphBackward>)\n",
            "1\n",
            "tensor([[-0.2349,  0.5596, -0.0053]], grad_fn=<DifferentiableGraphBackward>)\n",
            "1\n",
            "tensor([[ 0.4798, -0.1719, -0.0376]], grad_fn=<DifferentiableGraphBackward>)\n",
            "1\n",
            "tensor([[-0.6551,  1.2879, -0.1083]], grad_fn=<DifferentiableGraphBackward>)\n",
            "1\n",
            "tensor([[-0.0533,  0.3073,  0.0236]], grad_fn=<DifferentiableGraphBackward>)\n",
            "1\n",
            "tensor([[-0.6153,  1.2150, -0.0998]], grad_fn=<DifferentiableGraphBackward>)\n",
            "1\n",
            "tensor([[ 0.4497, -0.1453, -0.0317]], grad_fn=<DifferentiableGraphBackward>)\n",
            "1\n",
            "tensor([[0.2228, 0.0491, 0.0081]], grad_fn=<DifferentiableGraphBackward>)\n",
            "1\n",
            "tensor([[-0.7278,  1.4201, -0.1213]], grad_fn=<DifferentiableGraphBackward>)\n",
            "1\n",
            "tensor([[0.1176, 0.1366, 0.0220]], grad_fn=<DifferentiableGraphBackward>)\n",
            "1\n",
            "tensor([[0.1468, 0.1128, 0.0200]], grad_fn=<DifferentiableGraphBackward>)\n",
            "1\n",
            "tensor([[ 0.8641, -0.4994, -0.1032]], grad_fn=<DifferentiableGraphBackward>)\n",
            "1\n",
            "tensor([[-0.5992,  1.1852, -0.0950]], grad_fn=<DifferentiableGraphBackward>)\n",
            "1\n",
            "tensor([[ 0.3692, -0.0768, -0.0178]], grad_fn=<DifferentiableGraphBackward>)\n",
            "1\n",
            "tensor([[0.0039, 0.2433, 0.0273]], grad_fn=<DifferentiableGraphBackward>)\n",
            "1\n",
            "tensor([[0.2307, 0.0424, 0.0068]], grad_fn=<DifferentiableGraphBackward>)\n",
            "1\n",
            "tensor([[-0.4797,  0.9675, -0.0677]], grad_fn=<DifferentiableGraphBackward>)\n",
            "1\n",
            "tensor([[ 0.4006, -0.1039, -0.0237]], grad_fn=<DifferentiableGraphBackward>)\n",
            "1\n",
            "tensor([[ 0.5473, -0.2297, -0.0493]], grad_fn=<DifferentiableGraphBackward>)\n",
            "1\n",
            "tensor([[-0.6961,  1.3624, -0.1157]], grad_fn=<DifferentiableGraphBackward>)\n",
            "1\n",
            "tensor([[ 0.2973, -0.0148, -0.0052]], grad_fn=<DifferentiableGraphBackward>)\n",
            "1\n",
            "tensor([[0.0657, 0.1836, 0.0267]], grad_fn=<DifferentiableGraphBackward>)\n",
            "1\n",
            "tensor([[ 0.8195, -0.4616, -0.0957]], grad_fn=<DifferentiableGraphBackward>)\n",
            "1\n",
            "tensor([[-0.6641,  1.3042, -0.1099]], grad_fn=<DifferentiableGraphBackward>)\n",
            "1\n",
            "tensor([[ 0.7358, -0.3916, -0.0825]], grad_fn=<DifferentiableGraphBackward>)\n",
            "1\n",
            "tensor([[-0.4305,  0.8795, -0.0541]], grad_fn=<DifferentiableGraphBackward>)\n",
            "1\n",
            "tensor([[0.2212, 0.0503, 0.0082]], grad_fn=<DifferentiableGraphBackward>)\n",
            "1\n",
            "tensor([[-0.3134,  0.6799, -0.0235]], grad_fn=<DifferentiableGraphBackward>)\n",
            "1\n",
            "tensor([[ 1.3394, -0.8839, -0.1909]], grad_fn=<DifferentiableGraphBackward>)\n",
            "1\n",
            "tensor([[ 0.5188, -0.2045, -0.0437]], grad_fn=<DifferentiableGraphBackward>)\n",
            "1\n",
            "tensor([[ 0.7043, -0.3628, -0.0755]], grad_fn=<DifferentiableGraphBackward>)\n",
            "1\n",
            "tensor([[ 0.6366, -0.3052, -0.0641]], grad_fn=<DifferentiableGraphBackward>)\n",
            "1\n",
            "tensor([[ 0.8096, -0.4530, -0.0939]], grad_fn=<DifferentiableGraphBackward>)\n",
            "1\n",
            "tensor([[-0.6688,  1.3126, -0.1107]], grad_fn=<DifferentiableGraphBackward>)\n",
            "1\n",
            "tensor([[ 0.5401, -0.2238, -0.0482]], grad_fn=<DifferentiableGraphBackward>)\n",
            "1\n",
            "tensor([[0.0358, 0.2133, 0.0291]], grad_fn=<DifferentiableGraphBackward>)\n",
            "1\n",
            "tensor([[ 0.9432, -0.5687, -0.1182]], grad_fn=<DifferentiableGraphBackward>)\n",
            "1\n",
            "tensor([[-0.1906,  0.4961,  0.0023]], grad_fn=<DifferentiableGraphBackward>)\n",
            "1\n",
            "tensor([[-0.2741,  0.6159, -0.0140]], grad_fn=<DifferentiableGraphBackward>)\n",
            "1\n",
            "tensor([[ 1.8100, -1.2248, -0.2803]], grad_fn=<DifferentiableGraphBackward>)\n",
            "1\n",
            "tensor([[ 0.6463, -0.3144, -0.0666]], grad_fn=<DifferentiableGraphBackward>)\n",
            "1\n",
            "tensor([[ 1.1040, -0.7034, -0.1453]], grad_fn=<DifferentiableGraphBackward>)\n",
            "1\n",
            "tensor([[0.1133, 0.1408, 0.0230]], grad_fn=<DifferentiableGraphBackward>)\n",
            "1\n",
            "tensor([[ 0.8975, -0.5285, -0.1095]], grad_fn=<DifferentiableGraphBackward>)\n",
            "1\n",
            "tensor([[0.2287, 0.0437, 0.0062]], grad_fn=<DifferentiableGraphBackward>)\n",
            "1\n",
            "tensor([[ 1.3355, -0.8811, -0.1915]], grad_fn=<DifferentiableGraphBackward>)\n",
            "1\n",
            "tensor([[-0.5446,  1.0856, -0.0834]], grad_fn=<DifferentiableGraphBackward>)\n",
            "1\n",
            "tensor([[-0.3264,  0.7035, -0.0261]], grad_fn=<DifferentiableGraphBackward>)\n",
            "1\n",
            "tensor([[ 0.2820, -0.0018, -0.0031]], grad_fn=<DifferentiableGraphBackward>)\n",
            "1\n",
            "tensor([[ 1.2214, -0.7968, -0.1683]], grad_fn=<DifferentiableGraphBackward>)\n",
            "1\n",
            "tensor([[ 0.3241, -0.0391, -0.0115]], grad_fn=<DifferentiableGraphBackward>)\n",
            "1\n",
            "tensor([[-0.7576,  1.4748, -0.1269]], grad_fn=<DifferentiableGraphBackward>)\n",
            "1\n",
            "tensor([[-0.8449,  1.6356, -0.1425]], grad_fn=<DifferentiableGraphBackward>)\n",
            "1\n",
            "tensor([[ 1.1572, -0.7473, -0.1559]], grad_fn=<DifferentiableGraphBackward>)\n",
            "1\n",
            "tensor([[-0.7587,  1.4770, -0.1272]], grad_fn=<DifferentiableGraphBackward>)\n",
            "1\n",
            "tensor([[-0.3084,  0.6730, -0.0214]], grad_fn=<DifferentiableGraphBackward>)\n",
            "1\n",
            "tensor([[ 0.8006, -0.4455, -0.0925]], grad_fn=<DifferentiableGraphBackward>)\n",
            "1\n",
            "tensor([[ 0.8766, -0.5100, -0.1053]], grad_fn=<DifferentiableGraphBackward>)\n",
            "1\n",
            "tensor([[ 1.3793, -0.9129, -0.2010]], grad_fn=<DifferentiableGraphBackward>)\n",
            "1\n",
            "tensor([[ 0.9598, -0.5816, -0.1201]], grad_fn=<DifferentiableGraphBackward>)\n",
            "1\n",
            "tensor([[-0.4120,  0.8472, -0.0498]], grad_fn=<DifferentiableGraphBackward>)\n",
            "1\n",
            "tensor([[ 1.1761, -0.7616, -0.1587]], grad_fn=<DifferentiableGraphBackward>)\n",
            "1\n",
            "tensor([[0.2302, 0.0418, 0.0061]], grad_fn=<DifferentiableGraphBackward>)\n",
            "1\n",
            "tensor([[ 0.5417, -0.2239, -0.0475]], grad_fn=<DifferentiableGraphBackward>)\n",
            "1\n",
            "tensor([[0.1011, 0.1521, 0.0253]], grad_fn=<DifferentiableGraphBackward>)\n",
            "1\n",
            "tensor([[ 0.4552, -0.1501, -0.0327]], grad_fn=<DifferentiableGraphBackward>)\n",
            "1\n",
            "tensor([[0.1796, 0.0851, 0.0140]], grad_fn=<DifferentiableGraphBackward>)\n",
            "1\n",
            "tensor([[ 1.7431, -1.1758, -0.2681]], grad_fn=<DifferentiableGraphBackward>)\n",
            "1\n",
            "tensor([[-0.4015,  0.8313, -0.0453]], grad_fn=<DifferentiableGraphBackward>)\n",
            "1\n",
            "tensor([[-0.7264,  1.4176, -0.1210]], grad_fn=<DifferentiableGraphBackward>)\n",
            "1\n",
            "tensor([[ 1.4871, -0.9914, -0.2206]], grad_fn=<DifferentiableGraphBackward>)\n",
            "1\n",
            "tensor([[ 1.0545, -0.6603, -0.1353]], grad_fn=<DifferentiableGraphBackward>)\n",
            "1\n",
            "tensor([[ 1.1023, -0.7017, -0.1447]], grad_fn=<DifferentiableGraphBackward>)\n",
            "1\n",
            "tensor([[ 0.7673, -0.4164, -0.0863]], grad_fn=<DifferentiableGraphBackward>)\n",
            "1\n",
            "tensor([[-0.6809,  1.3348, -0.1131]], grad_fn=<DifferentiableGraphBackward>)\n",
            "1\n",
            "tensor([[0.1017, 0.1511, 0.0245]], grad_fn=<DifferentiableGraphBackward>)\n",
            "1\n",
            "tensor([[ 1.7281, -1.1649, -0.2650]], grad_fn=<DifferentiableGraphBackward>)\n",
            "1\n",
            "tensor([[ 0.7957, -0.4417, -0.0921]], grad_fn=<DifferentiableGraphBackward>)\n",
            "1\n",
            "tensor([[ 0.5715, -0.2496, -0.0529]], grad_fn=<DifferentiableGraphBackward>)\n",
            "1\n",
            "tensor([[ 0.4548, -0.1496, -0.0325]], grad_fn=<DifferentiableGraphBackward>)\n",
            "1\n",
            "tensor([[-0.5245,  1.0490, -0.0797]], grad_fn=<DifferentiableGraphBackward>)\n",
            "1\n",
            "tensor([[-0.7887,  1.5319, -0.1325]], grad_fn=<DifferentiableGraphBackward>)\n",
            "1\n",
            "tensor([[ 0.8777, -0.5117, -0.1062]], grad_fn=<DifferentiableGraphBackward>)\n",
            "1\n",
            "tensor([[ 0.4348, -0.1326, -0.0291]], grad_fn=<DifferentiableGraphBackward>)\n",
            "1\n",
            "tensor([[-0.2012,  0.5110,  0.0007]], grad_fn=<DifferentiableGraphBackward>)\n",
            "1\n",
            "tensor([[0.0958, 0.1555, 0.0238]], grad_fn=<DifferentiableGraphBackward>)\n",
            "1\n",
            "tensor([[-0.0839,  0.3524,  0.0211]], grad_fn=<DifferentiableGraphBackward>)\n",
            "1\n",
            "tensor([[-0.6217,  1.2266, -0.1012]], grad_fn=<DifferentiableGraphBackward>)\n",
            "1\n",
            "tensor([[ 0.4034, -0.1057, -0.0237]], grad_fn=<DifferentiableGraphBackward>)\n",
            "1\n",
            "tensor([[ 0.4354, -0.1338, -0.0299]], grad_fn=<DifferentiableGraphBackward>)\n",
            "1\n",
            "tensor([[-0.2767,  0.6238, -0.0133]], grad_fn=<DifferentiableGraphBackward>)\n",
            "1\n",
            "tensor([[ 0.4494, -0.1458, -0.0322]], grad_fn=<DifferentiableGraphBackward>)\n",
            "1\n",
            "tensor([[-0.4424,  0.8997, -0.0574]], grad_fn=<DifferentiableGraphBackward>)\n",
            "1\n",
            "tensor([[0.1059, 0.1478, 0.0246]], grad_fn=<DifferentiableGraphBackward>)\n",
            "1\n",
            "tensor([[ 1.5789, -1.0572, -0.2366]], grad_fn=<DifferentiableGraphBackward>)\n",
            "1\n",
            "tensor([[ 0.7434, -0.3967, -0.0827]], grad_fn=<DifferentiableGraphBackward>)\n",
            "1\n",
            "tensor([[-0.5388,  1.0753, -0.0816]], grad_fn=<DifferentiableGraphBackward>)\n",
            "1\n",
            "tensor([[ 1.8036, -1.2200, -0.2789]], grad_fn=<DifferentiableGraphBackward>)\n",
            "1\n",
            "tensor([[-0.2206,  0.5436, -0.0016]], grad_fn=<DifferentiableGraphBackward>)\n",
            "1\n",
            "tensor([[ 0.3376, -0.0496, -0.0122]], grad_fn=<DifferentiableGraphBackward>)\n",
            "1\n",
            "tensor([[ 0.4139, -0.1140, -0.0248]], grad_fn=<DifferentiableGraphBackward>)\n",
            "1\n",
            "tensor([[0.1440, 0.1150, 0.0203]], grad_fn=<DifferentiableGraphBackward>)\n",
            "1\n",
            "tensor([[-0.1750,  0.4774,  0.0061]], grad_fn=<DifferentiableGraphBackward>)\n",
            "1\n",
            "tensor([[0.1754, 0.0888, 0.0152]], grad_fn=<DifferentiableGraphBackward>)\n",
            "1\n",
            "tensor([[ 0.8792, -0.5139, -0.1072]], grad_fn=<DifferentiableGraphBackward>)\n",
            "1\n",
            "tensor([[ 0.4589, -0.1531, -0.0331]], grad_fn=<DifferentiableGraphBackward>)\n",
            "1\n",
            "tensor([[0.1446, 0.1146, 0.0198]], grad_fn=<DifferentiableGraphBackward>)\n",
            "1\n",
            "tensor([[ 0.2731,  0.0042, -0.0036]], grad_fn=<DifferentiableGraphBackward>)\n",
            "1\n",
            "tensor([[ 0.3417, -0.0527, -0.0126]], grad_fn=<DifferentiableGraphBackward>)\n",
            "1\n",
            "tensor([[0.1400, 0.1188, 0.0210]], grad_fn=<DifferentiableGraphBackward>)\n",
            "1\n",
            "tensor([[ 0.5623, -0.2412, -0.0509]], grad_fn=<DifferentiableGraphBackward>)\n",
            "1\n",
            "tensor([[ 0.6877, -0.3488, -0.0728]], grad_fn=<DifferentiableGraphBackward>)\n",
            "1\n",
            "tensor([[ 0.7906, -0.4371, -0.0910]], grad_fn=<DifferentiableGraphBackward>)\n",
            "1\n",
            "tensor([[ 1.0640, -0.6702, -0.1384]], grad_fn=<DifferentiableGraphBackward>)\n",
            "1\n",
            "tensor([[-0.4770,  0.9626, -0.0649]], grad_fn=<DifferentiableGraphBackward>)\n",
            "1\n",
            "tensor([[-0.5411,  1.0797, -0.0839]], grad_fn=<DifferentiableGraphBackward>)\n",
            "1\n",
            "tensor([[-0.3037,  0.6642, -0.0210]], grad_fn=<DifferentiableGraphBackward>)\n",
            "1\n",
            "tensor([[ 1.2308, -0.8045, -0.1720]], grad_fn=<DifferentiableGraphBackward>)\n",
            "1\n",
            "tensor([[0.0048, 0.2425, 0.0274]], grad_fn=<DifferentiableGraphBackward>)\n",
            "1\n",
            "tensor([[-0.6855,  1.3430, -0.1137]], grad_fn=<DifferentiableGraphBackward>)\n",
            "1\n",
            "tensor([[ 0.4956, -0.1830, -0.0380]], grad_fn=<DifferentiableGraphBackward>)\n",
            "1\n",
            "tensor([[0.1996, 0.0682, 0.0110]], grad_fn=<DifferentiableGraphBackward>)\n",
            "1\n",
            "tensor([[ 1.5946, -1.0683, -0.2399]], grad_fn=<DifferentiableGraphBackward>)\n",
            "1\n",
            "tensor([[ 0.4542, -0.1495, -0.0328]], grad_fn=<DifferentiableGraphBackward>)\n",
            "1\n",
            "tensor([[0.0643, 0.1844, 0.0267]], grad_fn=<DifferentiableGraphBackward>)\n",
            "1\n",
            "tensor([[ 0.5632, -0.2450, -0.0535]], grad_fn=<DifferentiableGraphBackward>)\n",
            "1\n",
            "tensor([[ 0.6102, -0.2849, -0.0613]], grad_fn=<DifferentiableGraphBackward>)\n",
            "1\n",
            "tensor([[ 2.1636, -1.4867, -0.3430]], grad_fn=<DifferentiableGraphBackward>)\n",
            "1\n",
            "tensor([[ 0.8849, -0.5205, -0.1095]], grad_fn=<DifferentiableGraphBackward>)\n",
            "1\n",
            "tensor([[ 0.3399, -0.0517, -0.0129]], grad_fn=<DifferentiableGraphBackward>)\n",
            "1\n",
            "tensor([[-0.6738,  1.3217, -0.1116]], grad_fn=<DifferentiableGraphBackward>)\n",
            "1\n",
            "tensor([[-0.8240,  1.5969, -0.1387]], grad_fn=<DifferentiableGraphBackward>)\n",
            "1\n",
            "tensor([[ 1.5071, -1.0056, -0.2256]], grad_fn=<DifferentiableGraphBackward>)\n",
            "1\n",
            "tensor([[ 0.7990, -0.4429, -0.0914]], grad_fn=<DifferentiableGraphBackward>)\n",
            "1\n",
            "tensor([[ 0.3088, -0.0250, -0.0074]], grad_fn=<DifferentiableGraphBackward>)\n",
            "1\n",
            "tensor([[ 0.6749, -0.3380, -0.0706]], grad_fn=<DifferentiableGraphBackward>)\n",
            "1\n",
            "tensor([[ 0.6606, -0.3256, -0.0681]], grad_fn=<DifferentiableGraphBackward>)\n",
            "1\n",
            "tensor([[ 0.3615, -0.0710, -0.0175]], grad_fn=<DifferentiableGraphBackward>)\n",
            "1\n",
            "tensor([[0.1044, 0.1485, 0.0236]], grad_fn=<DifferentiableGraphBackward>)\n",
            "1\n",
            "tensor([[ 0.6450, -0.3133, -0.0662]], grad_fn=<DifferentiableGraphBackward>)\n",
            "1\n",
            "tensor([[-0.6462,  1.2713, -0.1063]], grad_fn=<DifferentiableGraphBackward>)\n",
            "1\n",
            "tensor([[ 0.8500, -0.4907, -0.1035]], grad_fn=<DifferentiableGraphBackward>)\n",
            "1\n",
            "tensor([[ 1.4386, -0.9561, -0.2102]], grad_fn=<DifferentiableGraphBackward>)\n",
            "1\n",
            "tensor([[ 0.8096, -0.4558, -0.0961]], grad_fn=<DifferentiableGraphBackward>)\n",
            "1\n",
            "tensor([[0.2293, 0.0433, 0.0067]], grad_fn=<DifferentiableGraphBackward>)\n",
            "1\n",
            "tensor([[ 1.4432, -0.9593, -0.2119]], grad_fn=<DifferentiableGraphBackward>)\n",
            "1\n",
            "tensor([[2.5261e-01, 2.2151e-02, 1.1884e-04]],\n",
            "       grad_fn=<DifferentiableGraphBackward>)\n",
            "1\n",
            "tensor([[-0.4716,  0.9528, -0.0661]], grad_fn=<DifferentiableGraphBackward>)\n",
            "1\n",
            "tensor([[ 1.8838, -1.2793, -0.2934]], grad_fn=<DifferentiableGraphBackward>)\n",
            "1\n",
            "tensor([[ 1.2528, -0.8205, -0.1739]], grad_fn=<DifferentiableGraphBackward>)\n",
            "1\n",
            "tensor([[ 0.3077, -0.0243, -0.0081]], grad_fn=<DifferentiableGraphBackward>)\n",
            "1\n",
            "tensor([[-0.3244,  0.7013, -0.0248]], grad_fn=<DifferentiableGraphBackward>)\n",
            "1\n",
            "tensor([[ 0.6786, -0.3406, -0.0709]], grad_fn=<DifferentiableGraphBackward>)\n",
            "1\n",
            "tensor([[-0.0973,  0.3651,  0.0175]], grad_fn=<DifferentiableGraphBackward>)\n",
            "1\n",
            "tensor([[ 0.6614, -0.3261, -0.0681]], grad_fn=<DifferentiableGraphBackward>)\n",
            "1\n",
            "tensor([[ 1.0709, -0.6767, -0.1401]], grad_fn=<DifferentiableGraphBackward>)\n",
            "1\n",
            "tensor([[ 0.8910, -0.5235, -0.1086]], grad_fn=<DifferentiableGraphBackward>)\n",
            "1\n",
            "tensor([[ 0.5484, -0.2300, -0.0490]], grad_fn=<DifferentiableGraphBackward>)\n",
            "1\n",
            "tensor([[ 1.6351, -1.0973, -0.2478]], grad_fn=<DifferentiableGraphBackward>)\n",
            "1\n",
            "tensor([[ 1.6589, -1.1146, -0.2524]], grad_fn=<DifferentiableGraphBackward>)\n",
            "1\n",
            "tensor([[ 2.0971, -1.4375, -0.3314]], grad_fn=<DifferentiableGraphBackward>)\n",
            "1\n",
            "tensor([[0.0974, 0.1552, 0.0253]], grad_fn=<DifferentiableGraphBackward>)\n",
            "1\n",
            "tensor([[ 0.4387, -0.1363, -0.0301]], grad_fn=<DifferentiableGraphBackward>)\n",
            "1\n",
            "tensor([[ 1.0474, -0.6565, -0.1357]], grad_fn=<DifferentiableGraphBackward>)\n",
            "1\n",
            "tensor([[ 0.9976, -0.6145, -0.1271]], grad_fn=<DifferentiableGraphBackward>)\n",
            "1\n",
            "tensor([[0.2548, 0.0210, 0.0012]], grad_fn=<DifferentiableGraphBackward>)\n",
            "1\n",
            "tensor([[0.0016, 0.2465, 0.0281]], grad_fn=<DifferentiableGraphBackward>)\n",
            "1\n",
            "tensor([[ 0.3805, -0.0860, -0.0196]], grad_fn=<DifferentiableGraphBackward>)\n",
            "1\n",
            "tensor([[ 0.5847, -0.2601, -0.0546]], grad_fn=<DifferentiableGraphBackward>)\n",
            "1\n",
            "tensor([[ 0.3850, -0.0900, -0.0204]], grad_fn=<DifferentiableGraphBackward>)\n",
            "1\n",
            "tensor([[0.0047, 0.2423, 0.0272]], grad_fn=<DifferentiableGraphBackward>)\n",
            "1\n",
            "tensor([[ 1.4718, -0.9804, -0.2178]], grad_fn=<DifferentiableGraphBackward>)\n",
            "1\n",
            "tensor([[0.0101, 0.2373, 0.0275]], grad_fn=<DifferentiableGraphBackward>)\n",
            "1\n",
            "tensor([[ 0.7757, -0.4240, -0.0881]], grad_fn=<DifferentiableGraphBackward>)\n",
            "1\n",
            "tensor([[0.1494, 0.1106, 0.0190]], grad_fn=<DifferentiableGraphBackward>)\n",
            "1\n",
            "tensor([[-0.7959,  1.5453, -0.1338]], grad_fn=<DifferentiableGraphBackward>)\n",
            "1\n",
            "tensor([[-0.6564,  1.2901, -0.1085]], grad_fn=<DifferentiableGraphBackward>)\n",
            "1\n",
            "tensor([[0.0848, 0.1654, 0.0248]], grad_fn=<DifferentiableGraphBackward>)\n",
            "1\n",
            "tensor([[ 0.6711, -0.3355, -0.0708]], grad_fn=<DifferentiableGraphBackward>)\n",
            "1\n",
            "tensor([[-0.1194,  0.4035,  0.0165]], grad_fn=<DifferentiableGraphBackward>)\n",
            "1\n",
            "tensor([[-0.3674,  0.7688, -0.0393]], grad_fn=<DifferentiableGraphBackward>)\n",
            "1\n",
            "tensor([[ 0.3267, -0.0404, -0.0109]], grad_fn=<DifferentiableGraphBackward>)\n",
            "1\n",
            "tensor([[-0.6792,  1.3312, -0.1124]], grad_fn=<DifferentiableGraphBackward>)\n",
            "1\n",
            "tensor([[ 0.7214, -0.3772, -0.0784]], grad_fn=<DifferentiableGraphBackward>)\n",
            "1\n",
            "tensor([[ 0.4456, -0.1412, -0.0304]], grad_fn=<DifferentiableGraphBackward>)\n",
            "1\n",
            "tensor([[-0.4433,  0.9008, -0.0588]], grad_fn=<DifferentiableGraphBackward>)\n",
            "1\n",
            "tensor([[-0.1201,  0.4007,  0.0157]], grad_fn=<DifferentiableGraphBackward>)\n",
            "1\n",
            "tensor([[ 0.6173, -0.2892, -0.0612]], grad_fn=<DifferentiableGraphBackward>)\n",
            "1\n",
            "tensor([[ 0.9288, -0.5568, -0.1159]], grad_fn=<DifferentiableGraphBackward>)\n",
            "1\n",
            "tensor([[ 0.4844, -0.1753, -0.0380]], grad_fn=<DifferentiableGraphBackward>)\n",
            "1\n",
            "tensor([[0.0449, 0.2024, 0.0270]], grad_fn=<DifferentiableGraphBackward>)\n",
            "1\n",
            "tensor([[0.1011, 0.1518, 0.0247]], grad_fn=<DifferentiableGraphBackward>)\n",
            "1\n",
            "tensor([[ 0.9767, -0.5972, -0.1240]], grad_fn=<DifferentiableGraphBackward>)\n",
            "1\n",
            "tensor([[ 0.6026, -0.2756, -0.0577]], grad_fn=<DifferentiableGraphBackward>)\n",
            "1\n",
            "tensor([[ 1.1028, -0.7025, -0.1451]], grad_fn=<DifferentiableGraphBackward>)\n",
            "1\n",
            "tensor([[ 0.6250, -0.2946, -0.0616]], grad_fn=<DifferentiableGraphBackward>)\n",
            "1\n",
            "tensor([[ 1.5475, -1.0348, -0.2317]], grad_fn=<DifferentiableGraphBackward>)\n",
            "1\n",
            "tensor([[ 0.6616, -0.3290, -0.0704]], grad_fn=<DifferentiableGraphBackward>)\n",
            "1\n",
            "tensor([[ 1.6298, -1.0934, -0.2472]], grad_fn=<DifferentiableGraphBackward>)\n",
            "1\n",
            "tensor([[-0.3284,  0.7049, -0.0275]], grad_fn=<DifferentiableGraphBackward>)\n",
            "1\n",
            "tensor([[0.0268, 0.2221, 0.0289]], grad_fn=<DifferentiableGraphBackward>)\n",
            "1\n",
            "tensor([[-0.4776,  0.9639, -0.0673]], grad_fn=<DifferentiableGraphBackward>)\n",
            "1\n",
            "tensor([[ 0.6578, -0.3252, -0.0692]], grad_fn=<DifferentiableGraphBackward>)\n",
            "1\n",
            "tensor([[ 0.8089, -0.4528, -0.0941]], grad_fn=<DifferentiableGraphBackward>)\n",
            "1\n",
            "tensor([[ 0.3814, -0.0867, -0.0195]], grad_fn=<DifferentiableGraphBackward>)\n",
            "1\n",
            "tensor([[0.0692, 0.1805, 0.0274]], grad_fn=<DifferentiableGraphBackward>)\n",
            "1\n",
            "tensor([[ 0.4650, -0.1586, -0.0346]], grad_fn=<DifferentiableGraphBackward>)\n",
            "1\n",
            "tensor([[-0.0228,  0.2712,  0.0265]], grad_fn=<DifferentiableGraphBackward>)\n",
            "1\n",
            "tensor([[ 1.3551, -0.8954, -0.1937]], grad_fn=<DifferentiableGraphBackward>)\n",
            "1\n",
            "tensor([[-0.3906,  0.8118, -0.0432]], grad_fn=<DifferentiableGraphBackward>)\n",
            "1\n",
            "tensor([[0.0885, 0.1631, 0.0261]], grad_fn=<DifferentiableGraphBackward>)\n",
            "1\n",
            "tensor([[ 0.3870, -0.0919, -0.0210]], grad_fn=<DifferentiableGraphBackward>)\n",
            "1\n",
            "tensor([[-0.5176,  1.0364, -0.0777]], grad_fn=<DifferentiableGraphBackward>)\n",
            "1\n",
            "tensor([[ 0.8627, -0.4993, -0.1039]], grad_fn=<DifferentiableGraphBackward>)\n",
            "1\n",
            "tensor([[ 0.6309, -0.3000, -0.0628]], grad_fn=<DifferentiableGraphBackward>)\n",
            "1\n",
            "tensor([[-0.6490,  1.2764, -0.1069]], grad_fn=<DifferentiableGraphBackward>)\n",
            "1\n",
            "tensor([[-0.7457,  1.4530, -0.1247]], grad_fn=<DifferentiableGraphBackward>)\n",
            "1\n",
            "tensor([[0.0752, 0.1750, 0.0271]], grad_fn=<DifferentiableGraphBackward>)\n",
            "1\n",
            "tensor([[0.1191, 0.1359, 0.0225]], grad_fn=<DifferentiableGraphBackward>)\n",
            "1\n",
            "tensor([[-0.0565,  0.3212,  0.0261]], grad_fn=<DifferentiableGraphBackward>)\n",
            "1\n",
            "tensor([[ 1.2387, -0.8100, -0.1721]], grad_fn=<DifferentiableGraphBackward>)\n",
            "1\n",
            "tensor([[ 1.1199, -0.7171, -0.1487]], grad_fn=<DifferentiableGraphBackward>)\n",
            "1\n",
            "tensor([[ 0.4238, -0.1219, -0.0257]], grad_fn=<DifferentiableGraphBackward>)\n",
            "1\n",
            "tensor([[ 0.9885, -0.6061, -0.1251]], grad_fn=<DifferentiableGraphBackward>)\n",
            "1\n",
            "tensor([[-0.2936,  0.6473, -0.0187]], grad_fn=<DifferentiableGraphBackward>)\n",
            "1\n",
            "tensor([[ 1.0739, -0.6778, -0.1395]], grad_fn=<DifferentiableGraphBackward>)\n",
            "1\n",
            "tensor([[-0.6668,  1.3087, -0.1102]], grad_fn=<DifferentiableGraphBackward>)\n",
            "1\n",
            "tensor([[ 1.2200, -0.7955, -0.1676]], grad_fn=<DifferentiableGraphBackward>)\n",
            "1\n",
            "tensor([[0.1200, 0.1361, 0.0236]], grad_fn=<DifferentiableGraphBackward>)\n",
            "1\n",
            "tensor([[-0.7372,  1.4376, -0.1232]], grad_fn=<DifferentiableGraphBackward>)\n",
            "1\n",
            "tensor([[-0.7175,  1.4015, -0.1197]], grad_fn=<DifferentiableGraphBackward>)\n",
            "1\n",
            "tensor([[0.0192, 0.2281, 0.0278]], grad_fn=<DifferentiableGraphBackward>)\n",
            "1\n",
            "tensor([[-0.7018,  1.3728, -0.1168]], grad_fn=<DifferentiableGraphBackward>)\n",
            "1\n",
            "tensor([[ 1.0985, -0.6992, -0.1445]], grad_fn=<DifferentiableGraphBackward>)\n",
            "1\n",
            "tensor([[0.1501, 0.1099, 0.0189]], grad_fn=<DifferentiableGraphBackward>)\n",
            "1\n",
            "tensor([[-0.7702,  1.4981, -0.1292]], grad_fn=<DifferentiableGraphBackward>)\n",
            "1\n",
            "tensor([[0.0681, 0.1814, 0.0272]], grad_fn=<DifferentiableGraphBackward>)\n",
            "1\n",
            "tensor([[-0.1711,  0.4699,  0.0064]], grad_fn=<DifferentiableGraphBackward>)\n",
            "1\n",
            "tensor([[ 2.1344, -1.4651, -0.3380]], grad_fn=<DifferentiableGraphBackward>)\n",
            "1\n",
            "tensor([[ 1.6383, -1.0998, -0.2474]], grad_fn=<DifferentiableGraphBackward>)\n",
            "1\n",
            "tensor([[ 0.8978, -0.5289, -0.1098]], grad_fn=<DifferentiableGraphBackward>)\n",
            "1\n",
            "tensor([[ 1.0072, -0.6230, -0.1289]], grad_fn=<DifferentiableGraphBackward>)\n",
            "1\n",
            "tensor([[0.1543, 0.1071, 0.0195]], grad_fn=<DifferentiableGraphBackward>)\n",
            "1\n",
            "tensor([[0.2379, 0.0350, 0.0032]], grad_fn=<DifferentiableGraphBackward>)\n",
            "1\n",
            "tensor([[-0.3281,  0.7076, -0.0258]], grad_fn=<DifferentiableGraphBackward>)\n",
            "1\n",
            "tensor([[0.0497, 0.1990, 0.0280]], grad_fn=<DifferentiableGraphBackward>)\n",
            "1\n",
            "tensor([[ 0.6005, -0.2753, -0.0587]], grad_fn=<DifferentiableGraphBackward>)\n",
            "1\n",
            "tensor([[ 1.6125, -1.0812, -0.2432]], grad_fn=<DifferentiableGraphBackward>)\n",
            "1\n",
            "tensor([[-0.7206,  1.4072, -0.1202]], grad_fn=<DifferentiableGraphBackward>)\n",
            "1\n",
            "tensor([[ 0.2909, -0.0094, -0.0046]], grad_fn=<DifferentiableGraphBackward>)\n",
            "1\n",
            "tensor([[ 0.6682, -0.3311, -0.0687]], grad_fn=<DifferentiableGraphBackward>)\n",
            "1\n",
            "tensor([[ 0.3210, -0.0350, -0.0089]], grad_fn=<DifferentiableGraphBackward>)\n",
            "1\n",
            "tensor([[-0.4849,  0.9770, -0.0690]], grad_fn=<DifferentiableGraphBackward>)\n",
            "1\n",
            "tensor([[ 0.3120, -0.0274, -0.0079]], grad_fn=<DifferentiableGraphBackward>)\n",
            "1\n",
            "tensor([[-0.7382,  1.4394, -0.1235]], grad_fn=<DifferentiableGraphBackward>)\n",
            "1\n",
            "tensor([[-0.4464,  0.9067, -0.0589]], grad_fn=<DifferentiableGraphBackward>)\n",
            "1\n",
            "tensor([[0.2252, 0.0467, 0.0070]], grad_fn=<DifferentiableGraphBackward>)\n",
            "1\n",
            "tensor([[ 0.6992, -0.3590, -0.0751]], grad_fn=<DifferentiableGraphBackward>)\n",
            "1\n",
            "tensor([[ 0.5143, -0.1996, -0.0422]], grad_fn=<DifferentiableGraphBackward>)\n",
            "1\n",
            "tensor([[ 0.3616, -0.0695, -0.0160]], grad_fn=<DifferentiableGraphBackward>)\n",
            "1\n",
            "tensor([[0.0921, 0.1602, 0.0259]], grad_fn=<DifferentiableGraphBackward>)\n",
            "1\n",
            "tensor([[ 0.3711, -0.0781, -0.0181]], grad_fn=<DifferentiableGraphBackward>)\n",
            "1\n",
            "tensor([[0.0823, 0.1679, 0.0260]], grad_fn=<DifferentiableGraphBackward>)\n",
            "1\n",
            "tensor([[-0.1329,  0.4196,  0.0138]], grad_fn=<DifferentiableGraphBackward>)\n",
            "1\n",
            "tensor([[ 1.0430, -0.6533, -0.1351]], grad_fn=<DifferentiableGraphBackward>)\n",
            "1\n",
            "tensor([[0.1108, 0.1431, 0.0233]], grad_fn=<DifferentiableGraphBackward>)\n",
            "1\n",
            "tensor([[-0.0306,  0.2809,  0.0265]], grad_fn=<DifferentiableGraphBackward>)\n",
            "1\n",
            "tensor([[ 0.4608, -0.1555, -0.0341]], grad_fn=<DifferentiableGraphBackward>)\n",
            "1\n",
            "tensor([[0.1418, 0.1165, 0.0199]], grad_fn=<DifferentiableGraphBackward>)\n",
            "1\n",
            "tensor([[-0.0785,  0.3439,  0.0218]], grad_fn=<DifferentiableGraphBackward>)\n",
            "1\n",
            "tensor([[ 0.5615, -0.2400, -0.0504]], grad_fn=<DifferentiableGraphBackward>)\n",
            "1\n",
            "tensor([[0.0371, 0.2122, 0.0291]], grad_fn=<DifferentiableGraphBackward>)\n",
            "1\n",
            "tensor([[0.1412, 0.1167, 0.0191]], grad_fn=<DifferentiableGraphBackward>)\n",
            "1\n",
            "tensor([[ 0.7863, -0.4340, -0.0908]], grad_fn=<DifferentiableGraphBackward>)\n",
            "1\n",
            "tensor([[ 1.3265, -0.8745, -0.1885]], grad_fn=<DifferentiableGraphBackward>)\n",
            "1\n",
            "tensor([[0.2168, 0.0537, 0.0085]], grad_fn=<DifferentiableGraphBackward>)\n",
            "1\n",
            "tensor([[0.0212, 0.2260, 0.0278]], grad_fn=<DifferentiableGraphBackward>)\n",
            "1\n",
            "tensor([[ 0.8731, -0.5071, -0.1047]], grad_fn=<DifferentiableGraphBackward>)\n",
            "1\n",
            "tensor([[0.1065, 0.1461, 0.0228]], grad_fn=<DifferentiableGraphBackward>)\n",
            "1\n",
            "tensor([[-0.6428,  1.2649, -0.1054]], grad_fn=<DifferentiableGraphBackward>)\n",
            "1\n",
            "tensor([[ 1.9947, -1.3615, -0.3131]], grad_fn=<DifferentiableGraphBackward>)\n",
            "1\n",
            "tensor([[ 0.5975, -0.2718, -0.0573]], grad_fn=<DifferentiableGraphBackward>)\n",
            "1\n",
            "tensor([[ 1.0825, -0.6858, -0.1418]], grad_fn=<DifferentiableGraphBackward>)\n",
            "1\n",
            "tensor([[ 1.2458, -0.8153, -0.1729]], grad_fn=<DifferentiableGraphBackward>)\n",
            "1\n",
            "tensor([[ 0.5340, -0.2166, -0.0457]], grad_fn=<DifferentiableGraphBackward>)\n",
            "1\n",
            "tensor([[ 2.0429, -1.3973, -0.3217]], grad_fn=<DifferentiableGraphBackward>)\n",
            "1\n",
            "tensor([[-0.5351,  1.0683, -0.0815]], grad_fn=<DifferentiableGraphBackward>)\n",
            "1\n",
            "tensor([[0.1593, 0.1023, 0.0178]], grad_fn=<DifferentiableGraphBackward>)\n",
            "1\n",
            "tensor([[0.0244, 0.2236, 0.0283]], grad_fn=<DifferentiableGraphBackward>)\n",
            "1\n",
            "tensor([[0.1601, 0.1013, 0.0172]], grad_fn=<DifferentiableGraphBackward>)\n",
            "1\n",
            "tensor([[ 0.6117, -0.2841, -0.0598]], grad_fn=<DifferentiableGraphBackward>)\n",
            "1\n",
            "tensor([[ 0.9749, -0.5952, -0.1233]], grad_fn=<DifferentiableGraphBackward>)\n",
            "1\n",
            "tensor([[0.0392, 0.2091, 0.0282]], grad_fn=<DifferentiableGraphBackward>)\n",
            "1\n",
            "tensor([[-0.7214,  1.4087, -0.1204]], grad_fn=<DifferentiableGraphBackward>)\n",
            "1\n",
            "tensor([[ 0.7635, -0.4147, -0.0868]], grad_fn=<DifferentiableGraphBackward>)\n",
            "1\n",
            "tensor([[0.1500, 0.1094, 0.0179]], grad_fn=<DifferentiableGraphBackward>)\n",
            "1\n",
            "tensor([[-0.3979,  0.8252, -0.0443]], grad_fn=<DifferentiableGraphBackward>)\n",
            "1\n",
            "tensor([[-0.7435,  1.4492, -0.1244]], grad_fn=<DifferentiableGraphBackward>)\n",
            "1\n",
            "tensor([[ 0.6439, -0.3138, -0.0672]], grad_fn=<DifferentiableGraphBackward>)\n",
            "1\n",
            "tensor([[ 1.6666, -1.1201, -0.2539]], grad_fn=<DifferentiableGraphBackward>)\n",
            "1\n",
            "tensor([[ 0.2953, -0.0135, -0.0057]], grad_fn=<DifferentiableGraphBackward>)\n",
            "1\n",
            "tensor([[-0.5421,  1.0815, -0.0840]], grad_fn=<DifferentiableGraphBackward>)\n",
            "1\n",
            "tensor([[ 0.3618, -0.0709, -0.0170]], grad_fn=<DifferentiableGraphBackward>)\n",
            "1\n",
            "tensor([[ 0.6482, -0.3156, -0.0665]], grad_fn=<DifferentiableGraphBackward>)\n",
            "1\n",
            "tensor([[-0.6954,  1.3613, -0.1158]], grad_fn=<DifferentiableGraphBackward>)\n",
            "1\n",
            "tensor([[0.1890, 0.0773, 0.0133]], grad_fn=<DifferentiableGraphBackward>)\n",
            "1\n",
            "tensor([[-0.5744,  1.1400, -0.0906]], grad_fn=<DifferentiableGraphBackward>)\n",
            "1\n",
            "tensor([[-0.5754,  1.1423, -0.0918]], grad_fn=<DifferentiableGraphBackward>)\n",
            "1\n",
            "tensor([[ 0.5938, -0.2703, -0.0581]], grad_fn=<DifferentiableGraphBackward>)\n",
            "1\n",
            "tensor([[ 0.6555, -0.3218, -0.0676]], grad_fn=<DifferentiableGraphBackward>)\n",
            "1\n",
            "tensor([[-0.7988,  1.5504, -0.1343]], grad_fn=<DifferentiableGraphBackward>)\n",
            "1\n",
            "tensor([[ 1.5026, -1.0025, -0.2227]], grad_fn=<DifferentiableGraphBackward>)\n",
            "1\n",
            "tensor([[0.2476, 0.0274, 0.0026]], grad_fn=<DifferentiableGraphBackward>)\n",
            "1\n",
            "tensor([[0.0815, 0.1683, 0.0247]], grad_fn=<DifferentiableGraphBackward>)\n",
            "1\n",
            "tensor([[ 0.4673, -0.1605, -0.0348]], grad_fn=<DifferentiableGraphBackward>)\n",
            "1\n",
            "tensor([[ 0.6658, -0.3308, -0.0698]], grad_fn=<DifferentiableGraphBackward>)\n",
            "1\n",
            "tensor([[ 0.7814, -0.4291, -0.0893]], grad_fn=<DifferentiableGraphBackward>)\n",
            "1\n",
            "tensor([[ 0.4340, -0.1321, -0.0289]], grad_fn=<DifferentiableGraphBackward>)\n",
            "1\n",
            "tensor([[0.2363, 0.0370, 0.0045]], grad_fn=<DifferentiableGraphBackward>)\n",
            "1\n",
            "tensor([[ 0.4434, -0.1402, -0.0309]], grad_fn=<DifferentiableGraphBackward>)\n",
            "1\n",
            "tensor([[ 1.6132, -1.0816, -0.2437]], grad_fn=<DifferentiableGraphBackward>)\n",
            "1\n",
            "tensor([[-0.7528,  1.4656, -0.1257]], grad_fn=<DifferentiableGraphBackward>)\n",
            "1\n",
            "tensor([[ 2.2642, -1.5611, -0.3605]], grad_fn=<DifferentiableGraphBackward>)\n",
            "1\n",
            "tensor([[ 0.5873, -0.2633, -0.0558]], grad_fn=<DifferentiableGraphBackward>)\n",
            "1\n",
            "tensor([[ 0.3860, -0.0916, -0.0213]], grad_fn=<DifferentiableGraphBackward>)\n",
            "1\n",
            "tensor([[ 1.0272, -0.6396, -0.1322]], grad_fn=<DifferentiableGraphBackward>)\n",
            "1\n",
            "tensor([[ 0.3254, -0.0390, -0.0097]], grad_fn=<DifferentiableGraphBackward>)\n",
            "1\n",
            "tensor([[0.2155, 0.0551, 0.0091]], grad_fn=<DifferentiableGraphBackward>)\n",
            "1\n",
            "tensor([[ 0.5262, -0.2103, -0.0447]], grad_fn=<DifferentiableGraphBackward>)\n",
            "1\n",
            "tensor([[ 1.7180, -1.1575, -0.2633]], grad_fn=<DifferentiableGraphBackward>)\n",
            "1\n",
            "tensor([[0.1355, 0.1220, 0.0206]], grad_fn=<DifferentiableGraphBackward>)\n",
            "1\n",
            "tensor([[ 0.3510, -0.0616, -0.0151]], grad_fn=<DifferentiableGraphBackward>)\n",
            "1\n",
            "tensor([[-0.0792,  0.3453,  0.0217]], grad_fn=<DifferentiableGraphBackward>)\n",
            "1\n",
            "tensor([[ 0.7946, -0.4407, -0.0917]], grad_fn=<DifferentiableGraphBackward>)\n",
            "1\n",
            "tensor([[-0.4994,  1.0033, -0.0726]], grad_fn=<DifferentiableGraphBackward>)\n",
            "1\n",
            "tensor([[0.0729, 0.1760, 0.0259]], grad_fn=<DifferentiableGraphBackward>)\n",
            "1\n",
            "tensor([[-0.4672,  0.9447, -0.0648]], grad_fn=<DifferentiableGraphBackward>)\n",
            "1\n",
            "tensor([[ 0.8203, -0.4627, -0.0962]], grad_fn=<DifferentiableGraphBackward>)\n",
            "1\n",
            "tensor([[ 0.7761, -0.4250, -0.0888]], grad_fn=<DifferentiableGraphBackward>)\n",
            "1\n",
            "tensor([[-0.6564,  1.2899, -0.1083]], grad_fn=<DifferentiableGraphBackward>)\n",
            "1\n",
            "tensor([[ 1.6284, -1.0924, -0.2471]], grad_fn=<DifferentiableGraphBackward>)\n",
            "1\n",
            "tensor([[-0.7606,  1.4802, -0.1273]], grad_fn=<DifferentiableGraphBackward>)\n",
            "1\n",
            "tensor([[ 1.3634, -0.9015, -0.1959]], grad_fn=<DifferentiableGraphBackward>)\n",
            "1\n",
            "tensor([[ 0.4706, -0.1633, -0.0355]], grad_fn=<DifferentiableGraphBackward>)\n",
            "1\n",
            "tensor([[ 0.7648, -0.4149, -0.0863]], grad_fn=<DifferentiableGraphBackward>)\n",
            "1\n",
            "tensor([[ 1.2182, -0.7937, -0.1663]], grad_fn=<DifferentiableGraphBackward>)\n",
            "1\n",
            "tensor([[-0.4576,  0.9269, -0.0612]], grad_fn=<DifferentiableGraphBackward>)\n",
            "1\n",
            "tensor([[0.1593, 0.1029, 0.0185]], grad_fn=<DifferentiableGraphBackward>)\n",
            "1\n",
            "tensor([[-0.8507,  1.6462, -0.1435]], grad_fn=<DifferentiableGraphBackward>)\n",
            "1\n",
            "tensor([[ 0.8102, -0.4540, -0.0945]], grad_fn=<DifferentiableGraphBackward>)\n",
            "1\n",
            "tensor([[ 0.4346, -0.1349, -0.0310]], grad_fn=<DifferentiableGraphBackward>)\n",
            "1\n",
            "tensor([[ 2.2526, -1.5526, -0.3585]], grad_fn=<DifferentiableGraphBackward>)\n",
            "1\n",
            "tensor([[ 0.5647, -0.2431, -0.0512]], grad_fn=<DifferentiableGraphBackward>)\n",
            "1\n",
            "tensor([[ 1.7837, -1.2056, -0.2756]], grad_fn=<DifferentiableGraphBackward>)\n",
            "1\n",
            "tensor([[0.0660, 0.1843, 0.0281]], grad_fn=<DifferentiableGraphBackward>)\n",
            "1\n",
            "tensor([[0.1344, 0.1231, 0.0211]], grad_fn=<DifferentiableGraphBackward>)\n",
            "1\n",
            "tensor([[ 0.3107, -0.0261, -0.0076]], grad_fn=<DifferentiableGraphBackward>)\n",
            "1\n",
            "tensor([[0.1391, 0.1184, 0.0195]], grad_fn=<DifferentiableGraphBackward>)\n",
            "1\n",
            "tensor([[-0.6948,  1.3599, -0.1154]], grad_fn=<DifferentiableGraphBackward>)\n",
            "1\n",
            "tensor([[-0.0087,  0.2564,  0.0273]], grad_fn=<DifferentiableGraphBackward>)\n",
            "1\n",
            "tensor([[ 0.3032, -0.0200, -0.0065]], grad_fn=<DifferentiableGraphBackward>)\n",
            "1\n",
            "tensor([[0.1856, 0.0804, 0.0142]], grad_fn=<DifferentiableGraphBackward>)\n",
            "1\n",
            "tensor([[0.2603, 0.0167, 0.0006]], grad_fn=<DifferentiableGraphBackward>)\n",
            "1\n",
            "tensor([[ 0.4104, -0.1109, -0.0241]], grad_fn=<DifferentiableGraphBackward>)\n",
            "1\n",
            "tensor([[ 1.4313, -0.9507, -0.2100]], grad_fn=<DifferentiableGraphBackward>)\n",
            "1\n",
            "tensor([[0.1685, 0.0947, 0.0165]], grad_fn=<DifferentiableGraphBackward>)\n",
            "1\n",
            "tensor([[-0.7559,  1.4720, -0.1267]], grad_fn=<DifferentiableGraphBackward>)\n",
            "1\n",
            "tensor([[ 0.8232, -0.4651, -0.0967]], grad_fn=<DifferentiableGraphBackward>)\n",
            "1\n",
            "tensor([[-0.6920,  1.3551, -0.1151]], grad_fn=<DifferentiableGraphBackward>)\n",
            "1\n",
            "tensor([[ 1.6977, -1.1427, -0.2593]], grad_fn=<DifferentiableGraphBackward>)\n",
            "1\n",
            "tensor([[ 0.4945, -0.1835, -0.0394]], grad_fn=<DifferentiableGraphBackward>)\n",
            "1\n",
            "tensor([[ 0.8710, -0.5064, -0.1053]], grad_fn=<DifferentiableGraphBackward>)\n",
            "1\n",
            "tensor([[0.2364, 0.0372, 0.0055]], grad_fn=<DifferentiableGraphBackward>)\n",
            "1\n",
            "tensor([[ 0.2953, -0.0138, -0.0059]], grad_fn=<DifferentiableGraphBackward>)\n",
            "1\n",
            "tensor([[ 0.5545, -0.2355, -0.0503]], grad_fn=<DifferentiableGraphBackward>)\n",
            "1\n",
            "tensor([[ 0.6369, -0.3054, -0.0640]], grad_fn=<DifferentiableGraphBackward>)\n",
            "1\n",
            "tensor([[ 0.2559,  0.0190, -0.0009]], grad_fn=<DifferentiableGraphBackward>)\n",
            "1\n",
            "tensor([[ 0.4133, -0.1145, -0.0256]], grad_fn=<DifferentiableGraphBackward>)\n",
            "1\n",
            "tensor([[ 0.3253, -0.0411, -0.0124]], grad_fn=<DifferentiableGraphBackward>)\n",
            "1\n",
            "tensor([[ 0.7362, -0.3912, -0.0820]], grad_fn=<DifferentiableGraphBackward>)\n",
            "1\n",
            "tensor([[-0.5543,  1.1036, -0.0861]], grad_fn=<DifferentiableGraphBackward>)\n",
            "1\n",
            "tensor([[-0.5222,  1.0448, -0.0788]], grad_fn=<DifferentiableGraphBackward>)\n",
            "1\n",
            "tensor([[-0.3732,  0.7783, -0.0413]], grad_fn=<DifferentiableGraphBackward>)\n",
            "1\n",
            "tensor([[ 0.5286, -0.2133, -0.0457]], grad_fn=<DifferentiableGraphBackward>)\n",
            "1\n",
            "tensor([[-0.7828,  1.5213, -0.1316]], grad_fn=<DifferentiableGraphBackward>)\n",
            "1\n",
            "tensor([[-0.7397,  1.4419, -0.1236]], grad_fn=<DifferentiableGraphBackward>)\n",
            "1\n",
            "tensor([[ 1.0149, -0.6291, -0.1299]], grad_fn=<DifferentiableGraphBackward>)\n",
            "1\n",
            "tensor([[0.0220, 0.2254, 0.0278]], grad_fn=<DifferentiableGraphBackward>)\n",
            "1\n",
            "tensor([[ 0.5423, -0.2245, -0.0478]], grad_fn=<DifferentiableGraphBackward>)\n",
            "1\n",
            "tensor([[ 1.9179, -1.3046, -0.2995]], grad_fn=<DifferentiableGraphBackward>)\n",
            "1\n",
            "tensor([[-0.6689,  1.3126, -0.1107]], grad_fn=<DifferentiableGraphBackward>)\n",
            "1\n",
            "tensor([[ 1.7964, -1.2148, -0.2778]], grad_fn=<DifferentiableGraphBackward>)\n",
            "1\n",
            "tensor([[ 1.5865, -1.0625, -0.2395]], grad_fn=<DifferentiableGraphBackward>)\n",
            "1\n",
            "tensor([[-0.6780,  1.3290, -0.1122]], grad_fn=<DifferentiableGraphBackward>)\n",
            "1\n",
            "tensor([[ 1.4088, -0.9341, -0.2039]], grad_fn=<DifferentiableGraphBackward>)\n",
            "1\n",
            "tensor([[ 1.4693, -0.9783, -0.2150]], grad_fn=<DifferentiableGraphBackward>)\n",
            "1\n",
            "tensor([[0.2399, 0.0345, 0.0054]], grad_fn=<DifferentiableGraphBackward>)\n",
            "1\n",
            "tensor([[ 0.7885, -0.4379, -0.0927]], grad_fn=<DifferentiableGraphBackward>)\n",
            "1\n",
            "tensor([[ 0.4137, -0.1138, -0.0244]], grad_fn=<DifferentiableGraphBackward>)\n",
            "1\n",
            "tensor([[0.2101, 0.0596, 0.0100]], grad_fn=<DifferentiableGraphBackward>)\n",
            "1\n",
            "tensor([[ 0.3339, -0.0464, -0.0119]], grad_fn=<DifferentiableGraphBackward>)\n",
            "1\n",
            "tensor([[0.1876, 0.0782, 0.0124]], grad_fn=<DifferentiableGraphBackward>)\n",
            "1\n",
            "tensor([[0.1276, 0.1289, 0.0219]], grad_fn=<DifferentiableGraphBackward>)\n",
            "1\n",
            "tensor([[0.0407, 0.2076, 0.0282]], grad_fn=<DifferentiableGraphBackward>)\n",
            "1\n",
            "tensor([[-0.6667,  1.3086, -0.1102]], grad_fn=<DifferentiableGraphBackward>)\n",
            "1\n",
            "tensor([[ 0.7211, -0.3779, -0.0792]], grad_fn=<DifferentiableGraphBackward>)\n",
            "1\n",
            "tensor([[-0.2403,  0.5638, -0.0076]], grad_fn=<DifferentiableGraphBackward>)\n",
            "1\n",
            "tensor([[ 0.3850, -0.0902, -0.0205]], grad_fn=<DifferentiableGraphBackward>)\n",
            "1\n",
            "tensor([[0.1564, 0.1062, 0.0202]], grad_fn=<DifferentiableGraphBackward>)\n",
            "1\n",
            "tensor([[ 0.4952, -0.1836, -0.0390]], grad_fn=<DifferentiableGraphBackward>)\n",
            "1\n",
            "tensor([[0.2520, 0.0237, 0.0020]], grad_fn=<DifferentiableGraphBackward>)\n",
            "1\n",
            "tensor([[ 1.4685, -0.9778, -0.2174]], grad_fn=<DifferentiableGraphBackward>)\n",
            "1\n",
            "tensor([[ 2.4323, -1.6859, -0.3898]], grad_fn=<DifferentiableGraphBackward>)\n",
            "1\n",
            "tensor([[ 0.3654, -0.0723, -0.0160]], grad_fn=<DifferentiableGraphBackward>)\n",
            "1\n",
            "tensor([[0.2172, 0.0531, 0.0073]], grad_fn=<DifferentiableGraphBackward>)\n",
            "1\n",
            "tensor([[ 1.1187, -0.7155, -0.1477]], grad_fn=<DifferentiableGraphBackward>)\n",
            "1\n",
            "tensor([[0.0024, 0.2455, 0.0279]], grad_fn=<DifferentiableGraphBackward>)\n",
            "1\n",
            "tensor([[-0.8204,  1.5904, -0.1382]], grad_fn=<DifferentiableGraphBackward>)\n",
            "1\n",
            "tensor([[0.1384, 0.1199, 0.0207]], grad_fn=<DifferentiableGraphBackward>)\n",
            "1\n",
            "tensor([[ 0.3770, -0.0839, -0.0196]], grad_fn=<DifferentiableGraphBackward>)\n",
            "1\n",
            "tensor([[ 0.6932, -0.3535, -0.0738]], grad_fn=<DifferentiableGraphBackward>)\n",
            "1\n",
            "tensor([[0.2345, 0.0385, 0.0049]], grad_fn=<DifferentiableGraphBackward>)\n",
            "1\n",
            "tensor([[ 1.8582, -1.2603, -0.2888]], grad_fn=<DifferentiableGraphBackward>)\n",
            "1\n",
            "tensor([[ 1.2677, -0.8316, -0.1785]], grad_fn=<DifferentiableGraphBackward>)\n",
            "1\n",
            "tensor([[ 0.8618, -0.4968, -0.1025]], grad_fn=<DifferentiableGraphBackward>)\n",
            "1\n",
            "tensor([[-0.2559,  0.5923, -0.0083]], grad_fn=<DifferentiableGraphBackward>)\n",
            "1\n",
            "tensor([[-0.3290,  0.7063, -0.0273]], grad_fn=<DifferentiableGraphBackward>)\n",
            "1\n",
            "tensor([[ 0.4037, -0.1080, -0.0254]], grad_fn=<DifferentiableGraphBackward>)\n",
            "1\n",
            "tensor([[ 1.3421, -0.8859, -0.1916]], grad_fn=<DifferentiableGraphBackward>)\n",
            "1\n",
            "tensor([[ 1.0122, -0.6262, -0.1291]], grad_fn=<DifferentiableGraphBackward>)\n",
            "1\n",
            "tensor([[ 0.7192, -0.3766, -0.0791]], grad_fn=<DifferentiableGraphBackward>)\n",
            "1\n",
            "tensor([[ 1.1337, -0.7285, -0.1515]], grad_fn=<DifferentiableGraphBackward>)\n",
            "1\n",
            "tensor([[ 0.3300, -0.0431, -0.0111]], grad_fn=<DifferentiableGraphBackward>)\n",
            "1\n",
            "tensor([[ 0.3665, -0.0757, -0.0184]], grad_fn=<DifferentiableGraphBackward>)\n",
            "1\n",
            "tensor([[0.0830, 0.1679, 0.0269]], grad_fn=<DifferentiableGraphBackward>)\n",
            "1\n",
            "tensor([[0.0026, 0.2455, 0.0280]], grad_fn=<DifferentiableGraphBackward>)\n",
            "1\n",
            "tensor([[ 0.8296, -0.4701, -0.0974]], grad_fn=<DifferentiableGraphBackward>)\n",
            "1\n",
            "tensor([[ 0.4015, -0.1047, -0.0238]], grad_fn=<DifferentiableGraphBackward>)\n",
            "1\n",
            "tensor([[ 1.1975, -0.7785, -0.1639]], grad_fn=<DifferentiableGraphBackward>)\n",
            "1\n",
            "tensor([[0.0996, 0.1529, 0.0246]], grad_fn=<DifferentiableGraphBackward>)\n",
            "1\n",
            "tensor([[0.0703, 0.1791, 0.0266]], grad_fn=<DifferentiableGraphBackward>)\n",
            "1\n",
            "tensor([[ 1.8192, -1.2316, -0.2819]], grad_fn=<DifferentiableGraphBackward>)\n",
            "1\n",
            "tensor([[ 0.3220, -0.0354, -0.0091]], grad_fn=<DifferentiableGraphBackward>)\n",
            "1\n",
            "tensor([[0.1519, 0.1082, 0.0187]], grad_fn=<DifferentiableGraphBackward>)\n",
            "1\n",
            "tensor([[-0.1790,  0.4815,  0.0051]], grad_fn=<DifferentiableGraphBackward>)\n",
            "1\n",
            "tensor([[ 0.8291, -0.4696, -0.0973]], grad_fn=<DifferentiableGraphBackward>)\n",
            "1\n",
            "tensor([[ 0.9080, -0.5368, -0.1108]], grad_fn=<DifferentiableGraphBackward>)\n",
            "1\n",
            "tensor([[0.1344, 0.1229, 0.0213]], grad_fn=<DifferentiableGraphBackward>)\n",
            "1\n",
            "tensor([[ 0.3654, -0.0732, -0.0169]], grad_fn=<DifferentiableGraphBackward>)\n",
            "1\n",
            "tensor([[ 1.1855, -0.7685, -0.1600]], grad_fn=<DifferentiableGraphBackward>)\n",
            "1\n",
            "tensor([[0.1173, 0.1377, 0.0231]], grad_fn=<DifferentiableGraphBackward>)\n",
            "1\n",
            "tensor([[0.0108, 0.2387, 0.0293]], grad_fn=<DifferentiableGraphBackward>)\n",
            "1\n",
            "tensor([[ 1.2074, -0.7864, -0.1664]], grad_fn=<DifferentiableGraphBackward>)\n",
            "1\n",
            "tensor([[ 1.1486, -0.7407, -0.1546]], grad_fn=<DifferentiableGraphBackward>)\n",
            "1\n",
            "tensor([[0.1345, 0.1227, 0.0203]], grad_fn=<DifferentiableGraphBackward>)\n",
            "1\n",
            "tensor([[ 0.8913, -0.5232, -0.1085]], grad_fn=<DifferentiableGraphBackward>)\n",
            "1\n",
            "tensor([[-0.6982,  1.3663, -0.1161]], grad_fn=<DifferentiableGraphBackward>)\n",
            "1\n",
            "tensor([[-0.4135,  0.8520, -0.0489]], grad_fn=<DifferentiableGraphBackward>)\n",
            "1\n",
            "tensor([[-0.4712,  0.9519, -0.0642]], grad_fn=<DifferentiableGraphBackward>)\n",
            "1\n",
            "tensor([[ 1.4754, -0.9829, -0.2187]], grad_fn=<DifferentiableGraphBackward>)\n",
            "1\n",
            "tensor([[ 0.9513, -0.5746, -0.1187]], grad_fn=<DifferentiableGraphBackward>)\n",
            "1\n",
            "tensor([[ 0.4208, -0.1202, -0.0261]], grad_fn=<DifferentiableGraphBackward>)\n",
            "1\n",
            "tensor([[ 1.2603, -0.8261, -0.1772]], grad_fn=<DifferentiableGraphBackward>)\n",
            "1\n",
            "tensor([[-0.3687,  0.7744, -0.0371]], grad_fn=<DifferentiableGraphBackward>)\n",
            "1\n",
            "tensor([[-0.5683,  1.1294, -0.0900]], grad_fn=<DifferentiableGraphBackward>)\n",
            "1\n",
            "tensor([[ 1.8568, -1.2593, -0.2886]], grad_fn=<DifferentiableGraphBackward>)\n",
            "1\n",
            "tensor([[ 0.2922, -0.0113, -0.0059]], grad_fn=<DifferentiableGraphBackward>)\n",
            "1\n",
            "tensor([[-0.7711,  1.4990, -0.1289]], grad_fn=<DifferentiableGraphBackward>)\n",
            "1\n",
            "tensor([[ 0.4503, -0.1466, -0.0325]], grad_fn=<DifferentiableGraphBackward>)\n",
            "1\n",
            "tensor([[-0.6549,  1.2874, -0.1083]], grad_fn=<DifferentiableGraphBackward>)\n",
            "1\n",
            "tensor([[ 0.8821, -0.5151, -0.1067]], grad_fn=<DifferentiableGraphBackward>)\n",
            "1\n",
            "tensor([[-0.0245,  0.2760,  0.0278]], grad_fn=<DifferentiableGraphBackward>)\n",
            "1\n",
            "tensor([[ 0.7657, -0.4147, -0.0857]], grad_fn=<DifferentiableGraphBackward>)\n",
            "1\n",
            "tensor([[ 0.3697, -0.0788, -0.0194]], grad_fn=<DifferentiableGraphBackward>)\n",
            "1\n",
            "tensor([[0.1165, 0.1376, 0.0218]], grad_fn=<DifferentiableGraphBackward>)\n",
            "1\n",
            "tensor([[-0.5509,  1.0971, -0.0844]], grad_fn=<DifferentiableGraphBackward>)\n",
            "1\n",
            "tensor([[ 1.7914, -1.2112, -0.2769]], grad_fn=<DifferentiableGraphBackward>)\n",
            "1\n",
            "tensor([[ 0.7064, -0.3650, -0.0762]], grad_fn=<DifferentiableGraphBackward>)\n",
            "1\n",
            "tensor([[-0.4515,  0.9160, -0.0616]], grad_fn=<DifferentiableGraphBackward>)\n",
            "1\n",
            "tensor([[ 0.7104, -0.3676, -0.0764]], grad_fn=<DifferentiableGraphBackward>)\n",
            "1\n",
            "tensor([[ 1.3854, -0.9172, -0.1991]], grad_fn=<DifferentiableGraphBackward>)\n",
            "1\n",
            "tensor([[ 0.6305, -0.3002, -0.0632]], grad_fn=<DifferentiableGraphBackward>)\n",
            "1\n",
            "tensor([[ 0.4141, -0.1151, -0.0256]], grad_fn=<DifferentiableGraphBackward>)\n",
            "1\n",
            "tensor([[ 0.9049, -0.5340, -0.1102]], grad_fn=<DifferentiableGraphBackward>)\n",
            "1\n",
            "tensor([[ 0.3786, -0.0835, -0.0185]], grad_fn=<DifferentiableGraphBackward>)\n",
            "1\n",
            "tensor([[ 0.5919, -0.2658, -0.0555]], grad_fn=<DifferentiableGraphBackward>)\n",
            "1\n",
            "tensor([[0.1340, 0.1226, 0.0200]], grad_fn=<DifferentiableGraphBackward>)\n",
            "1\n",
            "tensor([[0.0383, 0.2097, 0.0280]], grad_fn=<DifferentiableGraphBackward>)\n",
            "1\n",
            "tensor([[0.0349, 0.2131, 0.0280]], grad_fn=<DifferentiableGraphBackward>)\n",
            "1\n",
            "tensor([[ 0.9432, -0.5668, -0.1168]], grad_fn=<DifferentiableGraphBackward>)\n",
            "1\n",
            "tensor([[0.0449, 0.2033, 0.0277]], grad_fn=<DifferentiableGraphBackward>)\n",
            "1\n",
            "tensor([[-0.2830,  0.6339, -0.0147]], grad_fn=<DifferentiableGraphBackward>)\n",
            "1\n",
            "tensor([[0.0866, 0.1641, 0.0255]], grad_fn=<DifferentiableGraphBackward>)\n",
            "1\n",
            "tensor([[ 0.3219, -0.0362, -0.0101]], grad_fn=<DifferentiableGraphBackward>)\n",
            "1\n",
            "tensor([[0.2325, 0.0405, 0.0055]], grad_fn=<DifferentiableGraphBackward>)\n",
            "1\n",
            "tensor([[ 0.2944, -0.0125, -0.0052]], grad_fn=<DifferentiableGraphBackward>)\n",
            "1\n",
            "tensor([[0.1425, 0.1158, 0.0196]], grad_fn=<DifferentiableGraphBackward>)\n",
            "1\n",
            "tensor([[ 0.5473, -0.2310, -0.0504]], grad_fn=<DifferentiableGraphBackward>)\n",
            "1\n",
            "tensor([[-0.3163,  0.6859, -0.0238]], grad_fn=<DifferentiableGraphBackward>)\n",
            "1\n",
            "tensor([[ 1.4090, -0.9347, -0.2046]], grad_fn=<DifferentiableGraphBackward>)\n",
            "1\n",
            "tensor([[ 0.7657, -0.4159, -0.0866]], grad_fn=<DifferentiableGraphBackward>)\n",
            "1\n",
            "tensor([[ 0.6532, -0.3194, -0.0669]], grad_fn=<DifferentiableGraphBackward>)\n",
            "1\n",
            "tensor([[ 1.3604, -0.8993, -0.1962]], grad_fn=<DifferentiableGraphBackward>)\n",
            "1\n",
            "tensor([[-0.3683,  0.7723, -0.0379]], grad_fn=<DifferentiableGraphBackward>)\n",
            "1\n",
            "tensor([[ 0.7468, -0.4003, -0.0839]], grad_fn=<DifferentiableGraphBackward>)\n",
            "1\n",
            "tensor([[ 1.5265, -1.0197, -0.2268]], grad_fn=<DifferentiableGraphBackward>)\n",
            "1\n",
            "tensor([[ 0.5912, -0.2660, -0.0561]], grad_fn=<DifferentiableGraphBackward>)\n",
            "1\n",
            "tensor([[-0.7127,  1.3930, -0.1190]], grad_fn=<DifferentiableGraphBackward>)\n",
            "1\n",
            "tensor([[0.1231, 0.1322, 0.0220]], grad_fn=<DifferentiableGraphBackward>)\n",
            "1\n",
            "tensor([[0.1684, 0.0944, 0.0157]], grad_fn=<DifferentiableGraphBackward>)\n",
            "1\n",
            "tensor([[ 0.5243, -0.2096, -0.0450]], grad_fn=<DifferentiableGraphBackward>)\n",
            "1\n",
            "tensor([[ 0.3245, -0.0382, -0.0099]], grad_fn=<DifferentiableGraphBackward>)\n",
            "1\n",
            "tensor([[ 1.0231, -0.6356, -0.1311]], grad_fn=<DifferentiableGraphBackward>)\n",
            "1\n",
            "tensor([[ 1.5435, -1.0318, -0.2305]], grad_fn=<DifferentiableGraphBackward>)\n",
            "1\n",
            "tensor([[0.1083, 0.1455, 0.0240]], grad_fn=<DifferentiableGraphBackward>)\n",
            "1\n",
            "tensor([[ 0.7366, -0.3914, -0.0819]], grad_fn=<DifferentiableGraphBackward>)\n",
            "1\n",
            "tensor([[ 0.5542, -0.2336, -0.0491]], grad_fn=<DifferentiableGraphBackward>)\n",
            "1\n",
            "tensor([[-0.7405,  1.4435, -0.1238]], grad_fn=<DifferentiableGraphBackward>)\n",
            "1\n",
            "tensor([[-0.6887,  1.3490, -0.1144]], grad_fn=<DifferentiableGraphBackward>)\n",
            "1\n",
            "tensor([[-0.6143,  1.2132, -0.0998]], grad_fn=<DifferentiableGraphBackward>)\n",
            "1\n",
            "tensor([[ 0.3611, -0.0694, -0.0161]], grad_fn=<DifferentiableGraphBackward>)\n",
            "1\n",
            "tensor([[0.2226, 0.0493, 0.0079]], grad_fn=<DifferentiableGraphBackward>)\n",
            "1\n",
            "tensor([[ 0.3127, -0.0298, -0.0100]], grad_fn=<DifferentiableGraphBackward>)\n",
            "1\n",
            "tensor([[0.0813, 0.1692, 0.0263]], grad_fn=<DifferentiableGraphBackward>)\n",
            "1\n",
            "tensor([[-0.0185,  0.2676,  0.0276]], grad_fn=<DifferentiableGraphBackward>)\n",
            "1\n",
            "tensor([[0.0273, 0.2207, 0.0282]], grad_fn=<DifferentiableGraphBackward>)\n",
            "1\n",
            "tensor([[ 0.4042, -0.1068, -0.0242]], grad_fn=<DifferentiableGraphBackward>)\n",
            "1\n",
            "tensor([[-0.5812,  1.1528, -0.0928]], grad_fn=<DifferentiableGraphBackward>)\n",
            "1\n",
            "tensor([[0.1809, 0.0837, 0.0142]], grad_fn=<DifferentiableGraphBackward>)\n",
            "1\n",
            "tensor([[ 0.2680,  0.0106, -0.0003]], grad_fn=<DifferentiableGraphBackward>)\n",
            "1\n",
            "tensor([[ 1.2900, -0.8481, -0.1829]], grad_fn=<DifferentiableGraphBackward>)\n",
            "1\n",
            "tensor([[-0.3102,  0.6769, -0.0215]], grad_fn=<DifferentiableGraphBackward>)\n",
            "1\n",
            "tensor([[ 1.8785, -1.2754, -0.2924]], grad_fn=<DifferentiableGraphBackward>)\n",
            "1\n",
            "tensor([[ 1.0664, -0.6724, -0.1388]], grad_fn=<DifferentiableGraphBackward>)\n",
            "1\n",
            "tensor([[-0.0423,  0.2950,  0.0251]], grad_fn=<DifferentiableGraphBackward>)\n",
            "1\n",
            "tensor([[ 0.4015, -0.1038, -0.0230]], grad_fn=<DifferentiableGraphBackward>)\n",
            "1\n",
            "tensor([[0.1253, 0.1313, 0.0230]], grad_fn=<DifferentiableGraphBackward>)\n",
            "1\n",
            "tensor([[ 0.8676, -0.5032, -0.1045]], grad_fn=<DifferentiableGraphBackward>)\n",
            "1\n",
            "tensor([[ 0.4851, -0.1760, -0.0383]], grad_fn=<DifferentiableGraphBackward>)\n",
            "1\n",
            "tensor([[ 1.0262, -0.6388, -0.1320]], grad_fn=<DifferentiableGraphBackward>)\n",
            "1\n",
            "tensor([[0.1891, 0.0772, 0.0128]], grad_fn=<DifferentiableGraphBackward>)\n",
            "1\n",
            "tensor([[ 1.4699, -0.9788, -0.2164]], grad_fn=<DifferentiableGraphBackward>)\n",
            "1\n",
            "tensor([[ 0.5244, -0.2090, -0.0446]], grad_fn=<DifferentiableGraphBackward>)\n",
            "1\n",
            "tensor([[0.0523, 0.1954, 0.0270]], grad_fn=<DifferentiableGraphBackward>)\n",
            "1\n",
            "tensor([[ 0.3867, -0.0919, -0.0210]], grad_fn=<DifferentiableGraphBackward>)\n",
            "1\n",
            "tensor([[-0.0472,  0.3015,  0.0249]], grad_fn=<DifferentiableGraphBackward>)\n",
            "1\n",
            "tensor([[0.0829, 0.1690, 0.0275]], grad_fn=<DifferentiableGraphBackward>)\n",
            "1\n",
            "tensor([[-0.2221,  0.5486, -0.0011]], grad_fn=<DifferentiableGraphBackward>)\n"
          ]
        }
      ]
    },
    {
      "cell_type": "code",
      "source": [
        "fixture_data = pd.read_excel('/content/drive/MyDrive/APS360_Project/Match_Data/Fixtures_With_Players/2023-2024.xlsx').drop(columns=['Unnamed: 0'])"
      ],
      "metadata": {
        "id": "sd9w95o46TPU"
      },
      "execution_count": null,
      "outputs": []
    },
    {
      "cell_type": "code",
      "source": [
        "fixture_data = fixture_data.drop(columns=[col for col in fixture_data.columns if col.endswith('-url')])\n"
      ],
      "metadata": {
        "id": "mOC5-_rLMoh7"
      },
      "execution_count": null,
      "outputs": []
    },
    {
      "cell_type": "code",
      "source": [
        "squad_data_df = pd.read_excel('/content/drive/MyDrive/APS360_Project/Squad_data/squad_data_stats.xls',sheet_name='2022-2023')\n",
        "player_data_df = pd.read_excel('/content/drive/MyDrive/APS360_Project/Player_data/player_data_cleaned/2022-2023.xlsx',sheet_name='Players').drop(columns = ['Unnamed: 0'])\n",
        "player_data_df = player_data_df.fillna(0)\n",
        "squad_standings_df = pd.read_excel('/content/drive/MyDrive/APS360_Project/Squad_data/standings_dataframes.xlsx',sheet_name='2022-2023').drop(columns = ['Unnamed: 0'])"
      ],
      "metadata": {
        "id": "UmDXFdM9NAoO"
      },
      "execution_count": null,
      "outputs": []
    },
    {
      "cell_type": "code",
      "source": [
        "player_data_df = player_data_df.groupby('Player').agg({'Age': 'max', 'MP': 'sum', 'Min': 'sum', 'Gls': 'sum', 'Ast': 'sum', 'PK': 'sum', 'PKatt': 'sum', 'CrdY': 'sum', 'CrdR': 'sum', 'Starts': 'sum'})"
      ],
      "metadata": {
        "id": "x4oegyIyi82U"
      },
      "execution_count": null,
      "outputs": []
    },
    {
      "cell_type": "code",
      "source": [
        "squad_data_df = pd.read_excel('/content/drive/MyDrive/APS360_Project/Squad_data/squad_data_stats.xls',sheet_name='2022-2023')\n",
        "squad_data_df = squad_standings_df.merge(squad_data_df, on = 'Squad', how='left')"
      ],
      "metadata": {
        "id": "tDzp8jYhg7Vr"
      },
      "execution_count": null,
      "outputs": []
    },
    {
      "cell_type": "code",
      "source": [
        "fixture_data_2 = pd.read_excel('/content/drive/MyDrive/APS360_Project/Match_Data/cleaned_fixture_data.xlsx', sheet_name='2023-2024').drop(columns=['Unnamed: 0'])"
      ],
      "metadata": {
        "id": "-XeB7h8cNCVT"
      },
      "execution_count": null,
      "outputs": []
    },
    {
      "cell_type": "code",
      "source": [
        "fixture_data = fixture_data.merge(fixture_data_2, on=['Home','Away'], how='right')"
      ],
      "metadata": {
        "id": "J_pC5fI5X9iX"
      },
      "execution_count": null,
      "outputs": []
    },
    {
      "cell_type": "code",
      "source": [
        "fixture_data = fixture_data.merge(squad_data_df, left_on=['Home'], right_on='Squad', how='left')"
      ],
      "metadata": {
        "id": "BusU8JEjX-bQ"
      },
      "execution_count": null,
      "outputs": []
    },
    {
      "cell_type": "code",
      "source": [
        "fixture_data = fixture_data.merge(squad_data_df, left_on=['Away'], right_on='Squad', how='left', suffixes=['_home','_away'])"
      ],
      "metadata": {
        "id": "oyYFnNO4fNz6"
      },
      "execution_count": null,
      "outputs": []
    },
    {
      "cell_type": "code",
      "source": [
        "home_player_cols = [col for col in fixture_data.columns if col.startswith('Home-Player')]\n",
        "away_player_cols = [col for col in fixture_data.columns if col.startswith('Away-Player')]"
      ],
      "metadata": {
        "id": "asBCy4Pifm95"
      },
      "execution_count": null,
      "outputs": []
    },
    {
      "cell_type": "code",
      "source": [
        "for i, player_col in enumerate(home_player_cols):\n",
        "  if i==0:\n",
        "    continue\n",
        "  fixture_data = fixture_data.merge(player_data_df, left_on=[player_col], right_on='Player', how='left', suffixes = ['',f'_home_player_{i+1}'])\n",
        "\n",
        "for i, player_col in enumerate(away_player_cols):\n",
        "  if i==0:\n",
        "    continue\n",
        "  fixture_data = fixture_data.merge(player_data_df, left_on=[player_col], right_on='Player', how='left', suffixes = ['',f'_away_player_{i+1}'])\n"
      ],
      "metadata": {
        "id": "r6heSe83gA4h"
      },
      "execution_count": null,
      "outputs": []
    },
    {
      "cell_type": "code",
      "source": [
        "fixture_data.drop(columns=home_player_cols+away_player_cols, inplace= True)"
      ],
      "metadata": {
        "id": "owHLLLkuioQh"
      },
      "execution_count": null,
      "outputs": []
    },
    {
      "cell_type": "code",
      "source": [
        "\n",
        "fixture_data.rename(columns={'Age':'Age_home_player_2',\n",
        " 'MP':'MP_home_player_2',\n",
        " 'Min':'Min_home_player_2',\n",
        " 'Gls':'Gls_home_player_2',\n",
        " 'Ast':'Ast_home_player_2',\n",
        " 'PK':'PK_home_player_2',\n",
        " 'PKatt':'PKatt_home_player_2',\n",
        " 'CrdY':'CrdY_home_player_2',\n",
        " 'CrdR':'CrdR_home_player_2',\n",
        " 'Starts':'Starts_home_player_2'}, inplace=True)\n"
      ],
      "metadata": {
        "id": "GuryhXkYoovS"
      },
      "execution_count": null,
      "outputs": []
    },
    {
      "cell_type": "code",
      "source": [
        "\n",
        "fixture_data.drop(columns=['Home', 'Away','Score'], inplace = True)"
      ],
      "metadata": {
        "id": "CQSgHwXajMC9"
      },
      "execution_count": null,
      "outputs": []
    },
    {
      "cell_type": "code",
      "source": [
        "fixture_data.drop(columns=['Squad_away', 'Squad_home'], inplace = True)"
      ],
      "metadata": {
        "id": "-aScXTF9moh-"
      },
      "execution_count": null,
      "outputs": []
    },
    {
      "cell_type": "code",
      "source": [
        "\n",
        "import pandas as pd\n",
        "\n",
        "# Read the Excel file\n",
        "df = pd.read_excel(\"/content/drive/MyDrive/APS360_Project/Match_Data/FinalMatchData.xlsx\")\n",
        "\n",
        "\n"
      ],
      "metadata": {
        "id": "sPTZPS4hnXJe"
      },
      "execution_count": null,
      "outputs": []
    },
    {
      "cell_type": "code",
      "source": [
        "df.drop(columns=['Unnamed: 0'],inplace=True)\n"
      ],
      "metadata": {
        "id": "aHEL5fhvnjXU"
      },
      "execution_count": null,
      "outputs": []
    },
    {
      "cell_type": "code",
      "source": [
        "#  rearrange columns to fit out model input format\n",
        "column_names = list(df.columns)\n",
        "fixture_data = fixture_data[column_names]"
      ],
      "metadata": {
        "id": "vjf-w6CBneIH"
      },
      "execution_count": null,
      "outputs": []
    },
    {
      "cell_type": "code",
      "source": [
        "\n",
        "fixture_data = fixture_data[-150:]\n"
      ],
      "metadata": {
        "id": "mCmhvFJEEMFL"
      },
      "execution_count": null,
      "outputs": []
    },
    {
      "cell_type": "code",
      "source": [
        "import pandas as pd\n",
        "import matplotlib.pyplot as plt\n",
        "import torch\n",
        "import torch.nn as nn\n",
        "import torch.nn.functional as F\n",
        "import torch.optim as optim\n",
        "import matplotlib.pyplot as plt\n",
        "from torch.utils.data import TensorDataset, DataLoader\n",
        "from sklearn.preprocessing import MinMaxScaler"
      ],
      "metadata": {
        "id": "ksB-GFxLnzQn"
      },
      "execution_count": null,
      "outputs": []
    },
    {
      "cell_type": "code",
      "source": [
        "# Assuming 'winner_indices' is the column name for labels\n",
        "labels = fixture_data['winner'].values\n",
        "\n",
        "# Drop the label column to get features\n",
        "features = fixture_data.drop(columns=['winner']).values\n",
        "\n",
        "# Instantiate the MinMaxScaler\n",
        "scaler = MinMaxScaler()\n",
        "\n",
        "# Fit and transform the features\n",
        "normalized_features = scaler.fit_transform(features)\n",
        "\n",
        "# Convert to PyTorch tensors\n",
        "features_tensor = torch.tensor(normalized_features, dtype=torch.float32)\n",
        "labels_tensor = torch.tensor(labels, dtype=torch.long)\n",
        "\n",
        "features_tensor[torch.isnan(features_tensor)] = 0"
      ],
      "metadata": {
        "id": "mE_5iQBcpnYk"
      },
      "execution_count": null,
      "outputs": []
    },
    {
      "cell_type": "code",
      "source": [
        "test_dataset = TensorDataset(features_tensor, labels_tensor)"
      ],
      "metadata": {
        "id": "CJ7pP7L7p7oC"
      },
      "execution_count": null,
      "outputs": []
    },
    {
      "cell_type": "code",
      "source": [
        "# prompt: get accuracy of /content/drive/MyDrive/APS360_Project/Models/final_model_scripted.pt on test_dataset\n",
        "\n",
        "model = torch.jit.load('/content/drive/MyDrive/APS360_Project/Models/final_model_scripted.pt')\n",
        "model.eval()\n",
        "get_accuracy(model=model, test = True, certainty = 0)\n"
      ],
      "metadata": {
        "colab": {
          "base_uri": "https://localhost:8080/"
        },
        "id": "qv0WaELKp9Qx",
        "outputId": "312b558a-fc47-4109-d9e7-15aa6ac9d9e3"
      },
      "execution_count": null,
      "outputs": [
        {
          "output_type": "stream",
          "name": "stdout",
          "text": [
            "246\n",
            "246\n",
            "246\n"
          ]
        },
        {
          "output_type": "execute_result",
          "data": {
            "text/plain": [
              "(0.5, 150, [84.66666666666667, 15.333333333333332, 0.0])"
            ]
          },
          "metadata": {},
          "execution_count": 44
        }
      ]
    },
    {
      "cell_type": "code",
      "source": [
        "get_accuracy(model=model, test = True, certainty = 0.1)"
      ],
      "metadata": {
        "colab": {
          "base_uri": "https://localhost:8080/"
        },
        "id": "tas_-QRLr1Fb",
        "outputId": "5a984458-7033-4335-d672-0fcc39b3a844"
      },
      "execution_count": null,
      "outputs": [
        {
          "output_type": "stream",
          "name": "stdout",
          "text": [
            "246\n",
            "246\n",
            "246\n"
          ]
        },
        {
          "output_type": "execute_result",
          "data": {
            "text/plain": [
              "(0.5, 150, [84.66666666666667, 15.333333333333332, 0.0])"
            ]
          },
          "metadata": {},
          "execution_count": 45
        }
      ]
    },
    {
      "cell_type": "code",
      "source": [
        "get_accuracy(model=model, test = True, certainty = 0.3)"
      ],
      "metadata": {
        "colab": {
          "base_uri": "https://localhost:8080/"
        },
        "id": "V73HCM2AC2_Z",
        "outputId": "45b907a2-1c7e-483d-e25d-802e6945aaa9"
      },
      "execution_count": null,
      "outputs": [
        {
          "output_type": "stream",
          "name": "stdout",
          "text": [
            "246\n",
            "246\n",
            "246\n"
          ]
        },
        {
          "output_type": "execute_result",
          "data": {
            "text/plain": [
              "(0.5223880597014925, 134, [87.31343283582089, 12.686567164179104, 0.0])"
            ]
          },
          "metadata": {},
          "execution_count": 46
        }
      ]
    },
    {
      "cell_type": "code",
      "source": [
        "get_accuracy(model=model, test = True, certainty = 0.5)"
      ],
      "metadata": {
        "colab": {
          "base_uri": "https://localhost:8080/"
        },
        "id": "tgKGXA-9C4G6",
        "outputId": "cc9c5395-2d98-4f58-bf26-2878f9a4421f"
      },
      "execution_count": null,
      "outputs": [
        {
          "output_type": "stream",
          "name": "stdout",
          "text": [
            "246\n",
            "246\n",
            "246\n"
          ]
        },
        {
          "output_type": "execute_result",
          "data": {
            "text/plain": [
              "(0.525, 120, [86.66666666666667, 13.333333333333334, 0.0])"
            ]
          },
          "metadata": {},
          "execution_count": 47
        }
      ]
    },
    {
      "cell_type": "code",
      "source": [
        "get_accuracy(model=model, test = True, certainty = 0.7)"
      ],
      "metadata": {
        "colab": {
          "base_uri": "https://localhost:8080/"
        },
        "id": "UCQNZQZgC56L",
        "outputId": "e856b60b-74cd-440f-f0fd-be74776b5fb8"
      },
      "execution_count": null,
      "outputs": [
        {
          "output_type": "stream",
          "name": "stdout",
          "text": [
            "246\n",
            "246\n",
            "246\n"
          ]
        },
        {
          "output_type": "execute_result",
          "data": {
            "text/plain": [
              "(0.5370370370370371, 108, [87.03703703703704, 12.962962962962962, 0.0])"
            ]
          },
          "metadata": {},
          "execution_count": 48
        }
      ]
    },
    {
      "cell_type": "code",
      "source": [
        "get_accuracy(model=model, test = True, certainty = 0.9)"
      ],
      "metadata": {
        "colab": {
          "base_uri": "https://localhost:8080/"
        },
        "id": "zsZPeglSC7a0",
        "outputId": "96e0577f-24ba-45f0-cbcd-6f24860c1a2f"
      },
      "execution_count": null,
      "outputs": [
        {
          "output_type": "stream",
          "name": "stdout",
          "text": [
            "246\n",
            "246\n",
            "246\n"
          ]
        },
        {
          "output_type": "execute_result",
          "data": {
            "text/plain": [
              "(0.5555555555555556, 99, [87.87878787878788, 12.121212121212121, 0.0])"
            ]
          },
          "metadata": {},
          "execution_count": 49
        }
      ]
    },
    {
      "cell_type": "code",
      "source": [],
      "metadata": {
        "id": "M3ydAc_2DlVd"
      },
      "execution_count": null,
      "outputs": []
    },
    {
      "cell_type": "code",
      "source": [
        "fixture_data = pd.read_excel('/content/drive/MyDrive/APS360_Project/Match_Data/Fixtures_With_Players/2023-2024.xlsx').drop(columns=['Unnamed: 0'])"
      ],
      "metadata": {
        "id": "oXXCRTuxmkMT"
      },
      "execution_count": null,
      "outputs": []
    },
    {
      "cell_type": "code",
      "source": [
        "fixture_data = fixture_data.drop(columns=[col for col in fixture_data.columns if col.endswith('-url')])\n"
      ],
      "metadata": {
        "id": "kroOpO5XmkMi"
      },
      "execution_count": null,
      "outputs": []
    },
    {
      "cell_type": "code",
      "source": [
        "squad_data_df = pd.read_excel('/content/drive/MyDrive/APS360_Project/Squad_data/squad_data_stats.xls',sheet_name='2022-2023')\n",
        "player_data_df = pd.read_excel('/content/drive/MyDrive/APS360_Project/Player_data/player_data_cleaned/2022-2023.xlsx',sheet_name='Players').drop(columns = ['Unnamed: 0'])\n",
        "player_data_df = player_data_df.fillna(0)\n",
        "squad_standings_df = pd.read_excel('/content/drive/MyDrive/APS360_Project/Squad_data/standings_dataframes.xlsx',sheet_name='2022-2023').drop(columns = ['Unnamed: 0'])"
      ],
      "metadata": {
        "id": "hfPZpAZJmkMi"
      },
      "execution_count": null,
      "outputs": []
    },
    {
      "cell_type": "code",
      "source": [
        "player_data_df = player_data_df.groupby('Player').agg({'Age': 'max', 'MP': 'sum', 'Min': 'sum', 'Gls': 'sum', 'Ast': 'sum', 'PK': 'sum', 'PKatt': 'sum', 'CrdY': 'sum', 'CrdR': 'sum', 'Starts': 'sum'})"
      ],
      "metadata": {
        "id": "qjy6ME19mkMj"
      },
      "execution_count": null,
      "outputs": []
    },
    {
      "cell_type": "code",
      "source": [
        "squad_data_df = pd.read_excel('/content/drive/MyDrive/APS360_Project/Squad_data/squad_data_stats.xls',sheet_name='2022-2023')\n",
        "squad_data_df = squad_standings_df.merge(squad_data_df, on = 'Squad', how='left')"
      ],
      "metadata": {
        "id": "LYhZmsNrmkMj"
      },
      "execution_count": null,
      "outputs": []
    },
    {
      "cell_type": "code",
      "source": [
        "fixture_data_2 = pd.read_excel('/content/drive/MyDrive/APS360_Project/Match_Data/cleaned_fixture_data.xlsx', sheet_name='2023-2024').drop(columns=['Unnamed: 0'])"
      ],
      "metadata": {
        "id": "xXfMEmasmkMj"
      },
      "execution_count": null,
      "outputs": []
    },
    {
      "cell_type": "code",
      "source": [
        "fixture_data = fixture_data.merge(fixture_data_2, on=['Home','Away'], how='right')"
      ],
      "metadata": {
        "id": "S9xAksP2mkMk"
      },
      "execution_count": null,
      "outputs": []
    },
    {
      "cell_type": "code",
      "source": [
        "fixture_data = fixture_data.merge(squad_data_df, left_on=['Home'], right_on='Squad', how='left')"
      ],
      "metadata": {
        "id": "9Vo6hJUZmkMk"
      },
      "execution_count": null,
      "outputs": []
    },
    {
      "cell_type": "code",
      "source": [
        "fixture_data = fixture_data.merge(squad_data_df, left_on=['Away'], right_on='Squad', how='left', suffixes=['_home','_away'])"
      ],
      "metadata": {
        "id": "pErTCkMYmkMl"
      },
      "execution_count": null,
      "outputs": []
    },
    {
      "cell_type": "code",
      "source": [
        "home_player_cols = [col for col in fixture_data.columns if col.startswith('Home-Player')]\n",
        "away_player_cols = [col for col in fixture_data.columns if col.startswith('Away-Player')]"
      ],
      "metadata": {
        "id": "jA431AJZmkMl"
      },
      "execution_count": null,
      "outputs": []
    },
    {
      "cell_type": "code",
      "source": [
        "for i, player_col in enumerate(home_player_cols):\n",
        "  if i==0:\n",
        "    continue\n",
        "  fixture_data = fixture_data.merge(player_data_df, left_on=[player_col], right_on='Player', how='left', suffixes = ['',f'_home_player_{i+1}'])\n",
        "\n",
        "for i, player_col in enumerate(away_player_cols):\n",
        "  if i==0:\n",
        "    continue\n",
        "  fixture_data = fixture_data.merge(player_data_df, left_on=[player_col], right_on='Player', how='left', suffixes = ['',f'_away_player_{i+1}'])\n"
      ],
      "metadata": {
        "id": "DVxXpCqKmkMl"
      },
      "execution_count": null,
      "outputs": []
    },
    {
      "cell_type": "code",
      "source": [
        "fixture_data.drop(columns=home_player_cols+away_player_cols, inplace= True)"
      ],
      "metadata": {
        "id": "vp3CObqPmkMm"
      },
      "execution_count": null,
      "outputs": []
    },
    {
      "cell_type": "code",
      "source": [
        "\n",
        "fixture_data.rename(columns={'Age':'Age_home_player_2',\n",
        " 'MP':'MP_home_player_2',\n",
        " 'Min':'Min_home_player_2',\n",
        " 'Gls':'Gls_home_player_2',\n",
        " 'Ast':'Ast_home_player_2',\n",
        " 'PK':'PK_home_player_2',\n",
        " 'PKatt':'PKatt_home_player_2',\n",
        " 'CrdY':'CrdY_home_player_2',\n",
        " 'CrdR':'CrdR_home_player_2',\n",
        " 'Starts':'Starts_home_player_2'}, inplace=True)\n"
      ],
      "metadata": {
        "id": "wdFzs2kqmkMm"
      },
      "execution_count": null,
      "outputs": []
    },
    {
      "cell_type": "code",
      "source": [
        "\n",
        "fixture_data.drop(columns=['Home', 'Away','Score'], inplace = True)"
      ],
      "metadata": {
        "id": "fyh07vH9mkMn"
      },
      "execution_count": null,
      "outputs": []
    },
    {
      "cell_type": "code",
      "source": [
        "fixture_data.drop(columns=['Squad_away', 'Squad_home'], inplace = True)"
      ],
      "metadata": {
        "id": "BZzCewAzmkMn"
      },
      "execution_count": null,
      "outputs": []
    },
    {
      "cell_type": "code",
      "source": [
        "\n",
        "import pandas as pd\n",
        "\n",
        "# Read the Excel file\n",
        "df = pd.read_excel(\"/content/drive/MyDrive/APS360_Project/Match_Data/FinalMatchData.xlsx\")\n",
        "\n",
        "\n"
      ],
      "metadata": {
        "id": "qSbUrJrTmkMo"
      },
      "execution_count": null,
      "outputs": []
    },
    {
      "cell_type": "code",
      "source": [
        "df.drop(columns=['Unnamed: 0'],inplace=True)\n"
      ],
      "metadata": {
        "colab": {
          "base_uri": "https://localhost:8080/",
          "height": 297
        },
        "id": "IHn_HvgjmkMo",
        "outputId": "9820d225-6251-445f-8a3c-8e05bdb7a367"
      },
      "execution_count": null,
      "outputs": [
        {
          "output_type": "error",
          "ename": "KeyError",
          "evalue": "\"['Unnamed: 0'] not found in axis\"",
          "traceback": [
            "\u001b[0;31m---------------------------------------------------------------------------\u001b[0m",
            "\u001b[0;31mKeyError\u001b[0m                                  Traceback (most recent call last)",
            "\u001b[0;32m<ipython-input-94-eb3aa302b57c>\u001b[0m in \u001b[0;36m<cell line: 1>\u001b[0;34m()\u001b[0m\n\u001b[0;32m----> 1\u001b[0;31m \u001b[0mdf\u001b[0m\u001b[0;34m.\u001b[0m\u001b[0mdrop\u001b[0m\u001b[0;34m(\u001b[0m\u001b[0mcolumns\u001b[0m\u001b[0;34m=\u001b[0m\u001b[0;34m[\u001b[0m\u001b[0;34m'Unnamed: 0'\u001b[0m\u001b[0;34m]\u001b[0m\u001b[0;34m,\u001b[0m\u001b[0minplace\u001b[0m\u001b[0;34m=\u001b[0m\u001b[0;32mTrue\u001b[0m\u001b[0;34m)\u001b[0m\u001b[0;34m\u001b[0m\u001b[0;34m\u001b[0m\u001b[0m\n\u001b[0m",
            "\u001b[0;32m/usr/local/lib/python3.10/dist-packages/pandas/core/frame.py\u001b[0m in \u001b[0;36mdrop\u001b[0;34m(self, labels, axis, index, columns, level, inplace, errors)\u001b[0m\n\u001b[1;32m   5256\u001b[0m                 \u001b[0mweight\u001b[0m  \u001b[0;36m1.0\u001b[0m     \u001b[0;36m0.8\u001b[0m\u001b[0;34m\u001b[0m\u001b[0;34m\u001b[0m\u001b[0m\n\u001b[1;32m   5257\u001b[0m         \"\"\"\n\u001b[0;32m-> 5258\u001b[0;31m         return super().drop(\n\u001b[0m\u001b[1;32m   5259\u001b[0m             \u001b[0mlabels\u001b[0m\u001b[0;34m=\u001b[0m\u001b[0mlabels\u001b[0m\u001b[0;34m,\u001b[0m\u001b[0;34m\u001b[0m\u001b[0;34m\u001b[0m\u001b[0m\n\u001b[1;32m   5260\u001b[0m             \u001b[0maxis\u001b[0m\u001b[0;34m=\u001b[0m\u001b[0maxis\u001b[0m\u001b[0;34m,\u001b[0m\u001b[0;34m\u001b[0m\u001b[0;34m\u001b[0m\u001b[0m\n",
            "\u001b[0;32m/usr/local/lib/python3.10/dist-packages/pandas/core/generic.py\u001b[0m in \u001b[0;36mdrop\u001b[0;34m(self, labels, axis, index, columns, level, inplace, errors)\u001b[0m\n\u001b[1;32m   4547\u001b[0m         \u001b[0;32mfor\u001b[0m \u001b[0maxis\u001b[0m\u001b[0;34m,\u001b[0m \u001b[0mlabels\u001b[0m \u001b[0;32min\u001b[0m \u001b[0maxes\u001b[0m\u001b[0;34m.\u001b[0m\u001b[0mitems\u001b[0m\u001b[0;34m(\u001b[0m\u001b[0;34m)\u001b[0m\u001b[0;34m:\u001b[0m\u001b[0;34m\u001b[0m\u001b[0;34m\u001b[0m\u001b[0m\n\u001b[1;32m   4548\u001b[0m             \u001b[0;32mif\u001b[0m \u001b[0mlabels\u001b[0m \u001b[0;32mis\u001b[0m \u001b[0;32mnot\u001b[0m \u001b[0;32mNone\u001b[0m\u001b[0;34m:\u001b[0m\u001b[0;34m\u001b[0m\u001b[0;34m\u001b[0m\u001b[0m\n\u001b[0;32m-> 4549\u001b[0;31m                 \u001b[0mobj\u001b[0m \u001b[0;34m=\u001b[0m \u001b[0mobj\u001b[0m\u001b[0;34m.\u001b[0m\u001b[0m_drop_axis\u001b[0m\u001b[0;34m(\u001b[0m\u001b[0mlabels\u001b[0m\u001b[0;34m,\u001b[0m \u001b[0maxis\u001b[0m\u001b[0;34m,\u001b[0m \u001b[0mlevel\u001b[0m\u001b[0;34m=\u001b[0m\u001b[0mlevel\u001b[0m\u001b[0;34m,\u001b[0m \u001b[0merrors\u001b[0m\u001b[0;34m=\u001b[0m\u001b[0merrors\u001b[0m\u001b[0;34m)\u001b[0m\u001b[0;34m\u001b[0m\u001b[0;34m\u001b[0m\u001b[0m\n\u001b[0m\u001b[1;32m   4550\u001b[0m \u001b[0;34m\u001b[0m\u001b[0m\n\u001b[1;32m   4551\u001b[0m         \u001b[0;32mif\u001b[0m \u001b[0minplace\u001b[0m\u001b[0;34m:\u001b[0m\u001b[0;34m\u001b[0m\u001b[0;34m\u001b[0m\u001b[0m\n",
            "\u001b[0;32m/usr/local/lib/python3.10/dist-packages/pandas/core/generic.py\u001b[0m in \u001b[0;36m_drop_axis\u001b[0;34m(self, labels, axis, level, errors, only_slice)\u001b[0m\n\u001b[1;32m   4589\u001b[0m                 \u001b[0mnew_axis\u001b[0m \u001b[0;34m=\u001b[0m \u001b[0maxis\u001b[0m\u001b[0;34m.\u001b[0m\u001b[0mdrop\u001b[0m\u001b[0;34m(\u001b[0m\u001b[0mlabels\u001b[0m\u001b[0;34m,\u001b[0m \u001b[0mlevel\u001b[0m\u001b[0;34m=\u001b[0m\u001b[0mlevel\u001b[0m\u001b[0;34m,\u001b[0m \u001b[0merrors\u001b[0m\u001b[0;34m=\u001b[0m\u001b[0merrors\u001b[0m\u001b[0;34m)\u001b[0m\u001b[0;34m\u001b[0m\u001b[0;34m\u001b[0m\u001b[0m\n\u001b[1;32m   4590\u001b[0m             \u001b[0;32melse\u001b[0m\u001b[0;34m:\u001b[0m\u001b[0;34m\u001b[0m\u001b[0;34m\u001b[0m\u001b[0m\n\u001b[0;32m-> 4591\u001b[0;31m                 \u001b[0mnew_axis\u001b[0m \u001b[0;34m=\u001b[0m \u001b[0maxis\u001b[0m\u001b[0;34m.\u001b[0m\u001b[0mdrop\u001b[0m\u001b[0;34m(\u001b[0m\u001b[0mlabels\u001b[0m\u001b[0;34m,\u001b[0m \u001b[0merrors\u001b[0m\u001b[0;34m=\u001b[0m\u001b[0merrors\u001b[0m\u001b[0;34m)\u001b[0m\u001b[0;34m\u001b[0m\u001b[0;34m\u001b[0m\u001b[0m\n\u001b[0m\u001b[1;32m   4592\u001b[0m             \u001b[0mindexer\u001b[0m \u001b[0;34m=\u001b[0m \u001b[0maxis\u001b[0m\u001b[0;34m.\u001b[0m\u001b[0mget_indexer\u001b[0m\u001b[0;34m(\u001b[0m\u001b[0mnew_axis\u001b[0m\u001b[0;34m)\u001b[0m\u001b[0;34m\u001b[0m\u001b[0;34m\u001b[0m\u001b[0m\n\u001b[1;32m   4593\u001b[0m \u001b[0;34m\u001b[0m\u001b[0m\n",
            "\u001b[0;32m/usr/local/lib/python3.10/dist-packages/pandas/core/indexes/base.py\u001b[0m in \u001b[0;36mdrop\u001b[0;34m(self, labels, errors)\u001b[0m\n\u001b[1;32m   6697\u001b[0m         \u001b[0;32mif\u001b[0m \u001b[0mmask\u001b[0m\u001b[0;34m.\u001b[0m\u001b[0many\u001b[0m\u001b[0;34m(\u001b[0m\u001b[0;34m)\u001b[0m\u001b[0;34m:\u001b[0m\u001b[0;34m\u001b[0m\u001b[0;34m\u001b[0m\u001b[0m\n\u001b[1;32m   6698\u001b[0m             \u001b[0;32mif\u001b[0m \u001b[0merrors\u001b[0m \u001b[0;34m!=\u001b[0m \u001b[0;34m\"ignore\"\u001b[0m\u001b[0;34m:\u001b[0m\u001b[0;34m\u001b[0m\u001b[0;34m\u001b[0m\u001b[0m\n\u001b[0;32m-> 6699\u001b[0;31m                 \u001b[0;32mraise\u001b[0m \u001b[0mKeyError\u001b[0m\u001b[0;34m(\u001b[0m\u001b[0;34mf\"{list(labels[mask])} not found in axis\"\u001b[0m\u001b[0;34m)\u001b[0m\u001b[0;34m\u001b[0m\u001b[0;34m\u001b[0m\u001b[0m\n\u001b[0m\u001b[1;32m   6700\u001b[0m             \u001b[0mindexer\u001b[0m \u001b[0;34m=\u001b[0m \u001b[0mindexer\u001b[0m\u001b[0;34m[\u001b[0m\u001b[0;34m~\u001b[0m\u001b[0mmask\u001b[0m\u001b[0;34m]\u001b[0m\u001b[0;34m\u001b[0m\u001b[0;34m\u001b[0m\u001b[0m\n\u001b[1;32m   6701\u001b[0m         \u001b[0;32mreturn\u001b[0m \u001b[0mself\u001b[0m\u001b[0;34m.\u001b[0m\u001b[0mdelete\u001b[0m\u001b[0;34m(\u001b[0m\u001b[0mindexer\u001b[0m\u001b[0;34m)\u001b[0m\u001b[0;34m\u001b[0m\u001b[0;34m\u001b[0m\u001b[0m\n",
            "\u001b[0;31mKeyError\u001b[0m: \"['Unnamed: 0'] not found in axis\""
          ]
        }
      ]
    },
    {
      "cell_type": "code",
      "source": [
        "#  rearrange columns to fit out model input format\n",
        "column_names = list(df.columns)\n",
        "fixture_data = fixture_data[column_names]"
      ],
      "metadata": {
        "id": "L0elYjbamkMp"
      },
      "execution_count": null,
      "outputs": []
    },
    {
      "cell_type": "code",
      "source": [
        "\n",
        "fixture_data_partial = fixture_data[:50]\n"
      ],
      "metadata": {
        "id": "IVC1dYh2mkMp"
      },
      "execution_count": null,
      "outputs": []
    },
    {
      "cell_type": "code",
      "source": [
        "import pandas as pd\n",
        "import matplotlib.pyplot as plt\n",
        "import torch\n",
        "import torch.nn as nn\n",
        "import torch.nn.functional as F\n",
        "import torch.optim as optim\n",
        "import matplotlib.pyplot as plt\n",
        "from torch.utils.data import TensorDataset, DataLoader\n",
        "from sklearn.preprocessing import MinMaxScaler"
      ],
      "metadata": {
        "id": "7jCNJE-rmkMq"
      },
      "execution_count": null,
      "outputs": []
    },
    {
      "cell_type": "code",
      "source": [
        "# Assuming 'winner_indices' is the column name for labels\n",
        "labels = fixture_data_partial['winner'].values\n",
        "\n",
        "# Drop the label column to get features\n",
        "features = fixture_data_partial.drop(columns=['winner']).values\n",
        "\n",
        "# Instantiate the MinMaxScaler\n",
        "scaler = MinMaxScaler()\n",
        "\n",
        "# Fit and transform the features\n",
        "normalized_features = scaler.fit_transform(features)\n",
        "\n",
        "# Convert to PyTorch tensors\n",
        "features_tensor = torch.tensor(normalized_features, dtype=torch.float32)\n",
        "labels_tensor = torch.tensor(labels, dtype=torch.long)\n",
        "\n",
        "features_tensor[torch.isnan(features_tensor)] = 0"
      ],
      "metadata": {
        "id": "2E-vlNramkMq"
      },
      "execution_count": null,
      "outputs": []
    },
    {
      "cell_type": "code",
      "source": [
        "test_dataset = TensorDataset(features_tensor, labels_tensor)"
      ],
      "metadata": {
        "id": "g9sB02KnmkMr"
      },
      "execution_count": null,
      "outputs": []
    },
    {
      "cell_type": "code",
      "source": [
        "# prompt: get accuracy of /content/drive/MyDrive/APS360_Project/Models/final_model_scripted.pt on test_dataset\n",
        "\n",
        "model = torch.jit.load('/content/drive/MyDrive/APS360_Project/Models/final_model_scripted.pt')\n",
        "model.eval()\n",
        "get_accuracy(model=model, test = True, certainty = 0)\n"
      ],
      "metadata": {
        "colab": {
          "base_uri": "https://localhost:8080/"
        },
        "outputId": "f79255fb-b4a9-495c-9f34-9a54968115de",
        "id": "XCTkAznfmkMr"
      },
      "execution_count": null,
      "outputs": [
        {
          "output_type": "stream",
          "name": "stdout",
          "text": [
            "246\n"
          ]
        },
        {
          "output_type": "execute_result",
          "data": {
            "text/plain": [
              "(0.48, 50, [92.0, 8.0, 0.0])"
            ]
          },
          "metadata": {},
          "execution_count": 136
        }
      ]
    },
    {
      "cell_type": "code",
      "source": [
        "get_accuracy(model=model, test = True, certainty = 0.1)"
      ],
      "metadata": {
        "colab": {
          "base_uri": "https://localhost:8080/"
        },
        "outputId": "8573676b-1cba-4bca-e27b-28c39d0ac64d",
        "id": "flcBce7VmkMs"
      },
      "execution_count": null,
      "outputs": [
        {
          "output_type": "stream",
          "name": "stdout",
          "text": [
            "246\n"
          ]
        },
        {
          "output_type": "execute_result",
          "data": {
            "text/plain": [
              "(0.48, 50, [92.0, 8.0, 0.0])"
            ]
          },
          "metadata": {},
          "execution_count": 137
        }
      ]
    },
    {
      "cell_type": "code",
      "source": [
        "get_accuracy(model=model, test = True, certainty = 0.3)"
      ],
      "metadata": {
        "colab": {
          "base_uri": "https://localhost:8080/"
        },
        "outputId": "17dbec6c-a1eb-477d-c951-8ea9aeb6f8ac",
        "id": "lnF0TUqPmkMs"
      },
      "execution_count": null,
      "outputs": [
        {
          "output_type": "stream",
          "name": "stdout",
          "text": [
            "246\n"
          ]
        },
        {
          "output_type": "execute_result",
          "data": {
            "text/plain": [
              "(0.4888888888888889, 45, [97.77777777777777, 2.2222222222222223, 0.0])"
            ]
          },
          "metadata": {},
          "execution_count": 138
        }
      ]
    },
    {
      "cell_type": "code",
      "source": [
        "get_accuracy(model=model, test = True, certainty = 0.5)"
      ],
      "metadata": {
        "colab": {
          "base_uri": "https://localhost:8080/"
        },
        "outputId": "999298f0-576f-4bd1-de8d-c6cc87ea38fa",
        "id": "6KgFaERRmkMt"
      },
      "execution_count": null,
      "outputs": [
        {
          "output_type": "stream",
          "name": "stdout",
          "text": [
            "246\n"
          ]
        },
        {
          "output_type": "execute_result",
          "data": {
            "text/plain": [
              "(0.5238095238095238, 42, [97.61904761904762, 2.380952380952381, 0.0])"
            ]
          },
          "metadata": {},
          "execution_count": 139
        }
      ]
    },
    {
      "cell_type": "code",
      "source": [
        "get_accuracy(model=model, test = True, certainty = 0.7)"
      ],
      "metadata": {
        "colab": {
          "base_uri": "https://localhost:8080/"
        },
        "outputId": "0f47a56b-3e0f-4b59-880e-b463ca258482",
        "id": "JWm8a0QXmkMu"
      },
      "execution_count": null,
      "outputs": [
        {
          "output_type": "stream",
          "name": "stdout",
          "text": [
            "246\n"
          ]
        },
        {
          "output_type": "execute_result",
          "data": {
            "text/plain": [
              "(0.5365853658536586, 41, [97.5609756097561, 2.4390243902439024, 0.0])"
            ]
          },
          "metadata": {},
          "execution_count": 140
        }
      ]
    },
    {
      "cell_type": "code",
      "source": [
        "get_accuracy(model=model, test = True, certainty = 0.9)"
      ],
      "metadata": {
        "colab": {
          "base_uri": "https://localhost:8080/"
        },
        "outputId": "871ed20d-018a-449f-b73f-46f4c2e28511",
        "id": "Ck347nFHmkMu"
      },
      "execution_count": null,
      "outputs": [
        {
          "output_type": "stream",
          "name": "stdout",
          "text": [
            "246\n",
            "246\n",
            "246\n",
            "246\n"
          ]
        },
        {
          "output_type": "execute_result",
          "data": {
            "text/plain": [
              "(0.5364238410596026, 151, [87.41721854304636, 12.582781456953644, 0.0])"
            ]
          },
          "metadata": {},
          "execution_count": 125
        }
      ]
    },
    {
      "cell_type": "code",
      "source": [],
      "metadata": {
        "id": "D8yP4dwomkMu"
      },
      "execution_count": null,
      "outputs": []
    }
  ]
}